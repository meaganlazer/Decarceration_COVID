{
 "cells": [
  {
   "cell_type": "markdown",
   "metadata": {},
   "source": [
    "# Imports"
   ]
  },
  {
   "cell_type": "code",
   "execution_count": 1,
   "metadata": {},
   "outputs": [],
   "source": [
    "# Import standard libraries\n",
    "import pandas as pd\n",
    "import seaborn as sns\n",
    "import numpy as np\n",
    "import matplotlib.pyplot as plt\n",
    "%matplotlib inline\n",
    "\n",
    "# API\n",
    "import requests\n",
    "import json\n",
    "import os\n",
    "\n",
    "# Datetime\n",
    "import datetime as datetime"
   ]
  },
  {
   "cell_type": "code",
   "execution_count": 2,
   "metadata": {},
   "outputs": [
    {
     "data": {
      "text/html": [
       "<div>\n",
       "<style scoped>\n",
       "    .dataframe tbody tr th:only-of-type {\n",
       "        vertical-align: middle;\n",
       "    }\n",
       "\n",
       "    .dataframe tbody tr th {\n",
       "        vertical-align: top;\n",
       "    }\n",
       "\n",
       "    .dataframe thead th {\n",
       "        text-align: right;\n",
       "    }\n",
       "</style>\n",
       "<table border=\"1\" class=\"dataframe\">\n",
       "  <thead>\n",
       "    <tr style=\"text-align: right;\">\n",
       "      <th></th>\n",
       "      <th>fips</th>\n",
       "      <th>date</th>\n",
       "      <th>jail_population</th>\n",
       "      <th>county_name</th>\n",
       "      <th>state_name</th>\n",
       "      <th>urbanicity</th>\n",
       "      <th>reporting_jurisdictions</th>\n",
       "      <th>resident_population</th>\n",
       "      <th>jail_incarceration_rate_per_100k</th>\n",
       "    </tr>\n",
       "  </thead>\n",
       "  <tbody>\n",
       "    <tr>\n",
       "      <th>0</th>\n",
       "      <td>1001</td>\n",
       "      <td>2020-01-01</td>\n",
       "      <td>185</td>\n",
       "      <td>Autauga County</td>\n",
       "      <td>Alabama</td>\n",
       "      <td>small/mid</td>\n",
       "      <td>Autauga Metro Jail</td>\n",
       "      <td>55869.0</td>\n",
       "      <td>331.1</td>\n",
       "    </tr>\n",
       "    <tr>\n",
       "      <th>1</th>\n",
       "      <td>1001</td>\n",
       "      <td>2020-01-02</td>\n",
       "      <td>184</td>\n",
       "      <td>Autauga County</td>\n",
       "      <td>Alabama</td>\n",
       "      <td>small/mid</td>\n",
       "      <td>Autauga Metro Jail</td>\n",
       "      <td>55869.0</td>\n",
       "      <td>329.3</td>\n",
       "    </tr>\n",
       "    <tr>\n",
       "      <th>2</th>\n",
       "      <td>1001</td>\n",
       "      <td>2020-01-03</td>\n",
       "      <td>178</td>\n",
       "      <td>Autauga County</td>\n",
       "      <td>Alabama</td>\n",
       "      <td>small/mid</td>\n",
       "      <td>Autauga Metro Jail</td>\n",
       "      <td>55869.0</td>\n",
       "      <td>318.6</td>\n",
       "    </tr>\n",
       "    <tr>\n",
       "      <th>3</th>\n",
       "      <td>1001</td>\n",
       "      <td>2020-01-04</td>\n",
       "      <td>177</td>\n",
       "      <td>Autauga County</td>\n",
       "      <td>Alabama</td>\n",
       "      <td>small/mid</td>\n",
       "      <td>Autauga Metro Jail</td>\n",
       "      <td>55869.0</td>\n",
       "      <td>316.8</td>\n",
       "    </tr>\n",
       "    <tr>\n",
       "      <th>4</th>\n",
       "      <td>1001</td>\n",
       "      <td>2020-01-05</td>\n",
       "      <td>183</td>\n",
       "      <td>Autauga County</td>\n",
       "      <td>Alabama</td>\n",
       "      <td>small/mid</td>\n",
       "      <td>Autauga Metro Jail</td>\n",
       "      <td>55869.0</td>\n",
       "      <td>327.6</td>\n",
       "    </tr>\n",
       "  </tbody>\n",
       "</table>\n",
       "</div>"
      ],
      "text/plain": [
       "   fips        date  jail_population     county_name state_name urbanicity  \\\n",
       "0  1001  2020-01-01              185  Autauga County    Alabama  small/mid   \n",
       "1  1001  2020-01-02              184  Autauga County    Alabama  small/mid   \n",
       "2  1001  2020-01-03              178  Autauga County    Alabama  small/mid   \n",
       "3  1001  2020-01-04              177  Autauga County    Alabama  small/mid   \n",
       "4  1001  2020-01-05              183  Autauga County    Alabama  small/mid   \n",
       "\n",
       "  reporting_jurisdictions  resident_population  \\\n",
       "0      Autauga Metro Jail              55869.0   \n",
       "1      Autauga Metro Jail              55869.0   \n",
       "2      Autauga Metro Jail              55869.0   \n",
       "3      Autauga Metro Jail              55869.0   \n",
       "4      Autauga Metro Jail              55869.0   \n",
       "\n",
       "   jail_incarceration_rate_per_100k  \n",
       "0                             331.1  \n",
       "1                             329.3  \n",
       "2                             318.6  \n",
       "3                             316.8  \n",
       "4                             327.6  "
      ]
     },
     "execution_count": 2,
     "metadata": {},
     "output_type": "execute_result"
    }
   ],
   "source": [
    "# https://github.com/vera-institute/jail-population-data\n",
    "\n",
    "vera_df = pd.read_csv('https://raw.githubusercontent.com/vera-institute/jail-population-data/master/jail_population.csv')\n",
    "vera_df.head()"
   ]
  },
  {
   "cell_type": "markdown",
   "metadata": {},
   "source": [
    "# EDA"
   ]
  },
  {
   "cell_type": "code",
   "execution_count": 3,
   "metadata": {},
   "outputs": [
    {
     "data": {
      "text/plain": [
       "(178809, 9)"
      ]
     },
     "execution_count": 3,
     "metadata": {},
     "output_type": "execute_result"
    }
   ],
   "source": [
    "vera_df.shape"
   ]
  },
  {
   "cell_type": "code",
   "execution_count": 14,
   "metadata": {},
   "outputs": [
    {
     "name": "stdout",
     "output_type": "stream",
     "text": [
      "<class 'pandas.core.frame.DataFrame'>\n",
      "RangeIndex: 178809 entries, 0 to 178808\n",
      "Data columns (total 9 columns):\n",
      " #   Column                            Non-Null Count   Dtype         \n",
      "---  ------                            --------------   -----         \n",
      " 0   fips                              178809 non-null  int64         \n",
      " 1   date                              178809 non-null  datetime64[ns]\n",
      " 2   jail_population                   178809 non-null  int64         \n",
      " 3   county_name                       178734 non-null  object        \n",
      " 4   state_name                        178664 non-null  object        \n",
      " 5   urbanicity                        178734 non-null  object        \n",
      " 6   reporting_jurisdictions           176780 non-null  object        \n",
      " 7   resident_population               178734 non-null  float64       \n",
      " 8   jail_incarceration_rate_per_100k  178734 non-null  float64       \n",
      "dtypes: datetime64[ns](1), float64(2), int64(2), object(4)\n",
      "memory usage: 12.3+ MB\n"
     ]
    }
   ],
   "source": [
    "vera_df.info()"
   ]
  },
  {
   "cell_type": "code",
   "execution_count": 16,
   "metadata": {},
   "outputs": [
    {
     "data": {
      "text/html": [
       "<div>\n",
       "<style scoped>\n",
       "    .dataframe tbody tr th:only-of-type {\n",
       "        vertical-align: middle;\n",
       "    }\n",
       "\n",
       "    .dataframe tbody tr th {\n",
       "        vertical-align: top;\n",
       "    }\n",
       "\n",
       "    .dataframe thead th {\n",
       "        text-align: right;\n",
       "    }\n",
       "</style>\n",
       "<table border=\"1\" class=\"dataframe\">\n",
       "  <thead>\n",
       "    <tr style=\"text-align: right;\">\n",
       "      <th></th>\n",
       "      <th>fips</th>\n",
       "      <th>date</th>\n",
       "      <th>jail_population</th>\n",
       "      <th>county_name</th>\n",
       "      <th>state_name</th>\n",
       "      <th>urbanicity</th>\n",
       "      <th>reporting_jurisdictions</th>\n",
       "      <th>resident_population</th>\n",
       "      <th>jail_incarceration_rate_per_100k</th>\n",
       "    </tr>\n",
       "  </thead>\n",
       "  <tbody>\n",
       "    <tr>\n",
       "      <th>0</th>\n",
       "      <td>1001</td>\n",
       "      <td>2020-01-01</td>\n",
       "      <td>185</td>\n",
       "      <td>Autauga County</td>\n",
       "      <td>Alabama</td>\n",
       "      <td>small/mid</td>\n",
       "      <td>Autauga Metro Jail</td>\n",
       "      <td>55869.0</td>\n",
       "      <td>331.1</td>\n",
       "    </tr>\n",
       "    <tr>\n",
       "      <th>1</th>\n",
       "      <td>1001</td>\n",
       "      <td>2020-01-02</td>\n",
       "      <td>184</td>\n",
       "      <td>Autauga County</td>\n",
       "      <td>Alabama</td>\n",
       "      <td>small/mid</td>\n",
       "      <td>Autauga Metro Jail</td>\n",
       "      <td>55869.0</td>\n",
       "      <td>329.3</td>\n",
       "    </tr>\n",
       "    <tr>\n",
       "      <th>2</th>\n",
       "      <td>1001</td>\n",
       "      <td>2020-01-03</td>\n",
       "      <td>178</td>\n",
       "      <td>Autauga County</td>\n",
       "      <td>Alabama</td>\n",
       "      <td>small/mid</td>\n",
       "      <td>Autauga Metro Jail</td>\n",
       "      <td>55869.0</td>\n",
       "      <td>318.6</td>\n",
       "    </tr>\n",
       "    <tr>\n",
       "      <th>3</th>\n",
       "      <td>1001</td>\n",
       "      <td>2020-01-04</td>\n",
       "      <td>177</td>\n",
       "      <td>Autauga County</td>\n",
       "      <td>Alabama</td>\n",
       "      <td>small/mid</td>\n",
       "      <td>Autauga Metro Jail</td>\n",
       "      <td>55869.0</td>\n",
       "      <td>316.8</td>\n",
       "    </tr>\n",
       "    <tr>\n",
       "      <th>4</th>\n",
       "      <td>1001</td>\n",
       "      <td>2020-01-05</td>\n",
       "      <td>183</td>\n",
       "      <td>Autauga County</td>\n",
       "      <td>Alabama</td>\n",
       "      <td>small/mid</td>\n",
       "      <td>Autauga Metro Jail</td>\n",
       "      <td>55869.0</td>\n",
       "      <td>327.6</td>\n",
       "    </tr>\n",
       "  </tbody>\n",
       "</table>\n",
       "</div>"
      ],
      "text/plain": [
       "   fips       date  jail_population     county_name state_name urbanicity  \\\n",
       "0  1001 2020-01-01              185  Autauga County    Alabama  small/mid   \n",
       "1  1001 2020-01-02              184  Autauga County    Alabama  small/mid   \n",
       "2  1001 2020-01-03              178  Autauga County    Alabama  small/mid   \n",
       "3  1001 2020-01-04              177  Autauga County    Alabama  small/mid   \n",
       "4  1001 2020-01-05              183  Autauga County    Alabama  small/mid   \n",
       "\n",
       "  reporting_jurisdictions  resident_population  \\\n",
       "0      Autauga Metro Jail              55869.0   \n",
       "1      Autauga Metro Jail              55869.0   \n",
       "2      Autauga Metro Jail              55869.0   \n",
       "3      Autauga Metro Jail              55869.0   \n",
       "4      Autauga Metro Jail              55869.0   \n",
       "\n",
       "   jail_incarceration_rate_per_100k  \n",
       "0                             331.1  \n",
       "1                             329.3  \n",
       "2                             318.6  \n",
       "3                             316.8  \n",
       "4                             327.6  "
      ]
     },
     "execution_count": 16,
     "metadata": {},
     "output_type": "execute_result"
    }
   ],
   "source": [
    "vera_df['date']=pd.to_datetime(vera_df['date'])\n",
    "vera_df.head()"
   ]
  },
  {
   "cell_type": "code",
   "execution_count": 13,
   "metadata": {},
   "outputs": [
    {
     "data": {
      "text/plain": [
       "<matplotlib.axes._subplots.AxesSubplot at 0x1a24c0d190>"
      ]
     },
     "execution_count": 13,
     "metadata": {},
     "output_type": "execute_result"
    },
    {
     "data": {
      "image/png": "[encoded data removed]",
      "text/plain": [
       "<Figure size 432x288 with 1 Axes>"
      ]
     },
     "metadata": {
      "needs_background": "light"
     },
     "output_type": "display_data"
    }
   ],
   "source": [
    "# Check for null values\n",
    "\n",
    "sns.heatmap(vera_df.isnull(), cbar=False)"
   ]
  },
  {
   "cell_type": "markdown",
   "metadata": {},
   "source": [
    "# Feature Engineering"
   ]
  },
  {
   "cell_type": "code",
   "execution_count": null,
   "metadata": {},
   "outputs": [],
   "source": [
    "#look into date issue"
   ]
  },
  {
   "cell_type": "code",
   "execution_count": null,
   "metadata": {},
   "outputs": [],
   "source": []
  },
  {
   "cell_type": "code",
   "execution_count": null,
   "metadata": {},
   "outputs": [],
   "source": []
  },
  {
   "cell_type": "code",
   "execution_count": null,
   "metadata": {},
   "outputs": [],
   "source": []
  }
 ],
 "metadata": {
  "kernelspec": {
   "display_name": "Python 3",
   "language": "python",
   "name": "python3"
  },
  "language_info": {
   "codemirror_mode": {
    "name": "ipython",
    "version": 3
   },
   "file_extension": ".py",
   "mimetype": "text/x-python",
   "name": "python",
   "nbconvert_exporter": "python",
   "pygments_lexer": "ipython3",
   "version": "3.7.7"
  },
  "toc": {
   "base_numbering": 1,
   "nav_menu": {},
   "number_sections": true,
   "sideBar": true,
   "skip_h1_title": false,
   "title_cell": "Table of Contents",
   "title_sidebar": "Contents",
   "toc_cell": false,
   "toc_position": {},
   "toc_section_display": true,
   "toc_window_display": false
  }
 },
 "nbformat": 4,
 "nbformat_minor": 4
}
