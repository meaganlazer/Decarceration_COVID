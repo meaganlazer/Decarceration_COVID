{
 "cells": [
  {
   "cell_type": "markdown",
   "metadata": {},
   "source": [
    "# Imports"
   ]
  },
  {
   "cell_type": "code",
   "execution_count": 20,
   "metadata": {},
   "outputs": [],
   "source": [
    "# Import standard libraries\n",
    "import pandas as pd\n",
    "import seaborn as sns\n",
    "import numpy as np\n",
    "import matplotlib as mpl\n",
    "import matplotlib.pyplot as plt\n",
    "%matplotlib inline\n",
    "\n",
    "# Datetime\n",
    "import datetime as datetime"
   ]
  },
  {
   "cell_type": "code",
   "execution_count": 2,
   "metadata": {},
   "outputs": [
    {
     "data": {
      "text/html": [
       "<div>\n",
       "<style scoped>\n",
       "    .dataframe tbody tr th:only-of-type {\n",
       "        vertical-align: middle;\n",
       "    }\n",
       "\n",
       "    .dataframe tbody tr th {\n",
       "        vertical-align: top;\n",
       "    }\n",
       "\n",
       "    .dataframe thead th {\n",
       "        text-align: right;\n",
       "    }\n",
       "</style>\n",
       "<table border=\"1\" class=\"dataframe\">\n",
       "  <thead>\n",
       "    <tr style=\"text-align: right;\">\n",
       "      <th></th>\n",
       "      <th>fips</th>\n",
       "      <th>date</th>\n",
       "      <th>jail_population</th>\n",
       "      <th>county_name</th>\n",
       "      <th>state_name</th>\n",
       "      <th>urbanicity</th>\n",
       "      <th>reporting_jurisdictions</th>\n",
       "      <th>resident_population</th>\n",
       "      <th>jail_incarceration_rate_per_100k</th>\n",
       "    </tr>\n",
       "  </thead>\n",
       "  <tbody>\n",
       "    <tr>\n",
       "      <th>0</th>\n",
       "      <td>1001</td>\n",
       "      <td>2020-01-01</td>\n",
       "      <td>185</td>\n",
       "      <td>Autauga County</td>\n",
       "      <td>Alabama</td>\n",
       "      <td>small/mid</td>\n",
       "      <td>Autauga Metro Jail</td>\n",
       "      <td>55869.0</td>\n",
       "      <td>331.1</td>\n",
       "    </tr>\n",
       "    <tr>\n",
       "      <th>1</th>\n",
       "      <td>1001</td>\n",
       "      <td>2020-01-02</td>\n",
       "      <td>184</td>\n",
       "      <td>Autauga County</td>\n",
       "      <td>Alabama</td>\n",
       "      <td>small/mid</td>\n",
       "      <td>Autauga Metro Jail</td>\n",
       "      <td>55869.0</td>\n",
       "      <td>329.3</td>\n",
       "    </tr>\n",
       "    <tr>\n",
       "      <th>2</th>\n",
       "      <td>1001</td>\n",
       "      <td>2020-01-03</td>\n",
       "      <td>178</td>\n",
       "      <td>Autauga County</td>\n",
       "      <td>Alabama</td>\n",
       "      <td>small/mid</td>\n",
       "      <td>Autauga Metro Jail</td>\n",
       "      <td>55869.0</td>\n",
       "      <td>318.6</td>\n",
       "    </tr>\n",
       "    <tr>\n",
       "      <th>3</th>\n",
       "      <td>1001</td>\n",
       "      <td>2020-01-04</td>\n",
       "      <td>177</td>\n",
       "      <td>Autauga County</td>\n",
       "      <td>Alabama</td>\n",
       "      <td>small/mid</td>\n",
       "      <td>Autauga Metro Jail</td>\n",
       "      <td>55869.0</td>\n",
       "      <td>316.8</td>\n",
       "    </tr>\n",
       "    <tr>\n",
       "      <th>4</th>\n",
       "      <td>1001</td>\n",
       "      <td>2020-01-05</td>\n",
       "      <td>183</td>\n",
       "      <td>Autauga County</td>\n",
       "      <td>Alabama</td>\n",
       "      <td>small/mid</td>\n",
       "      <td>Autauga Metro Jail</td>\n",
       "      <td>55869.0</td>\n",
       "      <td>327.6</td>\n",
       "    </tr>\n",
       "  </tbody>\n",
       "</table>\n",
       "</div>"
      ],
      "text/plain": [
       "   fips        date  jail_population     county_name state_name urbanicity  \\\n",
       "0  1001  2020-01-01              185  Autauga County    Alabama  small/mid   \n",
       "1  1001  2020-01-02              184  Autauga County    Alabama  small/mid   \n",
       "2  1001  2020-01-03              178  Autauga County    Alabama  small/mid   \n",
       "3  1001  2020-01-04              177  Autauga County    Alabama  small/mid   \n",
       "4  1001  2020-01-05              183  Autauga County    Alabama  small/mid   \n",
       "\n",
       "  reporting_jurisdictions  resident_population  \\\n",
       "0      Autauga Metro Jail              55869.0   \n",
       "1      Autauga Metro Jail              55869.0   \n",
       "2      Autauga Metro Jail              55869.0   \n",
       "3      Autauga Metro Jail              55869.0   \n",
       "4      Autauga Metro Jail              55869.0   \n",
       "\n",
       "   jail_incarceration_rate_per_100k  \n",
       "0                             331.1  \n",
       "1                             329.3  \n",
       "2                             318.6  \n",
       "3                             316.8  \n",
       "4                             327.6  "
      ]
     },
     "execution_count": 2,
     "metadata": {},
     "output_type": "execute_result"
    }
   ],
   "source": [
    "# https://github.com/vera-institute/jail-population-data\n",
    "\n",
    "vera_df = pd.read_csv('https://raw.githubusercontent.com/vera-institute/jail-population-data/master/jail_population.csv')\n",
    "vera_df.head()"
   ]
  },
  {
   "cell_type": "markdown",
   "metadata": {},
   "source": [
    "# EDA"
   ]
  },
  {
   "cell_type": "code",
   "execution_count": 3,
   "metadata": {},
   "outputs": [
    {
     "data": {
      "text/plain": [
       "(179499, 9)"
      ]
     },
     "execution_count": 3,
     "metadata": {},
     "output_type": "execute_result"
    }
   ],
   "source": [
    "vera_df.shape"
   ]
  },
  {
   "cell_type": "code",
   "execution_count": 4,
   "metadata": {},
   "outputs": [
    {
     "name": "stdout",
     "output_type": "stream",
     "text": [
      "<class 'pandas.core.frame.DataFrame'>\n",
      "RangeIndex: 179499 entries, 0 to 179498\n",
      "Data columns (total 9 columns):\n",
      " #   Column                            Non-Null Count   Dtype  \n",
      "---  ------                            --------------   -----  \n",
      " 0   fips                              179499 non-null  int64  \n",
      " 1   date                              179499 non-null  object \n",
      " 2   jail_population                   179499 non-null  int64  \n",
      " 3   county_name                       179423 non-null  object \n",
      " 4   state_name                        179353 non-null  object \n",
      " 5   urbanicity                        179423 non-null  object \n",
      " 6   reporting_jurisdictions           177469 non-null  object \n",
      " 7   resident_population               179423 non-null  float64\n",
      " 8   jail_incarceration_rate_per_100k  179423 non-null  float64\n",
      "dtypes: float64(2), int64(2), object(5)\n",
      "memory usage: 12.3+ MB\n"
     ]
    }
   ],
   "source": [
    "vera_df.info()"
   ]
  },
  {
   "cell_type": "code",
   "execution_count": 5,
   "metadata": {},
   "outputs": [
    {
     "data": {
      "text/html": [
       "<div>\n",
       "<style scoped>\n",
       "    .dataframe tbody tr th:only-of-type {\n",
       "        vertical-align: middle;\n",
       "    }\n",
       "\n",
       "    .dataframe tbody tr th {\n",
       "        vertical-align: top;\n",
       "    }\n",
       "\n",
       "    .dataframe thead th {\n",
       "        text-align: right;\n",
       "    }\n",
       "</style>\n",
       "<table border=\"1\" class=\"dataframe\">\n",
       "  <thead>\n",
       "    <tr style=\"text-align: right;\">\n",
       "      <th></th>\n",
       "      <th>fips</th>\n",
       "      <th>date</th>\n",
       "      <th>jail_population</th>\n",
       "      <th>county_name</th>\n",
       "      <th>state_name</th>\n",
       "      <th>urbanicity</th>\n",
       "      <th>reporting_jurisdictions</th>\n",
       "      <th>resident_population</th>\n",
       "      <th>jail_incarceration_rate_per_100k</th>\n",
       "    </tr>\n",
       "  </thead>\n",
       "  <tbody>\n",
       "    <tr>\n",
       "      <th>0</th>\n",
       "      <td>1001</td>\n",
       "      <td>2020-01-01</td>\n",
       "      <td>185</td>\n",
       "      <td>Autauga County</td>\n",
       "      <td>Alabama</td>\n",
       "      <td>small/mid</td>\n",
       "      <td>Autauga Metro Jail</td>\n",
       "      <td>55869.0</td>\n",
       "      <td>331.1</td>\n",
       "    </tr>\n",
       "    <tr>\n",
       "      <th>1</th>\n",
       "      <td>1001</td>\n",
       "      <td>2020-01-02</td>\n",
       "      <td>184</td>\n",
       "      <td>Autauga County</td>\n",
       "      <td>Alabama</td>\n",
       "      <td>small/mid</td>\n",
       "      <td>Autauga Metro Jail</td>\n",
       "      <td>55869.0</td>\n",
       "      <td>329.3</td>\n",
       "    </tr>\n",
       "    <tr>\n",
       "      <th>2</th>\n",
       "      <td>1001</td>\n",
       "      <td>2020-01-03</td>\n",
       "      <td>178</td>\n",
       "      <td>Autauga County</td>\n",
       "      <td>Alabama</td>\n",
       "      <td>small/mid</td>\n",
       "      <td>Autauga Metro Jail</td>\n",
       "      <td>55869.0</td>\n",
       "      <td>318.6</td>\n",
       "    </tr>\n",
       "    <tr>\n",
       "      <th>3</th>\n",
       "      <td>1001</td>\n",
       "      <td>2020-01-04</td>\n",
       "      <td>177</td>\n",
       "      <td>Autauga County</td>\n",
       "      <td>Alabama</td>\n",
       "      <td>small/mid</td>\n",
       "      <td>Autauga Metro Jail</td>\n",
       "      <td>55869.0</td>\n",
       "      <td>316.8</td>\n",
       "    </tr>\n",
       "    <tr>\n",
       "      <th>4</th>\n",
       "      <td>1001</td>\n",
       "      <td>2020-01-05</td>\n",
       "      <td>183</td>\n",
       "      <td>Autauga County</td>\n",
       "      <td>Alabama</td>\n",
       "      <td>small/mid</td>\n",
       "      <td>Autauga Metro Jail</td>\n",
       "      <td>55869.0</td>\n",
       "      <td>327.6</td>\n",
       "    </tr>\n",
       "  </tbody>\n",
       "</table>\n",
       "</div>"
      ],
      "text/plain": [
       "   fips       date  jail_population     county_name state_name urbanicity  \\\n",
       "0  1001 2020-01-01              185  Autauga County    Alabama  small/mid   \n",
       "1  1001 2020-01-02              184  Autauga County    Alabama  small/mid   \n",
       "2  1001 2020-01-03              178  Autauga County    Alabama  small/mid   \n",
       "3  1001 2020-01-04              177  Autauga County    Alabama  small/mid   \n",
       "4  1001 2020-01-05              183  Autauga County    Alabama  small/mid   \n",
       "\n",
       "  reporting_jurisdictions  resident_population  \\\n",
       "0      Autauga Metro Jail              55869.0   \n",
       "1      Autauga Metro Jail              55869.0   \n",
       "2      Autauga Metro Jail              55869.0   \n",
       "3      Autauga Metro Jail              55869.0   \n",
       "4      Autauga Metro Jail              55869.0   \n",
       "\n",
       "   jail_incarceration_rate_per_100k  \n",
       "0                             331.1  \n",
       "1                             329.3  \n",
       "2                             318.6  \n",
       "3                             316.8  \n",
       "4                             327.6  "
      ]
     },
     "execution_count": 5,
     "metadata": {},
     "output_type": "execute_result"
    }
   ],
   "source": [
    "vera_df['date']=pd.to_datetime(vera_df['date'])\n",
    "vera_df.head()"
   ]
  },
  {
   "cell_type": "code",
   "execution_count": 6,
   "metadata": {},
   "outputs": [
    {
     "data": {
      "text/plain": [
       "<matplotlib.axes._subplots.AxesSubplot at 0x7f8b87fed150>"
      ]
     },
     "execution_count": 6,
     "metadata": {},
     "output_type": "execute_result"
    },
    {
     "data": {
      "image/png": "[encoded data removed]",
      "text/plain": [
       "<Figure size 432x288 with 1 Axes>"
      ]
     },
     "metadata": {
      "needs_background": "light"
     },
     "output_type": "display_data"
    }
   ],
   "source": [
    "# Check for null values\n",
    "\n",
    "sns.heatmap(vera_df.isnull(), cbar=False)"
   ]
  },
  {
   "cell_type": "code",
   "execution_count": 7,
   "metadata": {},
   "outputs": [
    {
     "data": {
      "text/plain": [
       "Index(['fips', 'date', 'jail_population', 'county_name', 'state_name',\n",
       "       'urbanicity', 'reporting_jurisdictions', 'resident_population',\n",
       "       'jail_incarceration_rate_per_100k'],\n",
       "      dtype='object')"
      ]
     },
     "execution_count": 7,
     "metadata": {},
     "output_type": "execute_result"
    }
   ],
   "source": [
    "vera_df.columns"
   ]
  },
  {
   "cell_type": "code",
   "execution_count": 8,
   "metadata": {},
   "outputs": [
    {
     "data": {
      "text/plain": [
       "<matplotlib.axes._subplots.AxesSubplot at 0x7f8b749b7750>"
      ]
     },
     "execution_count": 8,
     "metadata": {},
     "output_type": "execute_result"
    },
    {
     "data": {
      "image/png": "[encoded data removed]",
      "text/plain": [
       "<Figure size 1440x720 with 2 Axes>"
      ]
     },
     "metadata": {
      "needs_background": "light"
     },
     "output_type": "display_data"
    }
   ],
   "source": [
    "# Create heatmap\n",
    "\n",
    "corrmat = vera_df[['fips', 'jail_population', 'resident_population',\n",
    "       'jail_incarceration_rate_per_100k'\\\n",
    "             ]].corr()\n",
    "fig,ax= plt.subplots()\n",
    "fig.set_size_inches(20,10)\n",
    "sns.heatmap(corrmat,square=True,annot=True)"
   ]
  },
  {
   "cell_type": "code",
   "execution_count": 9,
   "metadata": {},
   "outputs": [
    {
     "data": {
      "text/plain": [
       "<matplotlib.axes._subplots.AxesSubplot at 0x7f8b87fb7450>"
      ]
     },
     "execution_count": 9,
     "metadata": {},
     "output_type": "execute_result"
    },
    {
     "name": "stderr",
     "output_type": "stream",
     "text": [
      "findfont: Font family ['calibri'] not found. Falling back to DejaVu Sans.\n",
      "findfont: Font family ['calibri'] not found. Falling back to DejaVu Sans.\n"
     ]
    },
    {
     "data": {
      "image/png": "[encoded data removed]",
      "text/plain": [
       "<Figure size 720x360 with 1 Axes>"
      ]
     },
     "metadata": {},
     "output_type": "display_data"
    }
   ],
   "source": [
    "X = vera_df.drop(['jail_population'],axis=1)\n",
    "y = vera_df['jail_population']\n",
    "\n",
    "sns.set(style=\"whitegrid\", palette=(\"deep\"),font='calibri')\n",
    "sns.set_context(\"poster\")\n",
    "\n",
    "X.corrwith(vera_df['jail_population']).plot.bar(figsize = (10, 5), title =\"Correlation with Fine\", fontsize = 10,\n",
    "rot = 90, grid = True,)"
   ]
  },
  {
   "cell_type": "code",
   "execution_count": 10,
   "metadata": {},
   "outputs": [
    {
     "data": {
      "text/html": [
       "<div>\n",
       "<style scoped>\n",
       "    .dataframe tbody tr th:only-of-type {\n",
       "        vertical-align: middle;\n",
       "    }\n",
       "\n",
       "    .dataframe tbody tr th {\n",
       "        vertical-align: top;\n",
       "    }\n",
       "\n",
       "    .dataframe thead th {\n",
       "        text-align: right;\n",
       "    }\n",
       "</style>\n",
       "<table border=\"1\" class=\"dataframe\">\n",
       "  <thead>\n",
       "    <tr style=\"text-align: right;\">\n",
       "      <th></th>\n",
       "      <th>fips</th>\n",
       "      <th>date</th>\n",
       "      <th>jail_population</th>\n",
       "      <th>county_name</th>\n",
       "      <th>state_name</th>\n",
       "      <th>urbanicity</th>\n",
       "      <th>reporting_jurisdictions</th>\n",
       "      <th>resident_population</th>\n",
       "      <th>jail_incarceration_rate_per_100k</th>\n",
       "      <th>week</th>\n",
       "    </tr>\n",
       "  </thead>\n",
       "  <tbody>\n",
       "    <tr>\n",
       "      <th>0</th>\n",
       "      <td>1001</td>\n",
       "      <td>2020-01-01</td>\n",
       "      <td>185</td>\n",
       "      <td>Autauga County</td>\n",
       "      <td>Alabama</td>\n",
       "      <td>small/mid</td>\n",
       "      <td>Autauga Metro Jail</td>\n",
       "      <td>55869.0</td>\n",
       "      <td>331.1</td>\n",
       "      <td>00</td>\n",
       "    </tr>\n",
       "    <tr>\n",
       "      <th>1</th>\n",
       "      <td>1001</td>\n",
       "      <td>2020-01-02</td>\n",
       "      <td>184</td>\n",
       "      <td>Autauga County</td>\n",
       "      <td>Alabama</td>\n",
       "      <td>small/mid</td>\n",
       "      <td>Autauga Metro Jail</td>\n",
       "      <td>55869.0</td>\n",
       "      <td>329.3</td>\n",
       "      <td>00</td>\n",
       "    </tr>\n",
       "    <tr>\n",
       "      <th>2</th>\n",
       "      <td>1001</td>\n",
       "      <td>2020-01-03</td>\n",
       "      <td>178</td>\n",
       "      <td>Autauga County</td>\n",
       "      <td>Alabama</td>\n",
       "      <td>small/mid</td>\n",
       "      <td>Autauga Metro Jail</td>\n",
       "      <td>55869.0</td>\n",
       "      <td>318.6</td>\n",
       "      <td>00</td>\n",
       "    </tr>\n",
       "    <tr>\n",
       "      <th>3</th>\n",
       "      <td>1001</td>\n",
       "      <td>2020-01-04</td>\n",
       "      <td>177</td>\n",
       "      <td>Autauga County</td>\n",
       "      <td>Alabama</td>\n",
       "      <td>small/mid</td>\n",
       "      <td>Autauga Metro Jail</td>\n",
       "      <td>55869.0</td>\n",
       "      <td>316.8</td>\n",
       "      <td>00</td>\n",
       "    </tr>\n",
       "    <tr>\n",
       "      <th>4</th>\n",
       "      <td>1001</td>\n",
       "      <td>2020-01-05</td>\n",
       "      <td>183</td>\n",
       "      <td>Autauga County</td>\n",
       "      <td>Alabama</td>\n",
       "      <td>small/mid</td>\n",
       "      <td>Autauga Metro Jail</td>\n",
       "      <td>55869.0</td>\n",
       "      <td>327.6</td>\n",
       "      <td>00</td>\n",
       "    </tr>\n",
       "  </tbody>\n",
       "</table>\n",
       "</div>"
      ],
      "text/plain": [
       "   fips       date  jail_population     county_name state_name urbanicity  \\\n",
       "0  1001 2020-01-01              185  Autauga County    Alabama  small/mid   \n",
       "1  1001 2020-01-02              184  Autauga County    Alabama  small/mid   \n",
       "2  1001 2020-01-03              178  Autauga County    Alabama  small/mid   \n",
       "3  1001 2020-01-04              177  Autauga County    Alabama  small/mid   \n",
       "4  1001 2020-01-05              183  Autauga County    Alabama  small/mid   \n",
       "\n",
       "  reporting_jurisdictions  resident_population  \\\n",
       "0      Autauga Metro Jail              55869.0   \n",
       "1      Autauga Metro Jail              55869.0   \n",
       "2      Autauga Metro Jail              55869.0   \n",
       "3      Autauga Metro Jail              55869.0   \n",
       "4      Autauga Metro Jail              55869.0   \n",
       "\n",
       "   jail_incarceration_rate_per_100k week  \n",
       "0                             331.1   00  \n",
       "1                             329.3   00  \n",
       "2                             318.6   00  \n",
       "3                             316.8   00  \n",
       "4                             327.6   00  "
      ]
     },
     "execution_count": 10,
     "metadata": {},
     "output_type": "execute_result"
    }
   ],
   "source": [
    "#Round to the hour\n",
    "vera_df['week'] = vera_df['date'].dt.strftime('%W')\n",
    "vera_df.head()"
   ]
  },
  {
   "cell_type": "code",
   "execution_count": 15,
   "metadata": {},
   "outputs": [
    {
     "name": "stderr",
     "output_type": "stream",
     "text": [
      "No handles with labels found to put in legend.\n"
     ]
    },
    {
     "data": {
      "image/png": "[encoded data removed]",
      "text/plain": [
       "<Figure size 432x288 with 1 Axes>"
      ]
     },
     "metadata": {},
     "output_type": "display_data"
    }
   ],
   "source": [
    "sns.set(style=\"whitegrid\")\n",
    "\n",
    "# Plot the total pop\n",
    "sns.set_color_codes(\"pastel\")\n",
    "sns.barplot(x=\"week\", y=\"resident_population\", data=vera_df,\n",
    "            label=\"Total\", color=\"b\")\n",
    "\n",
    "# Add a legend and informative axis label\n",
    "ax.legend(ncol=2, loc=\"lower right\", frameon=True)\n",
    "ax.set(xlim=(0, 24), ylabel=\"\",\n",
    "       xlabel=\"Incarceration\")\n",
    "sns.despine(left=True, bottom=True)"
   ]
  },
  {
   "cell_type": "code",
   "execution_count": 13,
   "metadata": {},
   "outputs": [
    {
     "data": {
      "text/plain": [
       "<matplotlib.axes._subplots.AxesSubplot at 0x7f8b7152d950>"
      ]
     },
     "execution_count": 13,
     "metadata": {},
     "output_type": "execute_result"
    },
    {
     "data": {
      "image/png": "[encoded data removed]",
      "text/plain": [
       "<Figure size 432x288 with 1 Axes>"
      ]
     },
     "metadata": {},
     "output_type": "display_data"
    }
   ],
   "source": [
    "# Plot the prison pop\n",
    "sns.set_color_codes(\"muted\")\n",
    "sns.barplot(x=\"week\", y=\"jail_population\", data=vera_df,\n",
    "            label=\"Total\", color=\"b\")"
   ]
  },
  {
   "cell_type": "code",
   "execution_count": 23,
   "metadata": {},
   "outputs": [
    {
     "data": {
      "image/png": "[encoded data removed]",
      "text/plain": [
       "<Figure size 720x360 with 1 Axes>"
      ]
     },
     "metadata": {},
     "output_type": "display_data"
    }
   ],
   "source": [
    "#Read in data & create total column\n",
    "stacked_bar_data = vera_df\n",
    "stacked_bar_data[\"total\"] = stacked_bar_data.resident_population + stacked_bar_data.jail_population\n",
    "\n",
    "#Set general plot properties\n",
    "sns.set_style(\"white\")\n",
    "sns.set_context({\"figure.figsize\": (10, 5)})\n",
    "\n",
    "#Plot 1 - background - \"total\" (top) series\n",
    "sns.barplot(x = stacked_bar_data.week, y = stacked_bar_data.total, color = \"red\")\n",
    "\n",
    "#Plot 2 - overlay - \"bottom\" series\n",
    "bottom_plot = sns.barplot(x = stacked_bar_data.week, y = stacked_bar_data.resident_population, color = \"#0000A3\")\n",
    "\n",
    "\n",
    "topbar = plt.Rectangle((0,0),1,1,fc=\"red\", edgecolor = 'none')\n",
    "bottombar = plt.Rectangle((0,0),1,1,fc='#0000A3',  edgecolor = 'none')\n",
    "l = plt.legend([bottombar, topbar], ['Bottom Bar', 'Top Bar'], loc=1, ncol = 2, prop={'size':16})\n",
    "l.draw_frame(False)\n",
    "\n",
    "#Optional code - Make plot look nicer\n",
    "sns.despine(left=True)\n",
    "bottom_plot.set_ylabel(\"Y-axis label\")\n",
    "bottom_plot.set_xlabel(\"X-axis label\")\n",
    "\n",
    "#Set fonts to consistent 16pt size\n",
    "for item in ([bottom_plot.xaxis.label, bottom_plot.yaxis.label] +\n",
    "             bottom_plot.get_xticklabels() + bottom_plot.get_yticklabels()):\n",
    "    item.set_fontsize(16)"
   ]
  },
  {
   "cell_type": "markdown",
   "metadata": {},
   "source": [
    "# Feature Engineering"
   ]
  },
  {
   "cell_type": "code",
   "execution_count": 12,
   "metadata": {},
   "outputs": [],
   "source": [
    "#look into date issue"
   ]
  },
  {
   "cell_type": "code",
   "execution_count": null,
   "metadata": {},
   "outputs": [],
   "source": []
  },
  {
   "cell_type": "code",
   "execution_count": null,
   "metadata": {},
   "outputs": [],
   "source": []
  },
  {
   "cell_type": "code",
   "execution_count": null,
   "metadata": {},
   "outputs": [],
   "source": []
  }
 ],
 "metadata": {
  "kernelspec": {
   "display_name": "Python 3",
   "language": "python",
   "name": "python3"
  },
  "language_info": {
   "codemirror_mode": {
    "name": "ipython",
    "version": 3
   },
   "file_extension": ".py",
   "mimetype": "text/x-python",
   "name": "python",
   "nbconvert_exporter": "python",
   "pygments_lexer": "ipython3",
   "version": "3.7.7"
  },
  "toc": {
   "base_numbering": 1,
   "nav_menu": {},
   "number_sections": true,
   "sideBar": true,
   "skip_h1_title": false,
   "title_cell": "Table of Contents",
   "title_sidebar": "Contents",
   "toc_cell": false,
   "toc_position": {},
   "toc_section_display": true,
   "toc_window_display": false
  }
 },
 "nbformat": 4,
 "nbformat_minor": 4
}
