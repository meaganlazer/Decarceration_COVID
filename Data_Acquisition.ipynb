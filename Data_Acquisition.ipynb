{
 "cells": [
  {
   "cell_type": "markdown",
   "metadata": {},
   "source": [
    "# Incarceration & COVID-19"
   ]
  },
  {
   "cell_type": "markdown",
   "metadata": {},
   "source": [
    "**How Jails Respond to COVID**<br>\n",
    "\n",
    "This project scrapes daily jail roster information to create a large dataset. This dataset is designed to analyze how jail populations have fluctuated in response to COVID-19. Research centers on explaining why county jails in different parts of the United States have responded differently to the pandemic over time. \n",
    "\n",
    "A separate but related idea for this dataset analyzes the impact of pandemic-related jail population declines on local crime. This project uses daily jail roster population counts as the focal variable and the analysis uses group-based trajectory modeling. Our scraped data will address gaps in the [Vera](https://github.com/vera-institute/jail-population-data) dataset.\n",
    "\n",
    "We start by comparing Washington and New York states because they dealt with COVID-19 at the early on-set of the pandemic. Below is a list of the data points to collect to harmonize with the Vera data.\n",
    "- County Name\n",
    "- State Name\n",
    "- Daily Population Counts\n",
    "- Reporting J\n",
    "ail Name"
   ]
  },
  {
   "cell_type": "markdown",
   "metadata": {},
   "source": [
    "## Imports"
   ]
  },
  {
   "cell_type": "code",
   "execution_count": 10,
   "metadata": {},
   "outputs": [],
   "source": [
    "# Import Libraries\n",
    "import re\n",
    "import os\n",
    "import time\n",
    "import random\n",
    "import requests\n",
    "import numpy as np\n",
    "import pandas as pd\n",
    "from os import system   \n",
    "from math import floor\n",
    "from copy import deepcopy\n",
    "from bs4 import BeautifulSoup\n",
    "from selenium import webdriver\n",
    "from selenium.webdriver.common.by import By\n",
    "from selenium.webdriver.common.keys import Keys\n",
    "from selenium.common.exceptions import TimeoutException\n",
    "from selenium.webdriver.support.ui import WebDriverWait\n",
    "from selenium.webdriver.support import expected_conditions as EC\n",
    "\n",
    "# import mysql.connector \n",
    "# from mysql.connector import errorcode\n",
    "from bs4 import BeautifulSoup\n",
    "from time import sleep\n",
    "from random import randint\n",
    "import json\n",
    "import matplotlib.pyplot as plt\n",
    "import seaborn as sns\n",
    "%matplotlib inline"
   ]
  },
  {
   "cell_type": "markdown",
   "metadata": {},
   "source": [
    "## Washington"
   ]
  },
  {
   "cell_type": "code",
   "execution_count": 8,
   "metadata": {},
   "outputs": [
    {
     "name": "stdout",
     "output_type": "stream",
     "text": [
      "Collecting mysql\n",
      "  Downloading mysql-0.0.2.tar.gz (1.9 kB)\n",
      "Collecting mysqlclient\n",
      "  Downloading mysqlclient-1.4.6.tar.gz (85 kB)\n",
      "\u001b[K     |████████████████████████████████| 85 kB 2.2 MB/s eta 0:00:011\n",
      "\u001b[31m    ERROR: Command errored out with exit status 1:\n",
      "     command: /opt/anaconda3/bin/python -c 'import sys, setuptools, tokenize; sys.argv[0] = '\"'\"'/private/var/folders/cy/wkp_87214x74hpqg5xwf6pbm0000gn/T/pip-install-6xdyul2b/mysqlclient/setup.py'\"'\"'; __file__='\"'\"'/private/var/folders/cy/wkp_87214x74hpqg5xwf6pbm0000gn/T/pip-install-6xdyul2b/mysqlclient/setup.py'\"'\"';f=getattr(tokenize, '\"'\"'open'\"'\"', open)(__file__);code=f.read().replace('\"'\"'\\r\\n'\"'\"', '\"'\"'\\n'\"'\"');f.close();exec(compile(code, __file__, '\"'\"'exec'\"'\"'))' egg_info --egg-base /private/var/folders/cy/wkp_87214x74hpqg5xwf6pbm0000gn/T/pip-install-6xdyul2b/mysqlclient/pip-egg-info\n",
      "         cwd: /private/var/folders/cy/wkp_87214x74hpqg5xwf6pbm0000gn/T/pip-install-6xdyul2b/mysqlclient/\n",
      "    Complete output (12 lines):\n",
      "    /bin/sh: mysql_config: command not found\n",
      "    /bin/sh: mariadb_config: command not found\n",
      "    /bin/sh: mysql_config: command not found\n",
      "    Traceback (most recent call last):\n",
      "      File \"<string>\", line 1, in <module>\n",
      "      File \"/private/var/folders/cy/wkp_87214x74hpqg5xwf6pbm0000gn/T/pip-install-6xdyul2b/mysqlclient/setup.py\", line 16, in <module>\n",
      "        metadata, options = get_config()\n",
      "      File \"/private/var/folders/cy/wkp_87214x74hpqg5xwf6pbm0000gn/T/pip-install-6xdyul2b/mysqlclient/setup_posix.py\", line 61, in get_config\n",
      "        libs = mysql_config(\"libs\")\n",
      "      File \"/private/var/folders/cy/wkp_87214x74hpqg5xwf6pbm0000gn/T/pip-install-6xdyul2b/mysqlclient/setup_posix.py\", line 29, in mysql_config\n",
      "        raise EnvironmentError(\"%s not found\" % (_mysql_config_path,))\n",
      "    OSError: mysql_config not found\n",
      "    ----------------------------------------\u001b[0m\n",
      "\u001b[31mERROR: Command errored out with exit status 1: python setup.py egg_info Check the logs for full command output.\u001b[0m\n",
      "\u001b[?25hNote: you may need to restart the kernel to use updated packages.\n"
     ]
    }
   ],
   "source": [
    "pip install mysql"
   ]
  },
  {
   "cell_type": "code",
   "execution_count": null,
   "metadata": {},
   "outputs": [],
   "source": [
    "# Whitman\n",
    "# http://www.whitmancountyjail.org/\n",
    "\n",
    "# Spokane\n",
    "# https://www.spokanecounty.org/352/Inmate-Roster\n",
    "\n",
    "# Okanogan\n",
    "# https://okanogansheriff.org/\n",
    "# (under Daily Jail Inmate Log)\n",
    "\n",
    "# Jefferson\n",
    "# https://co.jefferson.wa.us/174/Jail-Inmate-Search\n",
    "# (To view the full inmate roster click the Clear button then the Search button.)\n",
    "\n",
    "# Grant\n",
    "# https://www.grantcountywa.gov/SHERIFF/Corrections/Inmate-Roster.htm\n",
    "\n",
    "# Gray's Harbor\n",
    "# http://ghlea.com/JailRosters/GHCJRoster.html\n",
    "\n",
    "# Ferry\n",
    "# https://www.ferry-county.com/Courts%20and%20Law/Inmate%20Roster/Inmate_Roster_Page.html\n",
    "# (in the section that says \"MAY 11, 2020 - 8 inmates\")\n",
    "\n",
    "# Clallam\n",
    "# https://websrv23.clallam.net/NewWorld.InmateInquiry/WA0050000/\n",
    "\n",
    "# Adams\n",
    "# https://www.co.adams.wa.us/government/jail_roster_and_booking_information/index.php\n",
    "# (View Jail Roster Information)"
   ]
  }
 ],
 "metadata": {
  "kernelspec": {
   "display_name": "Python 3",
   "language": "python",
   "name": "python3"
  },
  "language_info": {
   "codemirror_mode": {
    "name": "ipython",
    "version": 3
   },
   "file_extension": ".py",
   "mimetype": "text/x-python",
   "name": "python",
   "nbconvert_exporter": "python",
   "pygments_lexer": "ipython3",
   "version": "3.7.7"
  },
  "toc": {
   "base_numbering": 1,
   "nav_menu": {},
   "number_sections": true,
   "sideBar": true,
   "skip_h1_title": false,
   "title_cell": "Table of Contents",
   "title_sidebar": "Contents",
   "toc_cell": false,
   "toc_position": {},
   "toc_section_display": true,
   "toc_window_display": false
  }
 },
 "nbformat": 4,
 "nbformat_minor": 4
}
