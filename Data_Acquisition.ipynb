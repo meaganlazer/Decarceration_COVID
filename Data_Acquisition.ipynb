{
 "cells": [
  {
   "cell_type": "markdown",
   "metadata": {},
   "source": [
    "# Introduction"
   ]
  },
  {
   "cell_type": "markdown",
   "metadata": {},
   "source": [
    "**Incarceration & COVID-19: How Jails Respond to COVID**<br>\n",
    "\n",
    "This project scrapes daily jail roster information to create a large dataset. This dataset is designed to analyze how jail populations have fluctuated in response to COVID-19. Research centers on explaining why county jails in different parts of the United States have responded differently to the pandemic over time. \n",
    "\n",
    "A separate but related idea for this dataset analyzes the impact of pandemic-related jail population declines on local crime. This project uses daily jail roster population counts as the focal variable and the analysis uses group-based trajectory modeling. Our scraped data will address gaps in the [Vera](https://github.com/vera-institute/jail-population-data) dataset.\n",
    "\n",
    "We start by comparing Washington and New York states because they dealt with COVID-19 at the early on-set of the pandemic. Below is a list of the data points to collect to harmonize with the Vera data.\n",
    "- County Name\n",
    "- State Name\n",
    "- Daily Population Counts\n",
    "- Reporting Jail Name"
   ]
  },
  {
   "cell_type": "markdown",
   "metadata": {},
   "source": [
    "# Imports"
   ]
  },
  {
   "cell_type": "code",
   "execution_count": 1,
   "metadata": {},
   "outputs": [],
   "source": [
    "# Import standard libraries\n",
    "import numpy as np\n",
    "import pandas as pd\n",
    "import matplotlib.pyplot as plt\n",
    "import seaborn as sns\n",
    "%matplotlib inline\n",
    "\n",
    "# API libraries\n",
    "import re\n",
    "import os\n",
    "import time\n",
    "import random\n",
    "import requests\n",
    "from os import system   \n",
    "from math import floor\n",
    "from copy import deepcopy\n",
    "\n",
    "# Scraping libraries\n",
    "from bs4 import BeautifulSoup\n",
    "from time import sleep\n",
    "from random import randint\n",
    "import json\n",
    "# Selenium\n",
    "from selenium import webdriver\n",
    "from selenium.webdriver.common.by import By\n",
    "from selenium.webdriver.common.keys import Keys\n",
    "from selenium.common.exceptions import TimeoutException\n",
    "from selenium.webdriver.support.ui import WebDriverWait\n",
    "from selenium.webdriver.support import expected_conditions as EC"
   ]
  },
  {
   "cell_type": "markdown",
   "metadata": {},
   "source": [
    "# States"
   ]
  },
  {
   "cell_type": "markdown",
   "metadata": {},
   "source": [
    "Be sure to check for APIs in addition to scraping. Will include NY, WA and FL."
   ]
  },
  {
   "cell_type": "markdown",
   "metadata": {},
   "source": [
    "## Washington"
   ]
  },
  {
   "cell_type": "markdown",
   "metadata": {},
   "source": [
    "### Whitman"
   ]
  },
  {
   "cell_type": "code",
   "execution_count": 53,
   "metadata": {},
   "outputs": [],
   "source": [
    "# http://www.whitmancountyjail.org/\n",
    "#Need to count unique IDs\n",
    "#Check for an API"
   ]
  },
  {
   "cell_type": "markdown",
   "metadata": {},
   "source": [
    "### Spokane"
   ]
  },
  {
   "cell_type": "markdown",
   "metadata": {},
   "source": [
    "#### Selenium"
   ]
  },
  {
   "cell_type": "code",
   "execution_count": 2,
   "metadata": {},
   "outputs": [],
   "source": [
    "html = requests.get('https://www.spokanecounty.org/352/Inmate-Roster')\n",
    "bs = BeautifulSoup(html.content, 'lxml')\n",
    "table = bs.table"
   ]
  },
  {
   "cell_type": "code",
   "execution_count": 8,
   "metadata": {},
   "outputs": [
    {
     "data": {
      "text/plain": [
       "[]"
      ]
     },
     "execution_count": 8,
     "metadata": {},
     "output_type": "execute_result"
    }
   ],
   "source": [
    "# bs.select('container td')"
   ]
  },
  {
   "cell_type": "code",
   "execution_count": 3,
   "metadata": {},
   "outputs": [],
   "source": [
    "url = \"https://www.spokanecounty.org/352/Inmate-Roster'\"\n",
    "driver = webdriver.Chrome('/Users/meaganrossi/Projects/Incarceration_COVID/chromedriver')"
   ]
  },
  {
   "cell_type": "code",
   "execution_count": 4,
   "metadata": {},
   "outputs": [],
   "source": [
    "driver.get(url)"
   ]
  },
  {
   "cell_type": "code",
   "execution_count": 9,
   "metadata": {},
   "outputs": [],
   "source": [
    "listy = driver.find_elements_by_css_selector('h1')"
   ]
  },
  {
   "cell_type": "code",
   "execution_count": 10,
   "metadata": {},
   "outputs": [
    {
     "name": "stdout",
     "output_type": "stream",
     "text": [
      "Inmate Roster\n"
     ]
    }
   ],
   "source": [
    "for x in listy[:15]:\n",
    "    if len(x.text) > 0:\n",
    "        print(x.text)"
   ]
  },
  {
   "cell_type": "code",
   "execution_count": 66,
   "metadata": {},
   "outputs": [
    {
     "name": "stdout",
     "output_type": "stream",
     "text": [
      "[<selenium.webdriver.remote.webelement.WebElement (session=\"704bb066a88cabe6f9199d84f837469f\", element=\"7f8dc0d7-4d45-4ad2-8d16-e52ca3c318e6\")>, <selenium.webdriver.remote.webelement.WebElement (session=\"704bb066a88cabe6f9199d84f837469f\", element=\"0f24d4d9-4017-4594-91fa-95c07c440958\")>, <selenium.webdriver.remote.webelement.WebElement (session=\"704bb066a88cabe6f9199d84f837469f\", element=\"92f57819-6df6-44f6-90a8-474d7b9f7f90\")>, <selenium.webdriver.remote.webelement.WebElement (session=\"704bb066a88cabe6f9199d84f837469f\", element=\"750f3e8e-415d-428c-b718-342361c0f35d\")>, <selenium.webdriver.remote.webelement.WebElement (session=\"704bb066a88cabe6f9199d84f837469f\", element=\"86de7aa9-d5e3-4afa-9f8a-06b8e7a3196c\")>, <selenium.webdriver.remote.webelement.WebElement (session=\"704bb066a88cabe6f9199d84f837469f\", element=\"b259e522-b144-49cd-b38f-c1c56db9fa24\")>, <selenium.webdriver.remote.webelement.WebElement (session=\"704bb066a88cabe6f9199d84f837469f\", element=\"694212b8-f697-4f58-b0d4-3ef5d06f5bf8\")>, <selenium.webdriver.remote.webelement.WebElement (session=\"704bb066a88cabe6f9199d84f837469f\", element=\"658d3c50-38ab-4969-8965-e206e9e11763\")>, <selenium.webdriver.remote.webelement.WebElement (session=\"704bb066a88cabe6f9199d84f837469f\", element=\"ea79df5e-a478-4e46-ba3d-d0bdc8e3fba6\")>, <selenium.webdriver.remote.webelement.WebElement (session=\"704bb066a88cabe6f9199d84f837469f\", element=\"41af9920-eee7-414b-b2d8-fdb6d8605505\")>, <selenium.webdriver.remote.webelement.WebElement (session=\"704bb066a88cabe6f9199d84f837469f\", element=\"201d43a4-8c6e-43e8-a4fd-5682ca22d6cf\")>, <selenium.webdriver.remote.webelement.WebElement (session=\"704bb066a88cabe6f9199d84f837469f\", element=\"f8b1ce8d-a07d-418d-b08c-a5a2956a6219\")>, <selenium.webdriver.remote.webelement.WebElement (session=\"704bb066a88cabe6f9199d84f837469f\", element=\"72c8a4ca-eb1d-4e7b-989b-e8aa15d4ad00\")>, <selenium.webdriver.remote.webelement.WebElement (session=\"704bb066a88cabe6f9199d84f837469f\", element=\"8ab11c7e-6ebb-4ed7-8d01-5c14ab50361b\")>, <selenium.webdriver.remote.webelement.WebElement (session=\"704bb066a88cabe6f9199d84f837469f\", element=\"3103295e-2e6d-493d-b886-630ca1d2d51a\")>, <selenium.webdriver.remote.webelement.WebElement (session=\"704bb066a88cabe6f9199d84f837469f\", element=\"3ca0ae60-4b9d-4acd-85a3-081400bb9d6e\")>, <selenium.webdriver.remote.webelement.WebElement (session=\"704bb066a88cabe6f9199d84f837469f\", element=\"edcff3ca-0957-49df-8eac-a2ce9b424adc\")>, <selenium.webdriver.remote.webelement.WebElement (session=\"704bb066a88cabe6f9199d84f837469f\", element=\"2d2d58da-d417-410d-824d-7ccf91ce0da7\")>, <selenium.webdriver.remote.webelement.WebElement (session=\"704bb066a88cabe6f9199d84f837469f\", element=\"5ad82d44-135b-482f-8853-99911a8bc9b3\")>, <selenium.webdriver.remote.webelement.WebElement (session=\"704bb066a88cabe6f9199d84f837469f\", element=\"52a075d5-367f-4bb8-840f-23abcf57c45b\")>, <selenium.webdriver.remote.webelement.WebElement (session=\"704bb066a88cabe6f9199d84f837469f\", element=\"3272edda-4b78-4f93-88a4-bd3664ca1ba0\")>, <selenium.webdriver.remote.webelement.WebElement (session=\"704bb066a88cabe6f9199d84f837469f\", element=\"0a5006cd-1179-4a34-afd4-14ebd6ceb136\")>, <selenium.webdriver.remote.webelement.WebElement (session=\"704bb066a88cabe6f9199d84f837469f\", element=\"421204a1-4595-4827-a544-21f92d3e22db\")>, <selenium.webdriver.remote.webelement.WebElement (session=\"704bb066a88cabe6f9199d84f837469f\", element=\"b99c3f26-83d8-4c56-9ebe-87a17db02c06\")>, <selenium.webdriver.remote.webelement.WebElement (session=\"704bb066a88cabe6f9199d84f837469f\", element=\"5be9c1dc-9b17-4f7e-898e-d71c263dad5f\")>, <selenium.webdriver.remote.webelement.WebElement (session=\"704bb066a88cabe6f9199d84f837469f\", element=\"140210f5-b748-474c-86b1-4e09bdbc48a9\")>, <selenium.webdriver.remote.webelement.WebElement (session=\"704bb066a88cabe6f9199d84f837469f\", element=\"e1b08e4e-6dd7-4b40-a38e-15016aa36137\")>, <selenium.webdriver.remote.webelement.WebElement (session=\"704bb066a88cabe6f9199d84f837469f\", element=\"bdc03421-27bb-4f0a-9536-e84e980d4d01\")>, <selenium.webdriver.remote.webelement.WebElement (session=\"704bb066a88cabe6f9199d84f837469f\", element=\"367295cd-e490-4bd5-a089-ff5db5719322\")>, <selenium.webdriver.remote.webelement.WebElement (session=\"704bb066a88cabe6f9199d84f837469f\", element=\"4bb35a8c-7b7c-4253-ab24-11320514461f\")>, <selenium.webdriver.remote.webelement.WebElement (session=\"704bb066a88cabe6f9199d84f837469f\", element=\"39e3eb7d-55b7-4943-bee5-96f8a59550d2\")>, <selenium.webdriver.remote.webelement.WebElement (session=\"704bb066a88cabe6f9199d84f837469f\", element=\"8a7252c9-d3b7-46b8-b2b7-9685abc860bc\")>, <selenium.webdriver.remote.webelement.WebElement (session=\"704bb066a88cabe6f9199d84f837469f\", element=\"89756484-5965-4fb2-90b9-06ec7fa2a5e0\")>, <selenium.webdriver.remote.webelement.WebElement (session=\"704bb066a88cabe6f9199d84f837469f\", element=\"aec7aead-fdb4-43dd-8c5d-ea7e8bd95ad0\")>, <selenium.webdriver.remote.webelement.WebElement (session=\"704bb066a88cabe6f9199d84f837469f\", element=\"d60c817a-1927-4cbb-9938-95e324a10b8b\")>, <selenium.webdriver.remote.webelement.WebElement (session=\"704bb066a88cabe6f9199d84f837469f\", element=\"76873b00-c2d5-4935-bf96-0dfbab426d03\")>, <selenium.webdriver.remote.webelement.WebElement (session=\"704bb066a88cabe6f9199d84f837469f\", element=\"b59697ac-92ca-4f7b-8765-3e2276877cd2\")>, <selenium.webdriver.remote.webelement.WebElement (session=\"704bb066a88cabe6f9199d84f837469f\", element=\"7098a4dc-31d8-4ad4-ba61-72ec4d7e3ab8\")>, <selenium.webdriver.remote.webelement.WebElement (session=\"704bb066a88cabe6f9199d84f837469f\", element=\"b0f17ad9-4446-4bff-8896-9f643f456f29\")>, <selenium.webdriver.remote.webelement.WebElement (session=\"704bb066a88cabe6f9199d84f837469f\", element=\"6c5aa548-c3dd-483f-a67c-4e887720a786\")>, <selenium.webdriver.remote.webelement.WebElement (session=\"704bb066a88cabe6f9199d84f837469f\", element=\"9cc61b63-c395-410e-b5cc-3bb88666d611\")>, <selenium.webdriver.remote.webelement.WebElement (session=\"704bb066a88cabe6f9199d84f837469f\", element=\"8877f16a-2ae0-4d34-824b-62acaf7890c3\")>, <selenium.webdriver.remote.webelement.WebElement (session=\"704bb066a88cabe6f9199d84f837469f\", element=\"e15ea9ee-a815-485b-a63f-e106100f0669\")>, <selenium.webdriver.remote.webelement.WebElement (session=\"704bb066a88cabe6f9199d84f837469f\", element=\"ee8c39a6-68a9-42f1-9043-eab7b6f0bb50\")>, <selenium.webdriver.remote.webelement.WebElement (session=\"704bb066a88cabe6f9199d84f837469f\", element=\"51992f64-fed9-475e-9cdb-42ee453aa1f8\")>, <selenium.webdriver.remote.webelement.WebElement (session=\"704bb066a88cabe6f9199d84f837469f\", element=\"91be77da-c1b3-4c3e-ad93-8d4fac0cd79c\")>, <selenium.webdriver.remote.webelement.WebElement (session=\"704bb066a88cabe6f9199d84f837469f\", element=\"c86f88f4-7724-4acf-8082-b6a40ff346c6\")>, <selenium.webdriver.remote.webelement.WebElement (session=\"704bb066a88cabe6f9199d84f837469f\", element=\"0620daaa-b11e-4570-ba44-5edb259e42a5\")>, <selenium.webdriver.remote.webelement.WebElement (session=\"704bb066a88cabe6f9199d84f837469f\", element=\"f04e70eb-f07e-4100-9e60-c7039271ee71\")>, <selenium.webdriver.remote.webelement.WebElement (session=\"704bb066a88cabe6f9199d84f837469f\", element=\"a8bc9e7a-8a43-423e-8c08-979191bbeb72\")>, <selenium.webdriver.remote.webelement.WebElement (session=\"704bb066a88cabe6f9199d84f837469f\", element=\"36dcda72-f86d-4686-aa46-bcd5da3b17f8\")>, <selenium.webdriver.remote.webelement.WebElement (session=\"704bb066a88cabe6f9199d84f837469f\", element=\"604b74ed-f2ad-416c-b71d-cf24d682dfcc\")>, <selenium.webdriver.remote.webelement.WebElement (session=\"704bb066a88cabe6f9199d84f837469f\", element=\"5f4a735c-8673-45ac-941a-655a41fdff9d\")>, <selenium.webdriver.remote.webelement.WebElement (session=\"704bb066a88cabe6f9199d84f837469f\", element=\"ca2af042-b939-4711-8f47-d6a8aadb00bb\")>, <selenium.webdriver.remote.webelement.WebElement (session=\"704bb066a88cabe6f9199d84f837469f\", element=\"8d6427da-dcc2-4838-b014-2bc2b613caba\")>, <selenium.webdriver.remote.webelement.WebElement (session=\"704bb066a88cabe6f9199d84f837469f\", element=\"ed3d34cd-7310-4ed6-91d4-975904ee505c\")>, <selenium.webdriver.remote.webelement.WebElement (session=\"704bb066a88cabe6f9199d84f837469f\", element=\"2ca439bf-4b24-44d7-8788-f4059e128b74\")>, <selenium.webdriver.remote.webelement.WebElement (session=\"704bb066a88cabe6f9199d84f837469f\", element=\"18d57b7f-86dc-4a54-b79a-e8e7ac4d35ac\")>, <selenium.webdriver.remote.webelement.WebElement (session=\"704bb066a88cabe6f9199d84f837469f\", element=\"37c3ed94-b552-4148-b2ac-474943ba4947\")>, <selenium.webdriver.remote.webelement.WebElement (session=\"704bb066a88cabe6f9199d84f837469f\", element=\"7f8b2ba3-c6ab-4a04-89bb-fad469db449d\")>, <selenium.webdriver.remote.webelement.WebElement (session=\"704bb066a88cabe6f9199d84f837469f\", element=\"8ef6f946-1f18-4f4e-a2c3-22651fb64be7\")>, <selenium.webdriver.remote.webelement.WebElement (session=\"704bb066a88cabe6f9199d84f837469f\", element=\"aa0a7bff-4c0e-4c81-93b8-5577844dee44\")>, <selenium.webdriver.remote.webelement.WebElement (session=\"704bb066a88cabe6f9199d84f837469f\", element=\"3c457e0b-f617-4050-a752-8e8e4dc89ef4\")>, <selenium.webdriver.remote.webelement.WebElement (session=\"704bb066a88cabe6f9199d84f837469f\", element=\"2d894fde-0d2d-4a16-9675-9da0a3adbccd\")>, <selenium.webdriver.remote.webelement.WebElement (session=\"704bb066a88cabe6f9199d84f837469f\", element=\"3b630a1a-6a36-4eca-8727-42f18151863f\")>, <selenium.webdriver.remote.webelement.WebElement (session=\"704bb066a88cabe6f9199d84f837469f\", element=\"d85cbea6-ebf3-4815-a660-e58e02b1bdc1\")>, <selenium.webdriver.remote.webelement.WebElement (session=\"704bb066a88cabe6f9199d84f837469f\", element=\"7046a16f-8131-4035-8cf0-9458e285ec32\")>, <selenium.webdriver.remote.webelement.WebElement (session=\"704bb066a88cabe6f9199d84f837469f\", element=\"e564866e-b9ab-48ae-993b-c1f8932b2f00\")>, <selenium.webdriver.remote.webelement.WebElement (session=\"704bb066a88cabe6f9199d84f837469f\", element=\"c5c9777d-215e-4f1f-9a54-f40e923ca4e5\")>, <selenium.webdriver.remote.webelement.WebElement (session=\"704bb066a88cabe6f9199d84f837469f\", element=\"794811d4-c994-43be-bc60-694c735e95e5\")>, <selenium.webdriver.remote.webelement.WebElement (session=\"704bb066a88cabe6f9199d84f837469f\", element=\"f778d5c1-b422-40ef-9c7c-e97ea8c6a20c\")>, <selenium.webdriver.remote.webelement.WebElement (session=\"704bb066a88cabe6f9199d84f837469f\", element=\"803f55ee-1138-4abb-817b-2689a855ecd6\")>, <selenium.webdriver.remote.webelement.WebElement (session=\"704bb066a88cabe6f9199d84f837469f\", element=\"22daec17-a4f3-4e6f-b509-fdb2aee1baaf\")>, <selenium.webdriver.remote.webelement.WebElement (session=\"704bb066a88cabe6f9199d84f837469f\", element=\"f484e06e-91dc-4267-b991-4f11c8f635c9\")>, <selenium.webdriver.remote.webelement.WebElement (session=\"704bb066a88cabe6f9199d84f837469f\", element=\"a9890e17-5c5c-4a33-8c6d-41f820f21cd4\")>, <selenium.webdriver.remote.webelement.WebElement (session=\"704bb066a88cabe6f9199d84f837469f\", element=\"348aef9f-390f-43e1-8a5c-e0a4afff5d3e\")>, <selenium.webdriver.remote.webelement.WebElement (session=\"704bb066a88cabe6f9199d84f837469f\", element=\"eb9832f9-4db8-4820-8225-a47d3376a3df\")>, <selenium.webdriver.remote.webelement.WebElement (session=\"704bb066a88cabe6f9199d84f837469f\", element=\"f16643e9-29f1-4136-843f-4770b45a95cf\")>, <selenium.webdriver.remote.webelement.WebElement (session=\"704bb066a88cabe6f9199d84f837469f\", element=\"7fbb0cfe-3bdd-419b-895a-a2f684e1076c\")>, <selenium.webdriver.remote.webelement.WebElement (session=\"704bb066a88cabe6f9199d84f837469f\", element=\"dece083c-b19e-460a-ae10-2a8db7346b68\")>, <selenium.webdriver.remote.webelement.WebElement (session=\"704bb066a88cabe6f9199d84f837469f\", element=\"da45ece3-2b7b-4da9-83a7-1fad115fbd0e\")>, <selenium.webdriver.remote.webelement.WebElement (session=\"704bb066a88cabe6f9199d84f837469f\", element=\"6d18a3e5-cfe9-4d66-8bbe-1fce9969ee0a\")>, <selenium.webdriver.remote.webelement.WebElement (session=\"704bb066a88cabe6f9199d84f837469f\", element=\"9f634887-ac84-4ee3-a4cf-d70d15cd478c\")>, <selenium.webdriver.remote.webelement.WebElement (session=\"704bb066a88cabe6f9199d84f837469f\", element=\"97b04e32-08d8-4f7c-a48b-64d8ef61a9fe\")>, <selenium.webdriver.remote.webelement.WebElement (session=\"704bb066a88cabe6f9199d84f837469f\", element=\"f967f51a-d9c8-4bac-930d-5bb174f31729\")>, <selenium.webdriver.remote.webelement.WebElement (session=\"704bb066a88cabe6f9199d84f837469f\", element=\"4d906ba8-ab87-4504-b8ba-8b275948e46c\")>, <selenium.webdriver.remote.webelement.WebElement (session=\"704bb066a88cabe6f9199d84f837469f\", element=\"9984bb6b-62b0-4445-8920-b023e6471d76\")>, <selenium.webdriver.remote.webelement.WebElement (session=\"704bb066a88cabe6f9199d84f837469f\", element=\"67234f65-7b37-4c97-8053-1c97d489efa2\")>, <selenium.webdriver.remote.webelement.WebElement (session=\"704bb066a88cabe6f9199d84f837469f\", element=\"d8723e5f-90e3-4ee7-b564-a44a26d13d9f\")>, <selenium.webdriver.remote.webelement.WebElement (session=\"704bb066a88cabe6f9199d84f837469f\", element=\"eeb51735-f03c-43a1-ae28-539920df5bc3\")>, <selenium.webdriver.remote.webelement.WebElement (session=\"704bb066a88cabe6f9199d84f837469f\", element=\"66e738ba-3ab3-4a9c-85c3-c10e4810f8ce\")>, <selenium.webdriver.remote.webelement.WebElement (session=\"704bb066a88cabe6f9199d84f837469f\", element=\"5b22a82d-5198-404a-8b84-95c1928635a1\")>, <selenium.webdriver.remote.webelement.WebElement (session=\"704bb066a88cabe6f9199d84f837469f\", element=\"aa8e76a0-dab5-4625-b2b7-84161aa0ec0a\")>, <selenium.webdriver.remote.webelement.WebElement (session=\"704bb066a88cabe6f9199d84f837469f\", element=\"c7596da1-0697-4654-9748-4707e3be03a0\")>, <selenium.webdriver.remote.webelement.WebElement (session=\"704bb066a88cabe6f9199d84f837469f\", element=\"6b4a404e-afb8-49bc-bb8f-dd12a5c999b3\")>, <selenium.webdriver.remote.webelement.WebElement (session=\"704bb066a88cabe6f9199d84f837469f\", element=\"0f04abd9-f45d-4c3b-8782-22ad25ab9b36\")>, <selenium.webdriver.remote.webelement.WebElement (session=\"704bb066a88cabe6f9199d84f837469f\", element=\"f0cdcebe-f416-47a5-b299-58b3a85ed19b\")>, <selenium.webdriver.remote.webelement.WebElement (session=\"704bb066a88cabe6f9199d84f837469f\", element=\"f321810f-6612-42fa-9c02-6b3578f015b2\")>, <selenium.webdriver.remote.webelement.WebElement (session=\"704bb066a88cabe6f9199d84f837469f\", element=\"475b1854-7806-404b-9ee4-db1d39ab0574\")>, <selenium.webdriver.remote.webelement.WebElement (session=\"704bb066a88cabe6f9199d84f837469f\", element=\"d79f8693-c16d-4f1a-a0a3-87ce9bed8cc2\")>, <selenium.webdriver.remote.webelement.WebElement (session=\"704bb066a88cabe6f9199d84f837469f\", element=\"aaece88c-5d0d-4f61-9965-20c31cc51e1b\")>, <selenium.webdriver.remote.webelement.WebElement (session=\"704bb066a88cabe6f9199d84f837469f\", element=\"79f6e015-7236-4996-ad5c-6a7326c9553f\")>, <selenium.webdriver.remote.webelement.WebElement (session=\"704bb066a88cabe6f9199d84f837469f\", element=\"c87a1f38-8241-40b2-a4df-777a1c1057ea\")>, <selenium.webdriver.remote.webelement.WebElement (session=\"704bb066a88cabe6f9199d84f837469f\", element=\"a56771f6-504b-469d-ba84-17de7b81601c\")>, <selenium.webdriver.remote.webelement.WebElement (session=\"704bb066a88cabe6f9199d84f837469f\", element=\"b4fbb2d2-fdb9-4716-87cd-6888012e7959\")>, <selenium.webdriver.remote.webelement.WebElement (session=\"704bb066a88cabe6f9199d84f837469f\", element=\"a1a8e1b1-fced-4209-9513-a6304c2f18aa\")>, <selenium.webdriver.remote.webelement.WebElement (session=\"704bb066a88cabe6f9199d84f837469f\", element=\"81d396c4-59c1-44b6-8306-6b32d220f4e0\")>, <selenium.webdriver.remote.webelement.WebElement (session=\"704bb066a88cabe6f9199d84f837469f\", element=\"1860fd88-1b2d-4464-bb17-023de3f18137\")>, <selenium.webdriver.remote.webelement.WebElement (session=\"704bb066a88cabe6f9199d84f837469f\", element=\"dc405dc0-7c90-403f-a56c-df2a184ce56c\")>, <selenium.webdriver.remote.webelement.WebElement (session=\"704bb066a88cabe6f9199d84f837469f\", element=\"8e111675-372b-45b4-a9c7-7de229871d9a\")>, <selenium.webdriver.remote.webelement.WebElement (session=\"704bb066a88cabe6f9199d84f837469f\", element=\"73755d72-705e-4091-a34c-f522aec3eebe\")>, <selenium.webdriver.remote.webelement.WebElement (session=\"704bb066a88cabe6f9199d84f837469f\", element=\"fb4f23a4-05d6-449c-a605-26a6b7a1f017\")>, <selenium.webdriver.remote.webelement.WebElement (session=\"704bb066a88cabe6f9199d84f837469f\", element=\"048be02e-1a74-417e-969d-24ef5b7ac7fb\")>, <selenium.webdriver.remote.webelement.WebElement (session=\"704bb066a88cabe6f9199d84f837469f\", element=\"f3e6fd07-389f-4568-94dd-dc6c616c1cb5\")>, <selenium.webdriver.remote.webelement.WebElement (session=\"704bb066a88cabe6f9199d84f837469f\", element=\"e662b3c8-2648-49a2-95ea-f5e9e7605c00\")>, <selenium.webdriver.remote.webelement.WebElement (session=\"704bb066a88cabe6f9199d84f837469f\", element=\"512d09ea-4da1-4577-9fcc-63d9f82dcc14\")>, <selenium.webdriver.remote.webelement.WebElement (session=\"704bb066a88cabe6f9199d84f837469f\", element=\"da475de3-7f82-4bc8-89b8-cea58e179acf\")>, <selenium.webdriver.remote.webelement.WebElement (session=\"704bb066a88cabe6f9199d84f837469f\", element=\"daf82cc8-cf05-4d82-a65e-8d289a1d22b1\")>, <selenium.webdriver.remote.webelement.WebElement (session=\"704bb066a88cabe6f9199d84f837469f\", element=\"4a5079ca-d20e-46fe-9772-a4237d8fec03\")>, <selenium.webdriver.remote.webelement.WebElement (session=\"704bb066a88cabe6f9199d84f837469f\", element=\"100f8a89-ca8d-4a33-8b7d-1cdd91414137\")>, <selenium.webdriver.remote.webelement.WebElement (session=\"704bb066a88cabe6f9199d84f837469f\", element=\"6e234fcf-ee00-4e60-9079-d8bf56e1b959\")>, <selenium.webdriver.remote.webelement.WebElement (session=\"704bb066a88cabe6f9199d84f837469f\", element=\"595ace85-ab81-4b99-b69b-8084901b3bb9\")>, <selenium.webdriver.remote.webelement.WebElement (session=\"704bb066a88cabe6f9199d84f837469f\", element=\"9bcbb9f4-5532-42a6-b9c7-7d5469c075ec\")>, <selenium.webdriver.remote.webelement.WebElement (session=\"704bb066a88cabe6f9199d84f837469f\", element=\"a042ae0e-e651-4350-8bf6-b190e18e712d\")>, <selenium.webdriver.remote.webelement.WebElement (session=\"704bb066a88cabe6f9199d84f837469f\", element=\"5b2b1998-e0bc-478b-8e6e-b145bc35291c\")>, <selenium.webdriver.remote.webelement.WebElement (session=\"704bb066a88cabe6f9199d84f837469f\", element=\"1730b6a2-e168-4e2e-88d7-898946dc7018\")>, <selenium.webdriver.remote.webelement.WebElement (session=\"704bb066a88cabe6f9199d84f837469f\", element=\"29579d4b-2b2d-4f00-a4ed-5d3ca462de44\")>, <selenium.webdriver.remote.webelement.WebElement (session=\"704bb066a88cabe6f9199d84f837469f\", element=\"5d37e293-1d08-42d1-b51f-bc5b3df843e8\")>, <selenium.webdriver.remote.webelement.WebElement (session=\"704bb066a88cabe6f9199d84f837469f\", element=\"1958a9b6-1de0-4e5b-a12d-81e397903868\")>, <selenium.webdriver.remote.webelement.WebElement (session=\"704bb066a88cabe6f9199d84f837469f\", element=\"347bb751-71f2-4bd0-a5b4-ced3103d6dc1\")>, <selenium.webdriver.remote.webelement.WebElement (session=\"704bb066a88cabe6f9199d84f837469f\", element=\"43acbfc5-4a9c-4100-af29-71b233a44d14\")>, <selenium.webdriver.remote.webelement.WebElement (session=\"704bb066a88cabe6f9199d84f837469f\", element=\"90b047ae-2a13-4241-9b3c-d573d8126d9c\")>, <selenium.webdriver.remote.webelement.WebElement (session=\"704bb066a88cabe6f9199d84f837469f\", element=\"b8d398d9-0a2a-4520-9092-6b0a8a0f77c9\")>, <selenium.webdriver.remote.webelement.WebElement (session=\"704bb066a88cabe6f9199d84f837469f\", element=\"ee02528a-ff32-48d6-8336-7f3572a384d1\")>, <selenium.webdriver.remote.webelement.WebElement (session=\"704bb066a88cabe6f9199d84f837469f\", element=\"dbbffdce-3d59-4d04-a9e7-e1948f05ea6d\")>, <selenium.webdriver.remote.webelement.WebElement (session=\"704bb066a88cabe6f9199d84f837469f\", element=\"9d2b87df-52a4-46f0-ba4d-1eead47696f6\")>, <selenium.webdriver.remote.webelement.WebElement (session=\"704bb066a88cabe6f9199d84f837469f\", element=\"5c61721f-7b67-42db-b719-c3dc7c9a9816\")>, <selenium.webdriver.remote.webelement.WebElement (session=\"704bb066a88cabe6f9199d84f837469f\", element=\"cb697d02-f20e-4a2e-99fa-0cd1190c20e5\")>, <selenium.webdriver.remote.webelement.WebElement (session=\"704bb066a88cabe6f9199d84f837469f\", element=\"879114e4-a150-47d1-a01b-6d1654f19ebb\")>, <selenium.webdriver.remote.webelement.WebElement (session=\"704bb066a88cabe6f9199d84f837469f\", element=\"8751ecc6-e596-4482-a768-328c181d64d5\")>, <selenium.webdriver.remote.webelement.WebElement (session=\"704bb066a88cabe6f9199d84f837469f\", element=\"8730159c-342e-4d97-b1cf-769524e290fc\")>, <selenium.webdriver.remote.webelement.WebElement (session=\"704bb066a88cabe6f9199d84f837469f\", element=\"30bacc83-8258-4270-a244-fadba368375b\")>, <selenium.webdriver.remote.webelement.WebElement (session=\"704bb066a88cabe6f9199d84f837469f\", element=\"16f98718-240c-4c3a-a59e-4c5c621239fe\")>, <selenium.webdriver.remote.webelement.WebElement (session=\"704bb066a88cabe6f9199d84f837469f\", element=\"2b622eb3-6c90-42a8-a357-27aa30784269\")>, <selenium.webdriver.remote.webelement.WebElement (session=\"704bb066a88cabe6f9199d84f837469f\", element=\"46c8c07a-ae23-43f2-bae2-ddb45c68b7d1\")>, <selenium.webdriver.remote.webelement.WebElement (session=\"704bb066a88cabe6f9199d84f837469f\", element=\"b1866087-9161-4a34-b137-fd0fa099dfac\")>, <selenium.webdriver.remote.webelement.WebElement (session=\"704bb066a88cabe6f9199d84f837469f\", element=\"b19ee61a-fa60-427a-90bb-1866f762bf0e\")>, <selenium.webdriver.remote.webelement.WebElement (session=\"704bb066a88cabe6f9199d84f837469f\", element=\"1c78d2b4-c719-4dec-9d79-ec58eb7c7109\")>, <selenium.webdriver.remote.webelement.WebElement (session=\"704bb066a88cabe6f9199d84f837469f\", element=\"f97d4249-e1fc-451a-96f3-66a1b73ee74d\")>, <selenium.webdriver.remote.webelement.WebElement (session=\"704bb066a88cabe6f9199d84f837469f\", element=\"b6328e66-a6a7-4ad8-a667-bd1002fa41b0\")>, <selenium.webdriver.remote.webelement.WebElement (session=\"704bb066a88cabe6f9199d84f837469f\", element=\"aea8d2cd-e25e-4c18-9caa-1841ec618937\")>, <selenium.webdriver.remote.webelement.WebElement (session=\"704bb066a88cabe6f9199d84f837469f\", element=\"7e03bb0c-e8da-4592-90bd-4bc7a75a2e39\")>, <selenium.webdriver.remote.webelement.WebElement (session=\"704bb066a88cabe6f9199d84f837469f\", element=\"8543cf72-1839-4505-924b-255eadf0e130\")>, <selenium.webdriver.remote.webelement.WebElement (session=\"704bb066a88cabe6f9199d84f837469f\", element=\"6bf58c11-b974-42a2-8d95-36f7c51f1fe2\")>, <selenium.webdriver.remote.webelement.WebElement (session=\"704bb066a88cabe6f9199d84f837469f\", element=\"cbe2d4cd-91d4-42b3-ba1b-d1aea27757c2\")>, <selenium.webdriver.remote.webelement.WebElement (session=\"704bb066a88cabe6f9199d84f837469f\", element=\"f0793ab5-6a50-4d55-b841-0ac9be87dfe6\")>, <selenium.webdriver.remote.webelement.WebElement (session=\"704bb066a88cabe6f9199d84f837469f\", element=\"b912bdff-5477-48cc-b3f5-3e0f3cea48b5\")>, <selenium.webdriver.remote.webelement.WebElement (session=\"704bb066a88cabe6f9199d84f837469f\", element=\"359e3aab-f9c1-4be3-8feb-ce880fb0f036\")>, <selenium.webdriver.remote.webelement.WebElement (session=\"704bb066a88cabe6f9199d84f837469f\", element=\"0d940d7a-ab73-4a37-962a-cb3a0e97dfa7\")>, <selenium.webdriver.remote.webelement.WebElement (session=\"704bb066a88cabe6f9199d84f837469f\", element=\"e45000cf-036d-4206-a4eb-f06e86de19b6\")>, <selenium.webdriver.remote.webelement.WebElement (session=\"704bb066a88cabe6f9199d84f837469f\", element=\"f85171f5-b954-4ae8-bfb6-6e740b56821a\")>, <selenium.webdriver.remote.webelement.WebElement (session=\"704bb066a88cabe6f9199d84f837469f\", element=\"1d66e5b1-a7e7-4cd8-bf9f-906bc0467b5d\")>, <selenium.webdriver.remote.webelement.WebElement (session=\"704bb066a88cabe6f9199d84f837469f\", element=\"e05f88b8-6894-4757-a555-f6080c7620ad\")>, <selenium.webdriver.remote.webelement.WebElement (session=\"704bb066a88cabe6f9199d84f837469f\", element=\"8a6fd170-74d4-450e-8df3-9965ba6160e0\")>, <selenium.webdriver.remote.webelement.WebElement (session=\"704bb066a88cabe6f9199d84f837469f\", element=\"0bfff43c-c262-4bd1-b062-294c6bef9d66\")>, <selenium.webdriver.remote.webelement.WebElement (session=\"704bb066a88cabe6f9199d84f837469f\", element=\"a9499ad7-7937-48e2-a755-d08dba50648f\")>, <selenium.webdriver.remote.webelement.WebElement (session=\"704bb066a88cabe6f9199d84f837469f\", element=\"3dfdf93f-6040-4633-a668-3e7039407f04\")>, <selenium.webdriver.remote.webelement.WebElement (session=\"704bb066a88cabe6f9199d84f837469f\", element=\"109c4aa1-76f4-4424-b802-90843859435c\")>, <selenium.webdriver.remote.webelement.WebElement (session=\"704bb066a88cabe6f9199d84f837469f\", element=\"f80b73c5-c0c8-4321-9aec-56e4b352da1c\")>, <selenium.webdriver.remote.webelement.WebElement (session=\"704bb066a88cabe6f9199d84f837469f\", element=\"55c3b128-ebc8-431f-a712-6405b5ea0dad\")>, <selenium.webdriver.remote.webelement.WebElement (session=\"704bb066a88cabe6f9199d84f837469f\", element=\"70fbe321-cf08-4117-b6e6-529c22df8d5e\")>, <selenium.webdriver.remote.webelement.WebElement (session=\"704bb066a88cabe6f9199d84f837469f\", element=\"19649d8c-c0e4-4070-8449-2c8a6c3982b8\")>, <selenium.webdriver.remote.webelement.WebElement (session=\"704bb066a88cabe6f9199d84f837469f\", element=\"4d7627f0-8a23-4010-8901-f631a0d1dd39\")>, <selenium.webdriver.remote.webelement.WebElement (session=\"704bb066a88cabe6f9199d84f837469f\", element=\"0bc3dbd6-d98b-45bb-8393-da64b815e2d5\")>, <selenium.webdriver.remote.webelement.WebElement (session=\"704bb066a88cabe6f9199d84f837469f\", element=\"e3cb524a-9723-4f2a-9f6a-9feb6dd8d36c\")>, <selenium.webdriver.remote.webelement.WebElement (session=\"704bb066a88cabe6f9199d84f837469f\", element=\"80cb3ea1-0a04-4a1a-9e30-64885a9be9c5\")>, <selenium.webdriver.remote.webelement.WebElement (session=\"704bb066a88cabe6f9199d84f837469f\", element=\"4088a019-5ccd-4ed0-9415-e82dc6fd605a\")>, <selenium.webdriver.remote.webelement.WebElement (session=\"704bb066a88cabe6f9199d84f837469f\", element=\"9fb4ce8d-b9b9-4a69-97b3-b74b1ec142da\")>, <selenium.webdriver.remote.webelement.WebElement (session=\"704bb066a88cabe6f9199d84f837469f\", element=\"1ee34f61-e063-43af-aa84-b9a029f97ace\")>, <selenium.webdriver.remote.webelement.WebElement (session=\"704bb066a88cabe6f9199d84f837469f\", element=\"048ce6ba-1740-44da-b333-035685852156\")>, <selenium.webdriver.remote.webelement.WebElement (session=\"704bb066a88cabe6f9199d84f837469f\", element=\"8b08fc93-1d54-4c2f-92d1-b30039dddb4f\")>, <selenium.webdriver.remote.webelement.WebElement (session=\"704bb066a88cabe6f9199d84f837469f\", element=\"5964bc43-f6bd-4031-b5e2-c8f313b19cdf\")>, <selenium.webdriver.remote.webelement.WebElement (session=\"704bb066a88cabe6f9199d84f837469f\", element=\"16458b92-efc6-4eb4-a7a6-a7455d441419\")>, <selenium.webdriver.remote.webelement.WebElement (session=\"704bb066a88cabe6f9199d84f837469f\", element=\"8d8ba4d2-dd5c-43a8-8915-b34f59f1404b\")>, <selenium.webdriver.remote.webelement.WebElement (session=\"704bb066a88cabe6f9199d84f837469f\", element=\"2a4f6c49-1201-4edf-a9a6-b9694b1cbab0\")>, <selenium.webdriver.remote.webelement.WebElement (session=\"704bb066a88cabe6f9199d84f837469f\", element=\"03672660-0d9e-4659-b99a-d19a878816f0\")>, <selenium.webdriver.remote.webelement.WebElement (session=\"704bb066a88cabe6f9199d84f837469f\", element=\"6b824f24-eb3f-4efb-868a-f001724fb840\")>, <selenium.webdriver.remote.webelement.WebElement (session=\"704bb066a88cabe6f9199d84f837469f\", element=\"9a62dc9a-0b6b-4442-9a43-16ed65d1ee6d\")>, <selenium.webdriver.remote.webelement.WebElement (session=\"704bb066a88cabe6f9199d84f837469f\", element=\"4c8fc125-0db0-434d-b55d-ee6770862b30\")>, <selenium.webdriver.remote.webelement.WebElement (session=\"704bb066a88cabe6f9199d84f837469f\", element=\"8e25dca3-89ad-42e9-9274-61054d21b2f8\")>, <selenium.webdriver.remote.webelement.WebElement (session=\"704bb066a88cabe6f9199d84f837469f\", element=\"cf70d5b3-a1a7-45cc-8d79-12e39bbc0165\")>, <selenium.webdriver.remote.webelement.WebElement (session=\"704bb066a88cabe6f9199d84f837469f\", element=\"8923218c-c5ec-4011-9b47-a0d1dd480455\")>, <selenium.webdriver.remote.webelement.WebElement (session=\"704bb066a88cabe6f9199d84f837469f\", element=\"60631406-7beb-4a0f-8328-f98037760aa7\")>, <selenium.webdriver.remote.webelement.WebElement (session=\"704bb066a88cabe6f9199d84f837469f\", element=\"059394ab-85bb-4bc3-bf0c-d3485dabf194\")>, <selenium.webdriver.remote.webelement.WebElement (session=\"704bb066a88cabe6f9199d84f837469f\", element=\"f7dbc0c8-2160-43a7-9cb3-8fa53cdad63d\")>, <selenium.webdriver.remote.webelement.WebElement (session=\"704bb066a88cabe6f9199d84f837469f\", element=\"9e7040d7-43fd-423b-aa9a-d37052b59e99\")>, <selenium.webdriver.remote.webelement.WebElement (session=\"704bb066a88cabe6f9199d84f837469f\", element=\"5bd264f7-0804-43c9-82e9-4c65a8ecc89b\")>, <selenium.webdriver.remote.webelement.WebElement (session=\"704bb066a88cabe6f9199d84f837469f\", element=\"0df3d175-6ee9-4aee-8ac7-a580c2d069dd\")>, <selenium.webdriver.remote.webelement.WebElement (session=\"704bb066a88cabe6f9199d84f837469f\", element=\"0a054f39-18b2-47a2-ae5c-91c60a97eb21\")>, <selenium.webdriver.remote.webelement.WebElement (session=\"704bb066a88cabe6f9199d84f837469f\", element=\"cb8f1f42-4ba1-4ab1-b85f-60e3baa675ca\")>, <selenium.webdriver.remote.webelement.WebElement (session=\"704bb066a88cabe6f9199d84f837469f\", element=\"85b99430-922c-4cd7-a7fc-3c5d3c394c0f\")>, <selenium.webdriver.remote.webelement.WebElement (session=\"704bb066a88cabe6f9199d84f837469f\", element=\"89464ee6-c27b-4e29-9189-4471acd9d4e4\")>, <selenium.webdriver.remote.webelement.WebElement (session=\"704bb066a88cabe6f9199d84f837469f\", element=\"3a2a8a5b-8dba-4144-a53c-95cf15f341d9\")>, <selenium.webdriver.remote.webelement.WebElement (session=\"704bb066a88cabe6f9199d84f837469f\", element=\"5dc5ac07-e9ff-47d5-9034-9af79c692703\")>, <selenium.webdriver.remote.webelement.WebElement (session=\"704bb066a88cabe6f9199d84f837469f\", element=\"5f691ded-3507-4747-9e48-e5f778a9e480\")>, <selenium.webdriver.remote.webelement.WebElement (session=\"704bb066a88cabe6f9199d84f837469f\", element=\"0341013b-90d7-4e3c-b511-3030cc487907\")>, <selenium.webdriver.remote.webelement.WebElement (session=\"704bb066a88cabe6f9199d84f837469f\", element=\"9fac5272-075d-4a31-ac1c-f7211be1849a\")>, <selenium.webdriver.remote.webelement.WebElement (session=\"704bb066a88cabe6f9199d84f837469f\", element=\"1c8a4903-6072-4df6-8e8b-b7dc216fd209\")>, <selenium.webdriver.remote.webelement.WebElement (session=\"704bb066a88cabe6f9199d84f837469f\", element=\"e7d513bd-f288-43ba-9c61-3537ce7f101f\")>, <selenium.webdriver.remote.webelement.WebElement (session=\"704bb066a88cabe6f9199d84f837469f\", element=\"6349c965-9b12-4eaf-91e8-959c53d3da69\")>, <selenium.webdriver.remote.webelement.WebElement (session=\"704bb066a88cabe6f9199d84f837469f\", element=\"629ed2bb-f8f1-4749-b44d-3d111b90fb60\")>, <selenium.webdriver.remote.webelement.WebElement (session=\"704bb066a88cabe6f9199d84f837469f\", element=\"5f58518f-b910-47e6-a93d-17ddacc707bc\")>, <selenium.webdriver.remote.webelement.WebElement (session=\"704bb066a88cabe6f9199d84f837469f\", element=\"a6ee9418-6e50-4149-ab26-f9f128678463\")>, <selenium.webdriver.remote.webelement.WebElement (session=\"704bb066a88cabe6f9199d84f837469f\", element=\"2d81a73e-8715-4344-a3c6-8c5f127a8fe5\")>, <selenium.webdriver.remote.webelement.WebElement (session=\"704bb066a88cabe6f9199d84f837469f\", element=\"fe80eccf-e281-48be-9cb7-d48c980e78d5\")>, <selenium.webdriver.remote.webelement.WebElement (session=\"704bb066a88cabe6f9199d84f837469f\", element=\"aa8f1de4-dce4-4b9f-90c2-e54e0f3bd3b8\")>, <selenium.webdriver.remote.webelement.WebElement (session=\"704bb066a88cabe6f9199d84f837469f\", element=\"f5c098db-9249-441e-ba28-a08188f1dff2\")>, <selenium.webdriver.remote.webelement.WebElement (session=\"704bb066a88cabe6f9199d84f837469f\", element=\"7de8edfa-9165-4cc1-85cf-d6e307cff75b\")>, <selenium.webdriver.remote.webelement.WebElement (session=\"704bb066a88cabe6f9199d84f837469f\", element=\"cc7b983a-b2a2-42eb-a397-e6cffac32a03\")>, <selenium.webdriver.remote.webelement.WebElement (session=\"704bb066a88cabe6f9199d84f837469f\", element=\"68467ac6-02af-4bef-bf44-33b489f65034\")>, <selenium.webdriver.remote.webelement.WebElement (session=\"704bb066a88cabe6f9199d84f837469f\", element=\"2f3b6edb-c612-4038-a4cd-2b74adc63ce1\")>, <selenium.webdriver.remote.webelement.WebElement (session=\"704bb066a88cabe6f9199d84f837469f\", element=\"2bc85152-02a9-4776-993f-76d579b8a394\")>, <selenium.webdriver.remote.webelement.WebElement (session=\"704bb066a88cabe6f9199d84f837469f\", element=\"1b8fbe52-578c-46dd-8aae-21886439fa76\")>, <selenium.webdriver.remote.webelement.WebElement (session=\"704bb066a88cabe6f9199d84f837469f\", element=\"432bc247-ab54-4eed-a12a-2e98bb15c0de\")>, <selenium.webdriver.remote.webelement.WebElement (session=\"704bb066a88cabe6f9199d84f837469f\", element=\"793c80a4-46f2-4ddb-b22c-174f885c3d85\")>, <selenium.webdriver.remote.webelement.WebElement (session=\"704bb066a88cabe6f9199d84f837469f\", element=\"76d2e647-05f8-4ffa-b07c-2ea65327a866\")>, <selenium.webdriver.remote.webelement.WebElement (session=\"704bb066a88cabe6f9199d84f837469f\", element=\"91f5eff0-4cfa-4618-bb6c-8602386da250\")>, <selenium.webdriver.remote.webelement.WebElement (session=\"704bb066a88cabe6f9199d84f837469f\", element=\"d2b4a75c-39c3-4aa2-8209-7038121cbd28\")>, <selenium.webdriver.remote.webelement.WebElement (session=\"704bb066a88cabe6f9199d84f837469f\", element=\"69dc3883-b9e5-4efe-9ca1-756f9a1f398a\")>, <selenium.webdriver.remote.webelement.WebElement (session=\"704bb066a88cabe6f9199d84f837469f\", element=\"6a43155a-4dfd-4031-820a-5187647340e2\")>, <selenium.webdriver.remote.webelement.WebElement (session=\"704bb066a88cabe6f9199d84f837469f\", element=\"7c8b7c7a-8cdf-46b0-b42b-0eeecfc88a58\")>, <selenium.webdriver.remote.webelement.WebElement (session=\"704bb066a88cabe6f9199d84f837469f\", element=\"cc74209f-c081-4cdf-90fc-801262d3a93e\")>, <selenium.webdriver.remote.webelement.WebElement (session=\"704bb066a88cabe6f9199d84f837469f\", element=\"a8978313-284a-43cc-833b-6066f4fff98e\")>, <selenium.webdriver.remote.webelement.WebElement (session=\"704bb066a88cabe6f9199d84f837469f\", element=\"51f86781-1802-4b69-bda1-da934dc5aeec\")>, <selenium.webdriver.remote.webelement.WebElement (session=\"704bb066a88cabe6f9199d84f837469f\", element=\"fac93d78-34b0-4a03-abb9-5bfcdfaf98bb\")>, <selenium.webdriver.remote.webelement.WebElement (session=\"704bb066a88cabe6f9199d84f837469f\", element=\"36df817b-8f7a-4b48-ba48-49d7e54b71a6\")>, <selenium.webdriver.remote.webelement.WebElement (session=\"704bb066a88cabe6f9199d84f837469f\", element=\"dc3f3237-3000-4fae-914e-727a5171fb4a\")>, <selenium.webdriver.remote.webelement.WebElement (session=\"704bb066a88cabe6f9199d84f837469f\", element=\"6162b785-6f83-4b75-86b0-3d740e2724ca\")>, <selenium.webdriver.remote.webelement.WebElement (session=\"704bb066a88cabe6f9199d84f837469f\", element=\"bc7d3a56-f1f0-47a9-b203-5f1f8a0ba995\")>, <selenium.webdriver.remote.webelement.WebElement (session=\"704bb066a88cabe6f9199d84f837469f\", element=\"9543567e-28c1-460c-a647-c68fd0500ccd\")>, <selenium.webdriver.remote.webelement.WebElement (session=\"704bb066a88cabe6f9199d84f837469f\", element=\"aee8615d-c830-4016-90f6-6ad902f25837\")>, <selenium.webdriver.remote.webelement.WebElement (session=\"704bb066a88cabe6f9199d84f837469f\", element=\"aea1022a-12d4-4473-b93e-62d505639829\")>, <selenium.webdriver.remote.webelement.WebElement (session=\"704bb066a88cabe6f9199d84f837469f\", element=\"143a3033-4491-448e-8366-48179fcd5756\")>, <selenium.webdriver.remote.webelement.WebElement (session=\"704bb066a88cabe6f9199d84f837469f\", element=\"3e64a773-7cda-4457-b2fc-a4141770f22d\")>, <selenium.webdriver.remote.webelement.WebElement (session=\"704bb066a88cabe6f9199d84f837469f\", element=\"b7fd24ed-425a-4a70-aa4d-b1bc0cd0b310\")>, <selenium.webdriver.remote.webelement.WebElement (session=\"704bb066a88cabe6f9199d84f837469f\", element=\"559b80c4-4868-43fe-b99b-485927c3151b\")>, <selenium.webdriver.remote.webelement.WebElement (session=\"704bb066a88cabe6f9199d84f837469f\", element=\"f70fdbde-3b10-45e4-9048-eaf3f1a5f970\")>, <selenium.webdriver.remote.webelement.WebElement (session=\"704bb066a88cabe6f9199d84f837469f\", element=\"f15b3fdf-6bd4-41f0-a7f0-2871a360ecfa\")>, <selenium.webdriver.remote.webelement.WebElement (session=\"704bb066a88cabe6f9199d84f837469f\", element=\"0b8b0d7e-8235-4d72-a878-0a5f0ef7795b\")>, <selenium.webdriver.remote.webelement.WebElement (session=\"704bb066a88cabe6f9199d84f837469f\", element=\"853e2a02-e28e-4ee2-adaf-b03725392695\")>, <selenium.webdriver.remote.webelement.WebElement (session=\"704bb066a88cabe6f9199d84f837469f\", element=\"c8a48fc8-3428-4d9e-81ac-950c8a5fb1cd\")>, <selenium.webdriver.remote.webelement.WebElement (session=\"704bb066a88cabe6f9199d84f837469f\", element=\"0f8a1f80-531b-485e-8c06-ddc803dfead3\")>, <selenium.webdriver.remote.webelement.WebElement (session=\"704bb066a88cabe6f9199d84f837469f\", element=\"7c7fba06-4916-4574-8526-3b324b7abb60\")>, <selenium.webdriver.remote.webelement.WebElement (session=\"704bb066a88cabe6f9199d84f837469f\", element=\"37f3cded-d5ba-4174-9a71-7ab6d37f976b\")>, <selenium.webdriver.remote.webelement.WebElement (session=\"704bb066a88cabe6f9199d84f837469f\", element=\"d86cc953-5dc3-4e94-9a76-10df5391dbc8\")>, <selenium.webdriver.remote.webelement.WebElement (session=\"704bb066a88cabe6f9199d84f837469f\", element=\"71ff8f12-e5d2-4678-bd60-77468921dd5a\")>, <selenium.webdriver.remote.webelement.WebElement (session=\"704bb066a88cabe6f9199d84f837469f\", element=\"9a61c4a0-2413-48e9-91b2-025bc2e0e959\")>, <selenium.webdriver.remote.webelement.WebElement (session=\"704bb066a88cabe6f9199d84f837469f\", element=\"69c9c3e1-fa8d-4ba7-8fbc-8eac2147f426\")>, <selenium.webdriver.remote.webelement.WebElement (session=\"704bb066a88cabe6f9199d84f837469f\", element=\"2aae70ae-a1cc-4904-8e8e-abce7b0b2f84\")>, <selenium.webdriver.remote.webelement.WebElement (session=\"704bb066a88cabe6f9199d84f837469f\", element=\"c269f239-a83f-417d-b587-2d3f360ce16e\")>, <selenium.webdriver.remote.webelement.WebElement (session=\"704bb066a88cabe6f9199d84f837469f\", element=\"7ccd1e2b-877d-47db-8a89-71b47a627a2e\")>, <selenium.webdriver.remote.webelement.WebElement (session=\"704bb066a88cabe6f9199d84f837469f\", element=\"66e763ba-6111-4175-88e8-2644b653cc01\")>, <selenium.webdriver.remote.webelement.WebElement (session=\"704bb066a88cabe6f9199d84f837469f\", element=\"4499d485-ef43-4c3d-902e-493c1ab6367d\")>, <selenium.webdriver.remote.webelement.WebElement (session=\"704bb066a88cabe6f9199d84f837469f\", element=\"5dda1ec5-7463-4bd8-9093-177cbd6ce7e2\")>, <selenium.webdriver.remote.webelement.WebElement (session=\"704bb066a88cabe6f9199d84f837469f\", element=\"411e92a6-dca1-44e5-8e23-40fd59569084\")>, <selenium.webdriver.remote.webelement.WebElement (session=\"704bb066a88cabe6f9199d84f837469f\", element=\"0a3a2836-b91f-465d-ae9a-4ffb053a87dd\")>, <selenium.webdriver.remote.webelement.WebElement (session=\"704bb066a88cabe6f9199d84f837469f\", element=\"c3f69d46-ecd2-4630-acab-99423c9fcdd9\")>, <selenium.webdriver.remote.webelement.WebElement (session=\"704bb066a88cabe6f9199d84f837469f\", element=\"2effcdae-aac4-4013-a39b-12761e2c3212\")>, <selenium.webdriver.remote.webelement.WebElement (session=\"704bb066a88cabe6f9199d84f837469f\", element=\"d6e4bf52-9a67-4936-8e80-a95b792e9df2\")>, <selenium.webdriver.remote.webelement.WebElement (session=\"704bb066a88cabe6f9199d84f837469f\", element=\"76264f5a-9bcf-46d8-8905-54ffa43e38d8\")>, <selenium.webdriver.remote.webelement.WebElement (session=\"704bb066a88cabe6f9199d84f837469f\", element=\"ca073de8-eebd-4725-9a3a-de7f7b4a2af8\")>, <selenium.webdriver.remote.webelement.WebElement (session=\"704bb066a88cabe6f9199d84f837469f\", element=\"c072d3e6-8b54-4e65-96bc-7da2e7c0729d\")>, <selenium.webdriver.remote.webelement.WebElement (session=\"704bb066a88cabe6f9199d84f837469f\", element=\"6fc0e6a7-c38e-4f31-9e25-d8dbf6278712\")>, <selenium.webdriver.remote.webelement.WebElement (session=\"704bb066a88cabe6f9199d84f837469f\", element=\"41047129-f7e8-441e-9c7c-ad80dc794d6f\")>, <selenium.webdriver.remote.webelement.WebElement (session=\"704bb066a88cabe6f9199d84f837469f\", element=\"9d06a65d-d9db-4c8d-b436-7cb858c33f04\")>, <selenium.webdriver.remote.webelement.WebElement (session=\"704bb066a88cabe6f9199d84f837469f\", element=\"f6fbd68f-7cda-480a-93d8-b7fe81f79105\")>, <selenium.webdriver.remote.webelement.WebElement (session=\"704bb066a88cabe6f9199d84f837469f\", element=\"88a64c45-11de-4c19-95c5-2de952b4023e\")>, <selenium.webdriver.remote.webelement.WebElement (session=\"704bb066a88cabe6f9199d84f837469f\", element=\"a41ac6e7-ded8-4368-a113-a2c6d3786bc4\")>, <selenium.webdriver.remote.webelement.WebElement (session=\"704bb066a88cabe6f9199d84f837469f\", element=\"68d850cb-a4a3-40c3-a713-284255e6dd6e\")>, <selenium.webdriver.remote.webelement.WebElement (session=\"704bb066a88cabe6f9199d84f837469f\", element=\"a71db63a-7c01-486e-a770-d852005547f0\")>, <selenium.webdriver.remote.webelement.WebElement (session=\"704bb066a88cabe6f9199d84f837469f\", element=\"66c884b6-2783-4564-b34c-589630a2c05f\")>, <selenium.webdriver.remote.webelement.WebElement (session=\"704bb066a88cabe6f9199d84f837469f\", element=\"c7f2f1aa-1617-469d-8f2a-0e673afb0e45\")>, <selenium.webdriver.remote.webelement.WebElement (session=\"704bb066a88cabe6f9199d84f837469f\", element=\"c1dbe700-ee73-4b01-92cd-05f35319f222\")>, <selenium.webdriver.remote.webelement.WebElement (session=\"704bb066a88cabe6f9199d84f837469f\", element=\"6b8df4cf-b66f-4ed3-8ed4-450ef1221a9c\")>, <selenium.webdriver.remote.webelement.WebElement (session=\"704bb066a88cabe6f9199d84f837469f\", element=\"71d47ba0-f543-4dd8-9d56-c1e2202af7fc\")>]\n"
     ]
    },
    {
     "ename": "AttributeError",
     "evalue": "'NoneType' object has no attribute 'text'",
     "output_type": "error",
     "traceback": [
      "\u001b[0;31m---------------------------------------------------------------------------\u001b[0m",
      "\u001b[0;31mAttributeError\u001b[0m                            Traceback (most recent call last)",
      "\u001b[0;32m<ipython-input-66-11af00b5276d>\u001b[0m in \u001b[0;36m<module>\u001b[0;34m\u001b[0m\n\u001b[1;32m      1\u001b[0m \u001b[0mlis\u001b[0m \u001b[0;34m=\u001b[0m \u001b[0mdriver\u001b[0m\u001b[0;34m.\u001b[0m\u001b[0mfind_elements_by_css_selector\u001b[0m\u001b[0;34m(\u001b[0m\u001b[0;34m'div'\u001b[0m\u001b[0;34m)\u001b[0m\u001b[0;34m\u001b[0m\u001b[0;34m\u001b[0m\u001b[0m\n\u001b[0;32m----> 2\u001b[0;31m \u001b[0mprint\u001b[0m\u001b[0;34m(\u001b[0m\u001b[0mlis\u001b[0m\u001b[0;34m)\u001b[0m\u001b[0;34m.\u001b[0m\u001b[0mtext\u001b[0m\u001b[0;34m\u001b[0m\u001b[0;34m\u001b[0m\u001b[0m\n\u001b[0m",
      "\u001b[0;31mAttributeError\u001b[0m: 'NoneType' object has no attribute 'text'"
     ]
    }
   ],
   "source": [
    "lis = driver.find_elements_by_css_selector('div')\n",
    "print(lis).text"
   ]
  },
  {
   "cell_type": "code",
   "execution_count": null,
   "metadata": {},
   "outputs": [],
   "source": []
  },
  {
   "cell_type": "code",
   "execution_count": null,
   "metadata": {},
   "outputs": [],
   "source": []
  },
  {
   "cell_type": "code",
   "execution_count": null,
   "metadata": {},
   "outputs": [],
   "source": []
  },
  {
   "cell_type": "code",
   "execution_count": null,
   "metadata": {},
   "outputs": [],
   "source": []
  },
  {
   "cell_type": "code",
   "execution_count": null,
   "metadata": {},
   "outputs": [],
   "source": []
  },
  {
   "cell_type": "code",
   "execution_count": null,
   "metadata": {},
   "outputs": [],
   "source": []
  },
  {
   "cell_type": "code",
   "execution_count": null,
   "metadata": {},
   "outputs": [],
   "source": [
    "STOP"
   ]
  },
  {
   "cell_type": "markdown",
   "metadata": {},
   "source": [
    "#### HTML"
   ]
  },
  {
   "cell_type": "code",
   "execution_count": 19,
   "metadata": {},
   "outputs": [
    {
     "data": {
      "text/plain": [
       "200"
      ]
     },
     "execution_count": 19,
     "metadata": {},
     "output_type": "execute_result"
    }
   ],
   "source": [
    "# Defining the url of the site\n",
    "base_site = \"https://www.spokanecounty.org/352/Inmate-Roster\"\n",
    "\n",
    "# Making a get request\n",
    "response = requests.get(base_site)\n",
    "response.status_code"
   ]
  },
  {
   "cell_type": "code",
   "execution_count": 20,
   "metadata": {},
   "outputs": [
    {
     "data": {
      "text/plain": [
       "b'\\r\\n\\r\\n<!DOCTYPE html>\\r\\n<html lang=\"en\">\\r\\n<head>\\r\\n\\r\\n\\t<meta http-equiv=\"Content-type\" content=\"text/html'"
      ]
     },
     "execution_count": 20,
     "metadata": {},
     "output_type": "execute_result"
    }
   ],
   "source": [
    "# Extracting the HTML\n",
    "html = response.content\n",
    "\n",
    "# Checking that the reply is indeed an HTML code by inspecting the first 100 symbols\n",
    "html[:100]"
   ]
  },
  {
   "cell_type": "code",
   "execution_count": 21,
   "metadata": {},
   "outputs": [],
   "source": [
    "# Convert HTML to a BeautifulSoup object.\n",
    "soup = BeautifulSoup(html, \"html.parser\")"
   ]
  },
  {
   "cell_type": "code",
   "execution_count": 22,
   "metadata": {},
   "outputs": [],
   "source": [
    "# Exporting the HTML to a file\n",
    "with open('Spokane_response.html', 'wb') as file:\n",
    "    file.write(soup.prettify('utf-8'))"
   ]
  },
  {
   "cell_type": "code",
   "execution_count": 54,
   "metadata": {},
   "outputs": [
    {
     "data": {
      "text/plain": [
       "[<title>Inmate Roster | Spokane County, WA</title>,\n",
       " <title>Arrow Left</title>,\n",
       " <title>Arrow Right</title>,\n",
       " <title>Slideshow Left Arrow</title>,\n",
       " <title>Slideshow Right Arrow</title>]"
      ]
     },
     "execution_count": 54,
     "metadata": {},
     "output_type": "execute_result"
    }
   ],
   "source": [
    "soup.find_all('title')"
   ]
  },
  {
   "cell_type": "code",
   "execution_count": 55,
   "metadata": {},
   "outputs": [
    {
     "ename": "AttributeError",
     "evalue": "ResultSet object has no attribute 'text'. You're probably treating a list of elements like a single element. Did you call find_all() when you meant to call find()?",
     "output_type": "error",
     "traceback": [
      "\u001b[0;31m---------------------------------------------------------------------------\u001b[0m",
      "\u001b[0;31mAttributeError\u001b[0m                            Traceback (most recent call last)",
      "\u001b[0;32m<ipython-input-55-e879f989ec8a>\u001b[0m in \u001b[0;36m<module>\u001b[0;34m\u001b[0m\n\u001b[0;32m----> 1\u001b[0;31m \u001b[0msoup\u001b[0m\u001b[0;34m.\u001b[0m\u001b[0mfind_all\u001b[0m\u001b[0;34m(\u001b[0m\u001b[0;34m'div'\u001b[0m\u001b[0;34m)\u001b[0m\u001b[0;34m.\u001b[0m\u001b[0mtext\u001b[0m\u001b[0;34m\u001b[0m\u001b[0;34m\u001b[0m\u001b[0m\n\u001b[0m",
      "\u001b[0;32m/opt/anaconda3/lib/python3.7/site-packages/bs4/element.py\u001b[0m in \u001b[0;36m__getattr__\u001b[0;34m(self, key)\u001b[0m\n\u001b[1;32m   2126\u001b[0m         \u001b[0;34m\"\"\"Raise a helpful exception to explain a common code fix.\"\"\"\u001b[0m\u001b[0;34m\u001b[0m\u001b[0;34m\u001b[0m\u001b[0m\n\u001b[1;32m   2127\u001b[0m         raise AttributeError(\n\u001b[0;32m-> 2128\u001b[0;31m             \u001b[0;34m\"ResultSet object has no attribute '%s'. You're probably treating a list of elements like a single element. Did you call find_all() when you meant to call find()?\"\u001b[0m \u001b[0;34m%\u001b[0m \u001b[0mkey\u001b[0m\u001b[0;34m\u001b[0m\u001b[0;34m\u001b[0m\u001b[0m\n\u001b[0m\u001b[1;32m   2129\u001b[0m         )\n",
      "\u001b[0;31mAttributeError\u001b[0m: ResultSet object has no attribute 'text'. You're probably treating a list of elements like a single element. Did you call find_all() when you meant to call find()?"
     ]
    }
   ],
   "source": [
    "soup.find_all('div')"
   ]
  },
  {
   "cell_type": "code",
   "execution_count": 24,
   "metadata": {},
   "outputs": [
    {
     "data": {
      "text/plain": [
       "[]"
      ]
     },
     "execution_count": 24,
     "metadata": {},
     "output_type": "execute_result"
    }
   ],
   "source": [
    "soup.find_all('div', class_ = 'container')\n",
    "# soup.find_all('li')"
   ]
  },
  {
   "cell_type": "code",
   "execution_count": 52,
   "metadata": {},
   "outputs": [
    {
     "name": "stdout",
     "output_type": "stream",
     "text": [
      "[]\n"
     ]
    }
   ],
   "source": [
    "mydivs = soup.findAll(\"div\", {\"class\": \"container\"})\n",
    "print(mydivs)"
   ]
  },
  {
   "cell_type": "code",
   "execution_count": null,
   "metadata": {},
   "outputs": [],
   "source": []
  },
  {
   "cell_type": "code",
   "execution_count": null,
   "metadata": {},
   "outputs": [],
   "source": []
  },
  {
   "cell_type": "markdown",
   "metadata": {},
   "source": [
    "### Okanogan"
   ]
  },
  {
   "cell_type": "code",
   "execution_count": null,
   "metadata": {},
   "outputs": [],
   "source": [
    "# https://okanogansheriff.org/\n",
    "# (under Daily Jail Inmate Log)"
   ]
  },
  {
   "cell_type": "markdown",
   "metadata": {},
   "source": [
    "### Jefferson"
   ]
  },
  {
   "cell_type": "code",
   "execution_count": null,
   "metadata": {},
   "outputs": [],
   "source": [
    "# https://co.jefferson.wa.us/174/Jail-Inmate-Search\n",
    "# (To view the full inmate roster click the Clear button then the Search button.)"
   ]
  },
  {
   "cell_type": "markdown",
   "metadata": {},
   "source": [
    "### Grant"
   ]
  },
  {
   "cell_type": "code",
   "execution_count": null,
   "metadata": {},
   "outputs": [],
   "source": [
    "# https://www.grantcountywa.gov/SHERIFF/Corrections/Inmate-Roster.htm"
   ]
  },
  {
   "cell_type": "markdown",
   "metadata": {},
   "source": [
    "### Gray's Harbor"
   ]
  },
  {
   "cell_type": "code",
   "execution_count": null,
   "metadata": {},
   "outputs": [],
   "source": [
    "# http://ghlea.com/JailRosters/GHCJRoster.html"
   ]
  },
  {
   "cell_type": "markdown",
   "metadata": {},
   "source": [
    "### Ferry"
   ]
  },
  {
   "cell_type": "code",
   "execution_count": null,
   "metadata": {},
   "outputs": [],
   "source": [
    "# https://www.ferry-county.com/Courts%20and%20Law/Inmate%20Roster/Inmate_Roster_Page.html\n",
    "# (in the section that says \"MAY 11, 2020 - 8 inmates\")"
   ]
  },
  {
   "cell_type": "markdown",
   "metadata": {},
   "source": [
    "### Clallam"
   ]
  },
  {
   "cell_type": "code",
   "execution_count": null,
   "metadata": {},
   "outputs": [],
   "source": [
    "# https://websrv23.clallam.net/NewWorld.InmateInquiry/WA0050000/"
   ]
  },
  {
   "cell_type": "markdown",
   "metadata": {},
   "source": [
    "### Adams"
   ]
  },
  {
   "cell_type": "code",
   "execution_count": null,
   "metadata": {},
   "outputs": [],
   "source": [
    "# https://www.co.adams.wa.us/government/jail_roster_and_booking_information/index.php\n",
    "# (View Jail Roster Information)"
   ]
  },
  {
   "cell_type": "code",
   "execution_count": null,
   "metadata": {},
   "outputs": [],
   "source": []
  },
  {
   "cell_type": "code",
   "execution_count": null,
   "metadata": {},
   "outputs": [],
   "source": []
  },
  {
   "cell_type": "code",
   "execution_count": null,
   "metadata": {},
   "outputs": [],
   "source": []
  },
  {
   "cell_type": "code",
   "execution_count": null,
   "metadata": {},
   "outputs": [],
   "source": []
  }
 ],
 "metadata": {
  "kernelspec": {
   "display_name": "Python 3",
   "language": "python",
   "name": "python3"
  },
  "language_info": {
   "codemirror_mode": {
    "name": "ipython",
    "version": 3
   },
   "file_extension": ".py",
   "mimetype": "text/x-python",
   "name": "python",
   "nbconvert_exporter": "python",
   "pygments_lexer": "ipython3",
   "version": "3.7.7"
  },
  "toc": {
   "base_numbering": 1,
   "nav_menu": {},
   "number_sections": true,
   "sideBar": true,
   "skip_h1_title": false,
   "title_cell": "Table of Contents",
   "title_sidebar": "Contents",
   "toc_cell": false,
   "toc_position": {},
   "toc_section_display": true,
   "toc_window_display": false
  }
 },
 "nbformat": 4,
 "nbformat_minor": 4
}
