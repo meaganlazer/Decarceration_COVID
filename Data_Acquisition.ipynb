{
 "cells": [
  {
   "cell_type": "markdown",
   "metadata": {},
   "source": [
    "# Introduction"
   ]
  },
  {
   "cell_type": "markdown",
   "metadata": {},
   "source": [
    "**Incarceration & COVID-19: How Jails Respond to COVID**<br>\n",
    "\n",
    "This project scrapes daily jail roster information to create a large dataset. This dataset is designed to analyze how jail populations have fluctuated in response to COVID-19. Research centers on explaining why county jails in different parts of the United States have responded differently to the pandemic over time. \n",
    "\n",
    "A separate but related idea for this dataset analyzes the impact of pandemic-related jail population declines on local crime. This project uses daily jail roster population counts as the focal variable and the analysis uses group-based trajectory modeling. Our scraped data will address gaps in the [Vera](https://github.com/vera-institute/jail-population-data) dataset.\n",
    "\n",
    "We start by comparing Washington and New York states because they dealt with COVID-19 at the early on-set of the pandemic. Below is a list of the data points to collect to harmonize with the Vera data.\n",
    "- County Name\n",
    "- State Name\n",
    "- Daily Population Counts\n",
    "- Reporting Jail Name"
   ]
  },
  {
   "cell_type": "markdown",
   "metadata": {},
   "source": [
    "# Imports"
   ]
  },
  {
   "cell_type": "code",
   "execution_count": 33,
   "metadata": {},
   "outputs": [],
   "source": [
    "# Import standard libraries\n",
    "import numpy as np\n",
    "import pandas as pd\n",
    "import matplotlib.pyplot as plt\n",
    "import seaborn as sns\n",
    "%matplotlib inline\n",
    "from datetime import datetime\n",
    "\n",
    "# API libraries\n",
    "import re\n",
    "import os\n",
    "from os import system  \n",
    "import time\n",
    "from time import sleep\n",
    "import json\n",
    "import random\n",
    "import requests\n",
    "import urllib\n",
    "\n",
    "# Selenium\n",
    "from selenium import webdriver\n",
    "from selenium.webdriver.common.by import By\n",
    "from selenium.webdriver.common.keys import Keys\n",
    "from selenium.common.exceptions import TimeoutException\n",
    "from selenium.webdriver.support.ui import WebDriverWait\n",
    "from selenium.webdriver.support import expected_conditions as EC\n",
    "\n",
    "#SQL\n",
    "import sqlite3\n",
    "import mysql.connector"
   ]
  },
  {
   "cell_type": "markdown",
   "metadata": {},
   "source": [
    "# MySQL"
   ]
  },
  {
   "cell_type": "code",
   "execution_count": 2,
   "metadata": {},
   "outputs": [
    {
     "name": "stdout",
     "output_type": "stream",
     "text": [
      "<mysql.connector.connection.MySQLConnection object at 0x7f8d8fd3d850>\n"
     ]
    }
   ],
   "source": [
    "# FIGURE OUT PASSWORD STUFF\n",
    "\n",
    "mydb = mysql.connector.connect(host='localhost',\\\n",
    "                              user='root',\\\n",
    "                              passwd='SolomonGrundy11222',\\\n",
    "                              database='testdb'\\\n",
    "                              )\n",
    "print(mydb)"
   ]
  },
  {
   "cell_type": "code",
   "execution_count": 3,
   "metadata": {},
   "outputs": [],
   "source": [
    "# Create a database\n",
    "\n",
    "mycursor = mydb.cursor()\n",
    "\n",
    "#This line is commented out because it only needs to be run once\n",
    "# mycursor.execute(\"CREATE DATABASE testdb\")"
   ]
  },
  {
   "cell_type": "code",
   "execution_count": 4,
   "metadata": {},
   "outputs": [
    {
     "name": "stdout",
     "output_type": "stream",
     "text": [
      "('information_schema',)\n",
      "('mysql',)\n",
      "('performance_schema',)\n",
      "('sys',)\n",
      "('testdb',)\n"
     ]
    }
   ],
   "source": [
    "mycursor.execute(\"SHOW DATABASES\")\n",
    "\n",
    "for db in mycursor:\n",
    "    print(db)"
   ]
  },
  {
   "cell_type": "code",
   "execution_count": 5,
   "metadata": {},
   "outputs": [],
   "source": [
    "# # Create a table (do not erase)\n",
    "\n",
    "# mycursor.execute(\"CREATE TABLE county_jails\\\n",
    "#                  (reporting_jurisdictions VARCHAR(100),\\\n",
    "#                  county_name VARCHAR(100),\\\n",
    "#                  state_name VARCHAR(100),\\\n",
    "#                  Date VARCHAR(100),\\\n",
    "#                  jail_population INTEGER(255))\")"
   ]
  },
  {
   "cell_type": "code",
   "execution_count": 6,
   "metadata": {},
   "outputs": [
    {
     "name": "stdout",
     "output_type": "stream",
     "text": [
      "('county_jails',)\n"
     ]
    }
   ],
   "source": [
    "mycursor.execute(\"SHOW TABLES\")\n",
    "\n",
    "for tb in mycursor:\n",
    "    print(tb)"
   ]
  },
  {
   "cell_type": "code",
   "execution_count": 7,
   "metadata": {},
   "outputs": [],
   "source": [
    "sqlFormula = \"INSERT INTO county_jails (Date, reporting_jurisdictions, county_name, \\\n",
    "state_name, jail_population) VALUES (%s, %s, %s, %s, %s)\""
   ]
  },
  {
   "cell_type": "markdown",
   "metadata": {},
   "source": [
    "# States"
   ]
  },
  {
   "cell_type": "markdown",
   "metadata": {},
   "source": [
    "Be sure to check for APIs in addition to scraping. Will include NY, WA and FL."
   ]
  },
  {
   "cell_type": "markdown",
   "metadata": {},
   "source": [
    "## Washington"
   ]
  },
  {
   "cell_type": "markdown",
   "metadata": {},
   "source": [
    "### Whitman"
   ]
  },
  {
   "cell_type": "code",
   "execution_count": 8,
   "metadata": {},
   "outputs": [],
   "source": [
    "url = \"http://www.whitmancountyjail.org/\"\n",
    "driver = webdriver.Chrome('/Users/meaganrossi/Projects/Incarceration_COVID/chromedriver')\n",
    "driver.implicitly_wait(3)\n",
    "driver.get(url)"
   ]
  },
  {
   "cell_type": "code",
   "execution_count": 9,
   "metadata": {},
   "outputs": [],
   "source": [
    "listy = driver.find_elements_by_css_selector('h4')\n",
    "\n",
    "# to view full list\n",
    "# for x in listy[:50]:\n",
    "#     if len(x.text) > 0:\n",
    "#         print(x.text)"
   ]
  },
  {
   "cell_type": "code",
   "execution_count": 11,
   "metadata": {},
   "outputs": [
    {
     "name": "stdout",
     "output_type": "stream",
     "text": [
      "Date =  2020-06-13\n",
      "jail_population =  21\n"
     ]
    }
   ],
   "source": [
    "todays_date = datetime.now().strftime('%Y-%m-%d')\n",
    "JPWhitman = (len(listy))-10\n",
    "\n",
    "print('Date = ',todays_date)\n",
    "print('jail_population = ',JPWhitman)"
   ]
  },
  {
   "cell_type": "code",
   "execution_count": 12,
   "metadata": {},
   "outputs": [],
   "source": [
    "#USE FOR ALL COMMITS\n",
    "Whitman = (todays_date, \"Whitman County Jail\", \"Whitman County\", \"WA\", JPWhitman)\n",
    "mycursor.execute(sqlFormula, Whitman)\n",
    "mydb.commit()"
   ]
  },
  {
   "cell_type": "code",
   "execution_count": 13,
   "metadata": {},
   "outputs": [],
   "source": [
    "driver.close()"
   ]
  },
  {
   "cell_type": "markdown",
   "metadata": {},
   "source": [
    "### Spokane"
   ]
  },
  {
   "cell_type": "code",
   "execution_count": 14,
   "metadata": {},
   "outputs": [],
   "source": [
    "url = \"https://www.spokanecounty.org/352/Inmate-Roster'\"\n",
    "driver = webdriver.Chrome('/Users/meaganrossi/Projects/Incarceration_COVID/chromedriver')\n",
    "driver.implicitly_wait(3)\n",
    "driver.get(url)\n",
    "\n",
    "# print(driver.page_source)"
   ]
  },
  {
   "cell_type": "code",
   "execution_count": 34,
   "metadata": {
    "scrolled": true
   },
   "outputs": [],
   "source": [
    "\n",
    "# Hidden input type\n",
    "\n",
    "# Sinmate = driver.find_element_by_xpath('//*[@id=\"tblInmateRoster_info\"]')"
   ]
  },
  {
   "cell_type": "code",
   "execution_count": 18,
   "metadata": {},
   "outputs": [],
   "source": [
    "JPSpokane = 597"
   ]
  },
  {
   "cell_type": "code",
   "execution_count": 19,
   "metadata": {},
   "outputs": [],
   "source": [
    "#USE FOR ALL COMMITS\n",
    "Spokane = (todays_date, \"Spokane County Jail\", \"Spokane County\", \"WA\", JPSpokane)\n",
    "mycursor.execute(sqlFormula, Spokane)\n",
    "mydb.commit()"
   ]
  },
  {
   "cell_type": "code",
   "execution_count": 20,
   "metadata": {},
   "outputs": [],
   "source": [
    "driver.close()"
   ]
  },
  {
   "cell_type": "markdown",
   "metadata": {},
   "source": [
    "### Okanogan"
   ]
  },
  {
   "cell_type": "markdown",
   "metadata": {},
   "source": [
    "Details can be found in the Daily Jail Inmate Log on [Okanogan Sherriff Website](https://okanogansheriff.org/)."
   ]
  },
  {
   "cell_type": "code",
   "execution_count": 21,
   "metadata": {},
   "outputs": [],
   "source": [
    "url = \"https://okanogansheriff.org/\"\n",
    "driver = webdriver.Chrome('/Users/meaganrossi/Projects/Incarceration_COVID/chromedriver')\n",
    "driver.implicitly_wait(3)\n",
    "driver.get(url)\n",
    "\n",
    "# print(driver.page_source)"
   ]
  },
  {
   "cell_type": "code",
   "execution_count": 22,
   "metadata": {},
   "outputs": [
    {
     "data": {
      "text/plain": [
       "''"
      ]
     },
     "execution_count": 22,
     "metadata": {},
     "output_type": "execute_result"
    }
   ],
   "source": [
    "# Need to read from a pdf name=CD6F9816E7949144F43AB92B6CCADAA8\n",
    "\n",
    "location = driver.find_element_by_xpath('/html/frameset/frame[2]').text\n",
    "location"
   ]
  },
  {
   "cell_type": "code",
   "execution_count": 23,
   "metadata": {},
   "outputs": [],
   "source": [
    "JPOkanogan = 75"
   ]
  },
  {
   "cell_type": "code",
   "execution_count": 24,
   "metadata": {},
   "outputs": [],
   "source": [
    "#USE FOR ALL COMMITS\n",
    "Spokane = (todays_date, \"Spokane County Jail\", \"Spokane County\", \"WA\", JPSpokane)\n",
    "mycursor.execute(sqlFormula, Spokane)\n",
    "mydb.commit()"
   ]
  },
  {
   "cell_type": "code",
   "execution_count": 25,
   "metadata": {},
   "outputs": [],
   "source": [
    "driver.close()"
   ]
  },
  {
   "cell_type": "markdown",
   "metadata": {},
   "source": [
    "### Jefferson"
   ]
  },
  {
   "cell_type": "markdown",
   "metadata": {},
   "source": [
    "[Jefferson](https://co.jefferson.wa.us/174/Jail-Inmate-Search)<br> To view the full inmate roster click the Clear button then the Search button."
   ]
  },
  {
   "cell_type": "code",
   "execution_count": 26,
   "metadata": {},
   "outputs": [],
   "source": [
    "url = \"https://co.jefferson.wa.us/174/Jail-Inmate-Search\"\n",
    "driver = webdriver.Chrome('/Users/meaganrossi/Projects/Incarceration_COVID/chromedriver')\n",
    "driver.implicitly_wait(3)\n",
    "driver.get(url)\n",
    "\n",
    "# print(driver.page_source)"
   ]
  },
  {
   "cell_type": "code",
   "execution_count": 27,
   "metadata": {},
   "outputs": [
    {
     "name": "stdout",
     "output_type": "stream",
     "text": [
      "0\n"
     ]
    }
   ],
   "source": [
    "\n",
    "# Hidden input type\n",
    "\n",
    "inmate = driver.find_elements_by_name('Name')\n",
    "print(len(inmate))"
   ]
  },
  {
   "cell_type": "code",
   "execution_count": 28,
   "metadata": {},
   "outputs": [],
   "source": [
    "JPJefferson = 20"
   ]
  },
  {
   "cell_type": "code",
   "execution_count": 29,
   "metadata": {},
   "outputs": [],
   "source": [
    "#USE FOR ALL COMMITS\n",
    "Jefferson = (todays_date, \"Jefferson County Jail\", \"Jefferson County\", \"WA\", JPJefferson)\n",
    "mycursor.execute(sqlFormula, Jefferson)\n",
    "mydb.commit()"
   ]
  },
  {
   "cell_type": "code",
   "execution_count": 68,
   "metadata": {},
   "outputs": [],
   "source": [
    "driver.close()"
   ]
  },
  {
   "cell_type": "markdown",
   "metadata": {},
   "source": [
    "### Grant"
   ]
  },
  {
   "cell_type": "markdown",
   "metadata": {},
   "source": [
    "[Grant](ttps://www.grantcountywa.gov/SHERIFF/Corrections/Inmate-Roster.htm), daily pdf"
   ]
  },
  {
   "cell_type": "code",
   "execution_count": 79,
   "metadata": {},
   "outputs": [],
   "source": [
    "# class urllib.request.Request(url, data=None, headers={}, origin_req_host=None, unverifiable=False, method=None)\n",
    "\n",
    "grant = urllib.request.Request(\"https://www.grantcountywa.gov/SHERIFF/Corrections/Roster-InmateinmateRoster%20v%206.rpt.pdf\",\\\n",
    "                              method= 'POST',\\\n",
    "                               headers= { 'User-Agent' : 'Chrome/41.0.2228.0',\\\n",
    "                                 'Content-Type': 'application/json'})\n",
    "\n"
   ]
  },
  {
   "cell_type": "code",
   "execution_count": null,
   "metadata": {},
   "outputs": [],
   "source": [
    "JPGrant"
   ]
  },
  {
   "cell_type": "code",
   "execution_count": null,
   "metadata": {},
   "outputs": [],
   "source": [
    "#USE FOR ALL COMMITS\n",
    "Grant = (todays_date, \"Grant County Jail\", \"Grant County\", \"WA\", JPGrant)\n",
    "mycursor.execute(sqlFormula, Grant)\n",
    "mydb.commit()"
   ]
  },
  {
   "cell_type": "markdown",
   "metadata": {},
   "source": [
    "### Gray's Harbor"
   ]
  },
  {
   "cell_type": "markdown",
   "metadata": {},
   "source": [
    "[Gray's Harbor]('http://ghlea.com/JailRosters/GHCJRoster.html')"
   ]
  },
  {
   "cell_type": "code",
   "execution_count": 45,
   "metadata": {},
   "outputs": [],
   "source": [
    "url = \"http://ghlea.com/JailRosters/GHCJRoster.html\"\n",
    "driver = webdriver.Chrome('/Users/meaganrossi/Projects/Incarceration_COVID/chromedriver')\n",
    "driver.implicitly_wait(3)\n",
    "driver.get(url)\n",
    "\n",
    "# print(driver.page_source)"
   ]
  },
  {
   "cell_type": "code",
   "execution_count": 46,
   "metadata": {},
   "outputs": [
    {
     "name": "stdout",
     "output_type": "stream",
     "text": [
      "172\n"
     ]
    }
   ],
   "source": [
    "GHinmate = driver.find_elements_by_xpath('//*[@id=\"main-table\"]/tbody/tr')\n",
    "JPGray=(len(GHinmate))\n",
    "print(JPGray)"
   ]
  },
  {
   "cell_type": "code",
   "execution_count": 48,
   "metadata": {},
   "outputs": [],
   "source": [
    "#USE FOR ALL COMMITS\n",
    "\n",
    "Gray = (todays_date, \"Grays Harbor County Jail\", \"Grays Harbor County\", \"WA\", JPGray)\n",
    "mycursor.execute(sqlFormula, Gray)\n",
    "mydb.commit()"
   ]
  },
  {
   "cell_type": "code",
   "execution_count": 125,
   "metadata": {},
   "outputs": [],
   "source": [
    "driver.close()"
   ]
  },
  {
   "cell_type": "markdown",
   "metadata": {},
   "source": [
    "### Ferry"
   ]
  },
  {
   "cell_type": "markdown",
   "metadata": {},
   "source": [
    "[Ferry](https://www.ferry-county.com/Courts%20and%20Law/Inmate%20Roster/Inmate_Roster_Page.html): in the section that says \"MAY 11, 2020 - 8 inmates\")"
   ]
  },
  {
   "cell_type": "code",
   "execution_count": 37,
   "metadata": {},
   "outputs": [],
   "source": [
    "url = \"https://www.ferry-county.com/Courts%20and%20Law/Inmate%20Roster/Inmate_Roster_Page.html\"\n",
    "driver = webdriver.Chrome('/Users/meaganrossi/Projects/Incarceration_COVID/chromedriver')\n",
    "driver.implicitly_wait(3)\n",
    "driver.get(url)\n",
    "\n",
    "# print(driver.page_source)"
   ]
  },
  {
   "cell_type": "code",
   "execution_count": 42,
   "metadata": {},
   "outputs": [
    {
     "name": "stdout",
     "output_type": "stream",
     "text": [
      "8\n"
     ]
    }
   ],
   "source": [
    "Finmate = driver.find_element_by_xpath('//*[@id=\"mainContent3\"]/p[9]').text\n",
    "JPFerry=Finmate[16]\n",
    "print(JPFerry)"
   ]
  },
  {
   "cell_type": "code",
   "execution_count": 43,
   "metadata": {},
   "outputs": [],
   "source": [
    "#USE FOR ALL COMMITS\n",
    "\n",
    "Ferry = (todays_date, \"Ferry County Corrections\", \"Ferry County\", \"WA\", JPFerry)\n",
    "mycursor.execute(sqlFormula, Ferry)\n",
    "mydb.commit()"
   ]
  },
  {
   "cell_type": "code",
   "execution_count": 83,
   "metadata": {},
   "outputs": [],
   "source": [
    "driver.close()"
   ]
  },
  {
   "cell_type": "markdown",
   "metadata": {},
   "source": [
    "### Clallam"
   ]
  },
  {
   "cell_type": "markdown",
   "metadata": {},
   "source": [
    "[Clallam](https://websrv23.clallam.net/NewWorld.InmateInquiry/WA0050000/)"
   ]
  },
  {
   "cell_type": "code",
   "execution_count": 29,
   "metadata": {},
   "outputs": [],
   "source": [
    "url = \"https://websrv23.clallam.net/NewWorld.InmateInquiry/WA0050000/\"\n",
    "driver = webdriver.Chrome('/Users/meaganrossi/Projects/Incarceration_COVID/chromedriver') \n",
    "driver.implicitly_wait(3)\n",
    "driver.get(url)\n",
    "\n",
    "# print(driver.page_source)"
   ]
  },
  {
   "cell_type": "code",
   "execution_count": 34,
   "metadata": {},
   "outputs": [
    {
     "name": "stdout",
     "output_type": "stream",
     "text": [
      "74\n"
     ]
    }
   ],
   "source": [
    "Clallam_inmate = driver.find_elements_by_class_name('Name')\n",
    "JPClallam = (len(Clallam_inmate))\n",
    "print(JPClallam)"
   ]
  },
  {
   "cell_type": "code",
   "execution_count": 35,
   "metadata": {},
   "outputs": [],
   "source": [
    "#USE FOR ALL COMMITS\n",
    "\n",
    "Clallam = (todays_date, \"Clallam County Jail\", \"Clallam County\", \"WA\", JPClallam)\n",
    "mycursor.execute(sqlFormula, Clallam)\n",
    "mydb.commit()"
   ]
  },
  {
   "cell_type": "code",
   "execution_count": 36,
   "metadata": {},
   "outputs": [],
   "source": [
    "driver.close()"
   ]
  },
  {
   "cell_type": "markdown",
   "metadata": {},
   "source": [
    "### Adams"
   ]
  },
  {
   "cell_type": "markdown",
   "metadata": {},
   "source": [
    "[View](https://www.co.adams.wa.us/government/jail_roster_and_booking_information/index.php) Jail Roster Information"
   ]
  },
  {
   "cell_type": "code",
   "execution_count": 23,
   "metadata": {},
   "outputs": [],
   "source": [
    "url = \"https://www.co.adams.wa.us/jailrosterout.txt\"\n",
    "driver = webdriver.Chrome('/Users/meaganrossi/Projects/Incarceration_COVID/chromedriver')\n",
    "driver.implicitly_wait(3)\n",
    "driver.get(url)\n",
    "\n",
    "# print(driver.page_source)"
   ]
  },
  {
   "cell_type": "code",
   "execution_count": 26,
   "metadata": {},
   "outputs": [
    {
     "name": "stdout",
     "output_type": "stream",
     "text": [
      "Jail Population =  22\n"
     ]
    }
   ],
   "source": [
    "Adams_text=driver.find_element_by_xpath('/html/body/pre').text\n",
    "JPAdams = Adams_text.count(\"Booking\")\n",
    "print('Jail Population = ',JPAdams)"
   ]
  },
  {
   "cell_type": "code",
   "execution_count": 27,
   "metadata": {},
   "outputs": [],
   "source": [
    "#USE FOR ALL COMMITS\n",
    "\n",
    "Adams = (todays_date, \"Adams County Jail\", \"Adams County\", \"WA\", JPAdams)\n",
    "mycursor.execute(sqlFormula, Adams)\n",
    "mydb.commit()"
   ]
  },
  {
   "cell_type": "code",
   "execution_count": 28,
   "metadata": {},
   "outputs": [],
   "source": [
    "driver.close()"
   ]
  },
  {
   "cell_type": "markdown",
   "metadata": {},
   "source": [
    "# Export csv"
   ]
  },
  {
   "cell_type": "code",
   "execution_count": 168,
   "metadata": {},
   "outputs": [
    {
     "data": {
      "text/html": [
       "<div>\n",
       "<style scoped>\n",
       "    .dataframe tbody tr th:only-of-type {\n",
       "        vertical-align: middle;\n",
       "    }\n",
       "\n",
       "    .dataframe tbody tr th {\n",
       "        vertical-align: top;\n",
       "    }\n",
       "\n",
       "    .dataframe thead th {\n",
       "        text-align: right;\n",
       "    }\n",
       "</style>\n",
       "<table border=\"1\" class=\"dataframe\">\n",
       "  <thead>\n",
       "    <tr style=\"text-align: right;\">\n",
       "      <th></th>\n",
       "      <th>reporting_jurisdictions</th>\n",
       "      <th>county_name</th>\n",
       "      <th>state_name</th>\n",
       "      <th>Date</th>\n",
       "      <th>jail_population</th>\n",
       "    </tr>\n",
       "  </thead>\n",
       "  <tbody>\n",
       "    <tr>\n",
       "      <th>0</th>\n",
       "      <td>Whitman County Jail</td>\n",
       "      <td>Whitman County</td>\n",
       "      <td>WA</td>\n",
       "      <td>2020-06-12</td>\n",
       "      <td>26</td>\n",
       "    </tr>\n",
       "    <tr>\n",
       "      <th>1</th>\n",
       "      <td>Whitman County Jail</td>\n",
       "      <td>Whitman County</td>\n",
       "      <td>CA</td>\n",
       "      <td>2020-06-12</td>\n",
       "      <td>26</td>\n",
       "    </tr>\n",
       "    <tr>\n",
       "      <th>2</th>\n",
       "      <td>Adams County Jail</td>\n",
       "      <td>Adams County</td>\n",
       "      <td>WA</td>\n",
       "      <td>2020-06-12</td>\n",
       "      <td>22</td>\n",
       "    </tr>\n",
       "    <tr>\n",
       "      <th>3</th>\n",
       "      <td>Clallam County Jail</td>\n",
       "      <td>Clallam County</td>\n",
       "      <td>WA</td>\n",
       "      <td>2020-06-12</td>\n",
       "      <td>74</td>\n",
       "    </tr>\n",
       "    <tr>\n",
       "      <th>4</th>\n",
       "      <td>Ferry County Corrections</td>\n",
       "      <td>Ferry County</td>\n",
       "      <td>WA</td>\n",
       "      <td>2020-06-12</td>\n",
       "      <td>8</td>\n",
       "    </tr>\n",
       "  </tbody>\n",
       "</table>\n",
       "</div>"
      ],
      "text/plain": [
       "    reporting_jurisdictions     county_name state_name        Date  \\\n",
       "0       Whitman County Jail  Whitman County         WA  2020-06-12   \n",
       "1       Whitman County Jail  Whitman County         CA  2020-06-12   \n",
       "2         Adams County Jail    Adams County         WA  2020-06-12   \n",
       "3       Clallam County Jail  Clallam County         WA  2020-06-12   \n",
       "4  Ferry County Corrections    Ferry County         WA  2020-06-12   \n",
       "\n",
       "   jail_population  \n",
       "0               26  \n",
       "1               26  \n",
       "2               22  \n",
       "3               74  \n",
       "4                8  "
      ]
     },
     "execution_count": 168,
     "metadata": {},
     "output_type": "execute_result"
    }
   ],
   "source": [
    "country_jail_df = pd.read_sql(\"SELECT * FROM county_jails\", con=mydb)\n",
    "country_jail_df.head()"
   ]
  },
  {
   "cell_type": "code",
   "execution_count": 169,
   "metadata": {},
   "outputs": [],
   "source": [
    "country_jail_df.to_csv('County_Jail.csv')"
   ]
  },
  {
   "cell_type": "code",
   "execution_count": null,
   "metadata": {},
   "outputs": [],
   "source": []
  }
 ],
 "metadata": {
  "kernelspec": {
   "display_name": "Python 3",
   "language": "python",
   "name": "python3"
  },
  "language_info": {
   "codemirror_mode": {
    "name": "ipython",
    "version": 3
   },
   "file_extension": ".py",
   "mimetype": "text/x-python",
   "name": "python",
   "nbconvert_exporter": "python",
   "pygments_lexer": "ipython3",
   "version": "3.7.7"
  },
  "toc": {
   "base_numbering": 1,
   "nav_menu": {},
   "number_sections": true,
   "sideBar": true,
   "skip_h1_title": false,
   "title_cell": "Table of Contents",
   "title_sidebar": "Contents",
   "toc_cell": false,
   "toc_position": {
    "height": "534px",
    "left": "38px",
    "top": "234px",
    "width": "240.797px"
   },
   "toc_section_display": true,
   "toc_window_display": false
  }
 },
 "nbformat": 4,
 "nbformat_minor": 4
}
