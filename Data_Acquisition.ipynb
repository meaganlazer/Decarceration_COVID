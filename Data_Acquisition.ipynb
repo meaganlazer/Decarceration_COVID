{
 "cells": [
  {
   "cell_type": "markdown",
   "metadata": {},
   "source": [
    "# Introduction"
   ]
  },
  {
   "cell_type": "markdown",
   "metadata": {},
   "source": [
    "**Incarceration & COVID-19: How Jails Respond to COVID**<br>\n",
    "\n",
    "This project scrapes daily jail roster information to create a large dataset. This dataset is designed to analyze how jail populations have fluctuated in response to COVID-19. Research centers on explaining why county jails in different parts of the United States have responded differently to the pandemic over time. \n",
    "\n",
    "A separate but related idea for this dataset analyzes the impact of pandemic-related jail population declines on local crime. This project uses daily jail roster population counts as the focal variable and the analysis uses group-based trajectory modeling. Our scraped data will address gaps in the [Vera](https://github.com/vera-institute/jail-population-data) dataset.\n",
    "\n",
    "We start by comparing Washington and New York states because they dealt with COVID-19 at the early on-set of the pandemic. Below is a list of the data points to collect to harmonize with the Vera data.\n",
    "- County Name\n",
    "- State Name\n",
    "- Daily Population Counts\n",
    "- Reporting Jail Name"
   ]
  },
  {
   "cell_type": "markdown",
   "metadata": {},
   "source": [
    "# Imports"
   ]
  },
  {
   "cell_type": "code",
   "execution_count": 215,
   "metadata": {},
   "outputs": [],
   "source": [
    "# Import standard libraries\n",
    "import numpy as np\n",
    "import pandas as pd\n",
    "import matplotlib.pyplot as plt\n",
    "import seaborn as sns\n",
    "%matplotlib inline\n",
    "\n",
    "# API libraries\n",
    "import re\n",
    "import os\n",
    "import time\n",
    "import random\n",
    "import requests\n",
    "from os import system   \n",
    "from math import floor\n",
    "from copy import deepcopy\n",
    "\n",
    "# Scraping libraries\n",
    "from bs4 import BeautifulSoup\n",
    "from time import sleep\n",
    "from random import randint\n",
    "import json\n",
    "# Selenium\n",
    "from selenium import webdriver\n",
    "from selenium.webdriver.common.by import By\n",
    "from selenium.webdriver.common.keys import Keys\n",
    "from selenium.common.exceptions import TimeoutException\n",
    "from selenium.webdriver.support.ui import WebDriverWait\n",
    "from selenium.webdriver.support import expected_conditions as EC\n",
    "\n",
    "from scrapy_selenium import SeleniumRequest\n",
    "import scrapy\n",
    "\n",
    "import scrapy\n",
    "from scrapy_selenium import SeleniumRequest\n",
    "import sqlite3"
   ]
  },
  {
   "cell_type": "markdown",
   "metadata": {},
   "source": [
    "# States"
   ]
  },
  {
   "cell_type": "markdown",
   "metadata": {},
   "source": [
    "Be sure to check for APIs in addition to scraping. Will include NY, WA and FL."
   ]
  },
  {
   "cell_type": "markdown",
   "metadata": {},
   "source": [
    "## Washington"
   ]
  },
  {
   "cell_type": "markdown",
   "metadata": {},
   "source": [
    "### Whitman"
   ]
  },
  {
   "cell_type": "code",
   "execution_count": 69,
   "metadata": {},
   "outputs": [],
   "source": [
    "# http://www.whitmancountyjail.org/\n",
    "#Need to count unique IDs\n",
    "#Check for an API"
   ]
  },
  {
   "cell_type": "markdown",
   "metadata": {},
   "source": [
    "### Spokane"
   ]
  },
  {
   "cell_type": "markdown",
   "metadata": {},
   "source": [
    "#### Selenium"
   ]
  },
  {
   "cell_type": "code",
   "execution_count": 203,
   "metadata": {},
   "outputs": [],
   "source": [
    "url = \"https://www.spokanecounty.org/352/Inmate-Roster'\"\n",
    "driver = webdriver.Chrome('/Users/meaganrossi/Projects/Incarceration_COVID/chromedriver')\n",
    "driver.implicitly_wait(3)\n",
    "driver.get(url)"
   ]
  },
  {
   "cell_type": "code",
   "execution_count": 209,
   "metadata": {},
   "outputs": [],
   "source": [
    "# print(driver.page_source)\n",
    "# keep this cell, has a long print out but want the code available for future use"
   ]
  },
  {
   "cell_type": "code",
   "execution_count": 214,
   "metadata": {
    "scrolled": true
   },
   "outputs": [
    {
     "data": {
      "text/plain": [
       "0"
      ]
     },
     "execution_count": 214,
     "metadata": {},
     "output_type": "execute_result"
    }
   ],
   "source": [
    "# Outter html <h1 style=\"margin-top:0px;\">Saturday, June 6, 2020</h1>\n",
    "\n",
    "date = driver.find_elements_by_xpath('//*[@id=\"aspnetForm\"]/div[3]/h1')\n",
    "len(date)"
   ]
  },
  {
   "cell_type": "code",
   "execution_count": 210,
   "metadata": {},
   "outputs": [
    {
     "ename": "SyntaxError",
     "evalue": "invalid syntax (<ipython-input-210-5a14aa9bcf61>, line 21)",
     "output_type": "error",
     "traceback": [
      "\u001b[0;36m  File \u001b[0;32m\"<ipython-input-210-5a14aa9bcf61>\"\u001b[0;36m, line \u001b[0;32m21\u001b[0m\n\u001b[0;31m    date = driver.find_elements_by_xpath('//*[@id=\"aspnetForm\"]/div[3]/h1').get(),\u001b[0m\n\u001b[0m         ^\u001b[0m\n\u001b[0;31mSyntaxError\u001b[0m\u001b[0;31m:\u001b[0m invalid syntax\n"
     ]
    }
   ],
   "source": [
    "class PrisonSpider(scrapy.Spider):\n",
    "    name = 'Prison'\n",
    "\n",
    "#     def remove_characters(self, value):\n",
    "#         return value.strip('\\xa0')\n",
    "    \n",
    "    def start_requests(self):\n",
    "        yield SeleniumRequest(\n",
    "            url='https://www.spokanecounty.org/352/Inmate-Roster',\n",
    "#             script='/DetentionServices/WebResource.axd?d=pynGkmcFUV13He1Qd6_TZMDa2z4M0XOtGnubLCgjAAoCbYNg0Qhj2vPC6GVIdqEugBgxgTF5yc-IYCFY2eK82w2&t=637103058965614113',\n",
    "            wait_time=3,\n",
    "            callback=self.parse\n",
    "        )\n",
    "\n",
    "    def parse(self, response):\n",
    "        yield {\n",
    "            date = driver.find_elements_by_xpath('//*[@id=\"aspnetForm\"]/div[3]/h1').get(),\n",
    "\n",
    "#         products = response.xpath(\"//ul[@class='dealTiles categoryGridDeals']/li\")\n",
    "#         for product in products:\n",
    "\n",
    "\n",
    "#                 'link': product.xpath(\".//a[@class='itemTitle']/@href\").get(),\n",
    "#                 'store_name': self.remove_characters(product.xpath(\"normalize-space(.//span[@class='itemStore']/text())\").get()),\n",
    "#                 'price': product.xpath(\"normalize-space(.//div[@class='itemPrice  wide ']/text())\").get()\n",
    "            }"
   ]
  },
  {
   "cell_type": "code",
   "execution_count": null,
   "metadata": {},
   "outputs": [],
   "source": [
    "driver.close()"
   ]
  },
  {
   "cell_type": "code",
   "execution_count": null,
   "metadata": {},
   "outputs": [],
   "source": [
    "STOP"
   ]
  },
  {
   "cell_type": "code",
   "execution_count": null,
   "metadata": {},
   "outputs": [],
   "source": []
  },
  {
   "cell_type": "markdown",
   "metadata": {},
   "source": [
    "#### HTML"
   ]
  },
  {
   "cell_type": "code",
   "execution_count": 19,
   "metadata": {},
   "outputs": [
    {
     "data": {
      "text/plain": [
       "200"
      ]
     },
     "execution_count": 19,
     "metadata": {},
     "output_type": "execute_result"
    }
   ],
   "source": [
    "# Defining the url of the site\n",
    "base_site = \"https://www.spokanecounty.org/352/Inmate-Roster\"\n",
    "\n",
    "# Making a get request\n",
    "response = requests.get(base_site)\n",
    "response.status_code"
   ]
  },
  {
   "cell_type": "code",
   "execution_count": 20,
   "metadata": {},
   "outputs": [
    {
     "data": {
      "text/plain": [
       "b'\\r\\n\\r\\n<!DOCTYPE html>\\r\\n<html lang=\"en\">\\r\\n<head>\\r\\n\\r\\n\\t<meta http-equiv=\"Content-type\" content=\"text/html'"
      ]
     },
     "execution_count": 20,
     "metadata": {},
     "output_type": "execute_result"
    }
   ],
   "source": [
    "# Extracting the HTML\n",
    "html = response.content\n",
    "\n",
    "# Checking that the reply is indeed an HTML code by inspecting the first 100 symbols\n",
    "html[:100]"
   ]
  },
  {
   "cell_type": "code",
   "execution_count": 21,
   "metadata": {},
   "outputs": [],
   "source": [
    "# Convert HTML to a BeautifulSoup object.\n",
    "soup = BeautifulSoup(html, \"html.parser\")"
   ]
  },
  {
   "cell_type": "code",
   "execution_count": 22,
   "metadata": {},
   "outputs": [],
   "source": [
    "# Exporting the HTML to a file\n",
    "with open('Spokane_response.html', 'wb') as file:\n",
    "    file.write(soup.prettify('utf-8'))"
   ]
  },
  {
   "cell_type": "code",
   "execution_count": 54,
   "metadata": {},
   "outputs": [
    {
     "data": {
      "text/plain": [
       "[<title>Inmate Roster | Spokane County, WA</title>,\n",
       " <title>Arrow Left</title>,\n",
       " <title>Arrow Right</title>,\n",
       " <title>Slideshow Left Arrow</title>,\n",
       " <title>Slideshow Right Arrow</title>]"
      ]
     },
     "execution_count": 54,
     "metadata": {},
     "output_type": "execute_result"
    }
   ],
   "source": [
    "soup.find_all('title')"
   ]
  },
  {
   "cell_type": "code",
   "execution_count": 24,
   "metadata": {},
   "outputs": [
    {
     "data": {
      "text/plain": [
       "[]"
      ]
     },
     "execution_count": 24,
     "metadata": {},
     "output_type": "execute_result"
    }
   ],
   "source": [
    "soup.find_all('div', class_ = 'container')\n",
    "# soup.find_all('li')"
   ]
  },
  {
   "cell_type": "code",
   "execution_count": 52,
   "metadata": {},
   "outputs": [
    {
     "name": "stdout",
     "output_type": "stream",
     "text": [
      "[]\n"
     ]
    }
   ],
   "source": [
    "mydivs = soup.findAll(\"div\", {\"class\": \"container\"})\n",
    "print(mydivs)"
   ]
  },
  {
   "cell_type": "code",
   "execution_count": null,
   "metadata": {},
   "outputs": [],
   "source": []
  },
  {
   "cell_type": "code",
   "execution_count": null,
   "metadata": {},
   "outputs": [],
   "source": []
  },
  {
   "cell_type": "markdown",
   "metadata": {},
   "source": [
    "### Okanogan"
   ]
  },
  {
   "cell_type": "code",
   "execution_count": null,
   "metadata": {},
   "outputs": [],
   "source": [
    "# https://okanogansheriff.org/\n",
    "# (under Daily Jail Inmate Log)"
   ]
  },
  {
   "cell_type": "markdown",
   "metadata": {},
   "source": [
    "### Jefferson"
   ]
  },
  {
   "cell_type": "code",
   "execution_count": null,
   "metadata": {},
   "outputs": [],
   "source": [
    "# https://co.jefferson.wa.us/174/Jail-Inmate-Search\n",
    "# (To view the full inmate roster click the Clear button then the Search button.)"
   ]
  },
  {
   "cell_type": "markdown",
   "metadata": {},
   "source": [
    "### Grant"
   ]
  },
  {
   "cell_type": "code",
   "execution_count": null,
   "metadata": {},
   "outputs": [],
   "source": [
    "# https://www.grantcountywa.gov/SHERIFF/Corrections/Inmate-Roster.htm"
   ]
  },
  {
   "cell_type": "markdown",
   "metadata": {},
   "source": [
    "### Gray's Harbor"
   ]
  },
  {
   "cell_type": "code",
   "execution_count": null,
   "metadata": {},
   "outputs": [],
   "source": [
    "# http://ghlea.com/JailRosters/GHCJRoster.html"
   ]
  },
  {
   "cell_type": "markdown",
   "metadata": {},
   "source": [
    "### Ferry"
   ]
  },
  {
   "cell_type": "code",
   "execution_count": null,
   "metadata": {},
   "outputs": [],
   "source": [
    "# https://www.ferry-county.com/Courts%20and%20Law/Inmate%20Roster/Inmate_Roster_Page.html\n",
    "# (in the section that says \"MAY 11, 2020 - 8 inmates\")"
   ]
  },
  {
   "cell_type": "markdown",
   "metadata": {},
   "source": [
    "### Clallam"
   ]
  },
  {
   "cell_type": "code",
   "execution_count": null,
   "metadata": {},
   "outputs": [],
   "source": [
    "# https://websrv23.clallam.net/NewWorld.InmateInquiry/WA0050000/"
   ]
  },
  {
   "cell_type": "markdown",
   "metadata": {},
   "source": [
    "### Adams"
   ]
  },
  {
   "cell_type": "code",
   "execution_count": null,
   "metadata": {},
   "outputs": [],
   "source": [
    "# https://www.co.adams.wa.us/government/jail_roster_and_booking_information/index.php\n",
    "# (View Jail Roster Information)"
   ]
  },
  {
   "cell_type": "code",
   "execution_count": null,
   "metadata": {},
   "outputs": [],
   "source": []
  },
  {
   "cell_type": "code",
   "execution_count": null,
   "metadata": {},
   "outputs": [],
   "source": []
  },
  {
   "cell_type": "code",
   "execution_count": null,
   "metadata": {},
   "outputs": [],
   "source": []
  },
  {
   "cell_type": "code",
   "execution_count": null,
   "metadata": {},
   "outputs": [],
   "source": []
  }
 ],
 "metadata": {
  "kernelspec": {
   "display_name": "Python 3",
   "language": "python",
   "name": "python3"
  },
  "language_info": {
   "codemirror_mode": {
    "name": "ipython",
    "version": 3
   },
   "file_extension": ".py",
   "mimetype": "text/x-python",
   "name": "python",
   "nbconvert_exporter": "python",
   "pygments_lexer": "ipython3",
   "version": "3.7.7"
  },
  "toc": {
   "base_numbering": 1,
   "nav_menu": {},
   "number_sections": true,
   "sideBar": true,
   "skip_h1_title": false,
   "title_cell": "Table of Contents",
   "title_sidebar": "Contents",
   "toc_cell": false,
   "toc_position": {},
   "toc_section_display": true,
   "toc_window_display": false
  }
 },
 "nbformat": 4,
 "nbformat_minor": 4
}
