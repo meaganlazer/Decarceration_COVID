{
 "cells": [
  {
   "cell_type": "markdown",
   "metadata": {},
   "source": [
    "# Introduction"
   ]
  },
  {
   "cell_type": "markdown",
   "metadata": {},
   "source": [
    "**Incarceration & COVID-19: How Jails Respond to COVID**<br>\n",
    "\n",
    "This project scrapes daily jail roster information to create a large dataset. This dataset is designed to analyze how jail populations have fluctuated in response to COVID-19. Research centers on explaining why county jails in different parts of the United States have responded differently to the pandemic over time. \n",
    "\n",
    "A separate but related idea for this dataset analyzes the impact of pandemic-related jail population declines on local crime. This project uses daily jail roster population counts as the focal variable and the analysis uses group-based trajectory modeling. Our scraped data will address gaps in the [Vera](https://github.com/vera-institute/jail-population-data) dataset.\n",
    "\n",
    "We start by comparing Washington and New York states because they dealt with COVID-19 at the early on-set of the pandemic. Below is a list of the data points to collect to harmonize with the Vera data.\n",
    "- County Name\n",
    "- State Name\n",
    "- Daily Population Counts\n",
    "- Reporting Jail Name"
   ]
  },
  {
   "cell_type": "markdown",
   "metadata": {},
   "source": [
    "# Imports"
   ]
  },
  {
   "cell_type": "code",
   "execution_count": 1,
   "metadata": {},
   "outputs": [],
   "source": [
    "# Import standard libraries\n",
    "import numpy as np\n",
    "import pandas as pd\n",
    "import matplotlib.pyplot as plt\n",
    "import seaborn as sns\n",
    "%matplotlib inline\n",
    "\n",
    "# API libraries\n",
    "import re\n",
    "import os\n",
    "from os import system  \n",
    "import time\n",
    "from time import sleep\n",
    "import json\n",
    "import random\n",
    "import requests\n",
    "# from math import floor\n",
    "# from copy import deepcopy\n",
    "\n",
    "# Selenium\n",
    "from selenium import webdriver\n",
    "from selenium.webdriver.common.by import By\n",
    "from selenium.webdriver.common.keys import Keys\n",
    "from selenium.common.exceptions import TimeoutException\n",
    "from selenium.webdriver.support.ui import WebDriverWait\n",
    "from selenium.webdriver.support import expected_conditions as EC\n",
    "\n",
    "#SQL\n",
    "import sqlite3\n",
    "import mysql.connector"
   ]
  },
  {
   "cell_type": "markdown",
   "metadata": {},
   "source": [
    "# MySQL"
   ]
  },
  {
   "cell_type": "code",
   "execution_count": 2,
   "metadata": {},
   "outputs": [
    {
     "name": "stdout",
     "output_type": "stream",
     "text": [
      "<mysql.connector.connection.MySQLConnection object at 0x7ff954575e10>\n"
     ]
    }
   ],
   "source": [
    "# FIGURE OUT PASSWORD STUFF\n",
    "\n",
    "mydb = mysql.connector.connect(host='localhost',\\\n",
    "                              user='root',\n",
    "                              passwd='',\n",
    "                              database='testdb')\n",
    "print(mydb)"
   ]
  },
  {
   "cell_type": "code",
   "execution_count": 3,
   "metadata": {},
   "outputs": [],
   "source": [
    "# Created a db\n",
    "\n",
    "mycursor = mydb.cursor()\n",
    "# mycursor.execute(\"CREATE DATABASE testdb\")"
   ]
  },
  {
   "cell_type": "code",
   "execution_count": 4,
   "metadata": {},
   "outputs": [
    {
     "name": "stdout",
     "output_type": "stream",
     "text": [
      "('information_schema',)\n",
      "('mysql',)\n",
      "('performance_schema',)\n",
      "('sys',)\n",
      "('testdb',)\n"
     ]
    }
   ],
   "source": [
    "mycursor.execute(\"SHOW DATABASES\")\n",
    "\n",
    "for db in mycursor:\n",
    "    print(db)"
   ]
  },
  {
   "cell_type": "code",
   "execution_count": 6,
   "metadata": {},
   "outputs": [],
   "source": [
    "#Created a table\n",
    "\n",
    "# mycursor.execute(\"CREATE TABLE jails\\\n",
    "#                  (reporting_jurisdictions VARCHAR(100),\\\n",
    "#                  county_name VARCHAR(100),\\\n",
    "#                  state_name VARCHAR(100),\\\n",
    "#                  Date VARCHAR(100),\\\n",
    "#                  jail_population INTEGER(255))\")"
   ]
  },
  {
   "cell_type": "code",
   "execution_count": 7,
   "metadata": {},
   "outputs": [
    {
     "name": "stdout",
     "output_type": "stream",
     "text": [
      "('jails',)\n"
     ]
    }
   ],
   "source": [
    "mycursor.execute(\"SHOW TABLES\")\n",
    "\n",
    "for tb in mycursor:\n",
    "    print(tb)"
   ]
  },
  {
   "cell_type": "code",
   "execution_count": 11,
   "metadata": {},
   "outputs": [],
   "source": [
    "sqlFormula = \"INSERT INTO jails (Date, reporting_jurisdictions, county_name, \\\n",
    "state_name, jail_population) VALUES (%s, %s, %s, %s, %s)\""
   ]
  },
  {
   "cell_type": "code",
   "execution_count": 12,
   "metadata": {},
   "outputs": [],
   "source": [
    "jail1 = ('today', 'Spokane County Jail', 'Spokane County', 'WA', 22)"
   ]
  },
  {
   "cell_type": "code",
   "execution_count": 13,
   "metadata": {},
   "outputs": [],
   "source": [
    "mycursor.execute(sqlFormula, jail1)\n",
    "\n",
    "mydb.commit()"
   ]
  },
  {
   "cell_type": "markdown",
   "metadata": {},
   "source": [
    "# States"
   ]
  },
  {
   "cell_type": "markdown",
   "metadata": {},
   "source": [
    "Be sure to check for APIs in addition to scraping. Will include NY, WA and FL."
   ]
  },
  {
   "cell_type": "markdown",
   "metadata": {},
   "source": [
    "## Washington"
   ]
  },
  {
   "cell_type": "markdown",
   "metadata": {},
   "source": [
    "### Whitman"
   ]
  },
  {
   "cell_type": "code",
   "execution_count": null,
   "metadata": {},
   "outputs": [],
   "source": [
    "url = \"http://www.whitmancountyjail.org/\"\n",
    "driver = webdriver.Chrome('/Users/meaganrossi/Projects/Incarceration_COVID/chromedriver')\n",
    "driver.implicitly_wait(3)\n",
    "driver.get(url)"
   ]
  },
  {
   "cell_type": "code",
   "execution_count": null,
   "metadata": {},
   "outputs": [],
   "source": [
    "listy = driver.find_elements_by_css_selector('h4')\n",
    "\n",
    "#view full list\n",
    "# for x in listy[:50]:\n",
    "#     if len(x.text) > 0:\n",
    "#         print(x.text)"
   ]
  },
  {
   "cell_type": "code",
   "execution_count": null,
   "metadata": {},
   "outputs": [],
   "source": [
    "location = driver.find_element_by_xpath('//*[@id=\"form1\"]/footer').text\n",
    "location"
   ]
  },
  {
   "cell_type": "code",
   "execution_count": null,
   "metadata": {},
   "outputs": [],
   "source": [
    "from datetime import datetime # Current date time in local system )"
   ]
  },
  {
   "cell_type": "code",
   "execution_count": null,
   "metadata": {},
   "outputs": [],
   "source": [
    "JWhitman = (location[:19])\n",
    "CWhitman = (location[:7])\n",
    "SWhitman = (location[47:49])\n",
    "DWhitman = datetime.now().strftime('%Y-%m-%d')\n",
    "PWhitman = (len(listy))-10\n",
    "\n",
    "print('reporting_jurisdictions = ',JWhitman)\n",
    "print('county_name = ',CWhitman)\n",
    "print('state_name = ',SWhitman)\n",
    "print('Date = ',DWhitman)\n",
    "print('jail_population = ',PWhitman)"
   ]
  },
  {
   "cell_type": "code",
   "execution_count": null,
   "metadata": {},
   "outputs": [],
   "source": [
    "driver.close()"
   ]
  },
  {
   "cell_type": "markdown",
   "metadata": {},
   "source": [
    "### Spokane"
   ]
  },
  {
   "cell_type": "markdown",
   "metadata": {},
   "source": [
    "#### Selenium"
   ]
  },
  {
   "cell_type": "code",
   "execution_count": null,
   "metadata": {},
   "outputs": [],
   "source": [
    "# url = \"https://www.spokanecounty.org/352/Inmate-Roster'\"\n",
    "# driver = webdriver.Chrome('/Users/meaganrossi/Projects/Incarceration_COVID/chromedriver')\n",
    "# driver.implicitly_wait(3)\n",
    "# driver.get(url)\n",
    "\n",
    "# print(driver.page_source)"
   ]
  },
  {
   "cell_type": "code",
   "execution_count": null,
   "metadata": {
    "scrolled": true
   },
   "outputs": [],
   "source": [
    "# Outter html <h1 style=\"margin-top:0px;\">Saturday, June 6, 2020</h1>\n",
    "\n",
    "# date = driver.find_elements_by_xpath('//*[@id=\"aspnetForm\"]/div[3]/h1')\n",
    "# len(date)"
   ]
  },
  {
   "cell_type": "code",
   "execution_count": null,
   "metadata": {},
   "outputs": [],
   "source": [
    "driver.close()"
   ]
  },
  {
   "cell_type": "markdown",
   "metadata": {},
   "source": [
    "### Okanogan"
   ]
  },
  {
   "cell_type": "markdown",
   "metadata": {},
   "source": [
    "Details can be found in the Daily Jail Inmate Log on [Okanogan Sherriff Website](https://okanogansheriff.org/)."
   ]
  },
  {
   "cell_type": "code",
   "execution_count": null,
   "metadata": {},
   "outputs": [],
   "source": [
    "url = \"https://okanogansheriff.org/\"\n",
    "driver = webdriver.Chrome('/Users/meaganrossi/Projects/Incarceration_COVID/chromedriver')\n",
    "driver.implicitly_wait(3)\n",
    "driver.get(url)\n",
    "\n",
    "# print(driver.page_source)"
   ]
  },
  {
   "cell_type": "code",
   "execution_count": null,
   "metadata": {},
   "outputs": [],
   "source": [
    "# Need to read from a pdf name=CD6F9816E7949144F43AB92B6CCADAA8\n",
    "\n",
    "# location = driver.find_element_by_xpath('/html/body/embed').text\n",
    "# location"
   ]
  },
  {
   "cell_type": "code",
   "execution_count": null,
   "metadata": {},
   "outputs": [],
   "source": []
  },
  {
   "cell_type": "code",
   "execution_count": null,
   "metadata": {},
   "outputs": [],
   "source": []
  },
  {
   "cell_type": "code",
   "execution_count": null,
   "metadata": {},
   "outputs": [],
   "source": []
  },
  {
   "cell_type": "code",
   "execution_count": null,
   "metadata": {},
   "outputs": [],
   "source": []
  },
  {
   "cell_type": "code",
   "execution_count": null,
   "metadata": {},
   "outputs": [],
   "source": [
    "# print('reporting_jurisdictions = ',JWhitman)\n",
    "# print('county_name = ',CWhitman)\n",
    "# print('state_name = ',SWhitman)\n",
    "# print('Date = ',DWhitman)\n",
    "# print('jail_population = ',PWhitman)"
   ]
  },
  {
   "cell_type": "code",
   "execution_count": null,
   "metadata": {},
   "outputs": [],
   "source": [
    "driver.close()"
   ]
  },
  {
   "cell_type": "markdown",
   "metadata": {},
   "source": [
    "### Jefferson"
   ]
  },
  {
   "cell_type": "markdown",
   "metadata": {},
   "source": [
    "[Jefferson](https://co.jefferson.wa.us/174/Jail-Inmate-Search)<br> To view the full inmate roster click the Clear button then the Search button."
   ]
  },
  {
   "cell_type": "code",
   "execution_count": null,
   "metadata": {},
   "outputs": [],
   "source": [
    "url = \"https://co.jefferson.wa.us/174/Jail-Inmate-Search\"\n",
    "driver = webdriver.Chrome('/Users/meaganrossi/Projects/Incarceration_COVID/chromedriver')\n",
    "driver.implicitly_wait(3)\n",
    "driver.get(url)\n",
    "\n",
    "# print(driver.page_source)"
   ]
  },
  {
   "cell_type": "code",
   "execution_count": null,
   "metadata": {},
   "outputs": [],
   "source": [
    "#Hidden input type\n",
    "\n",
    "# inmate = driver.find_element_by_xpath('//*[@id=\"Inmate_Index\"]').text\n",
    "# inmate\n",
    "\n",
    "inmate = driver.find_elements_by_name('Name')\n",
    "print(len(inmate))"
   ]
  },
  {
   "cell_type": "code",
   "execution_count": null,
   "metadata": {},
   "outputs": [],
   "source": [
    "# print('reporting_jurisdictions = ',JWhitman)\n",
    "# print('county_name = ',CWhitman)\n",
    "# print('state_name = ',SWhitman)\n",
    "# print('Date = ',DWhitman)\n",
    "# print('jail_population = ',PWhitman)\n",
    "\n",
    "driver.close()"
   ]
  },
  {
   "cell_type": "markdown",
   "metadata": {},
   "source": [
    "### Grant"
   ]
  },
  {
   "cell_type": "markdown",
   "metadata": {},
   "source": [
    "[Grant](ttps://www.grantcountywa.gov/SHERIFF/Corrections/Inmate-Roster.htm), daily pdf"
   ]
  },
  {
   "cell_type": "code",
   "execution_count": null,
   "metadata": {},
   "outputs": [],
   "source": [
    "url = \"https://www.grantcountywa.gov/SHERIFF/Corrections/Inmate-Roster.htm\"\n",
    "driver = webdriver.Chrome('/Users/meaganlazer/Projects/Incarceration_COVID/chromedriver')\n",
    "driver.implicitly_wait(3)\n",
    "driver.get(url)\n",
    "\n",
    "print(driver.page_source)"
   ]
  },
  {
   "cell_type": "code",
   "execution_count": null,
   "metadata": {},
   "outputs": [],
   "source": [
    "# print('reporting_jurisdictions = ',JWhitman)\n",
    "# print('county_name = ',CWhitman)\n",
    "# print('state_name = ',SWhitman)\n",
    "# print('Date = ',DWhitman)\n",
    "# print('jail_population = ',PWhitman)\n",
    "\n",
    "driver.close()"
   ]
  },
  {
   "cell_type": "markdown",
   "metadata": {},
   "source": [
    "### Gray's Harbor"
   ]
  },
  {
   "cell_type": "markdown",
   "metadata": {},
   "source": [
    "[Gray's Harbor]('http://ghlea.com/JailRosters/GHCJRoster.html')"
   ]
  },
  {
   "cell_type": "code",
   "execution_count": null,
   "metadata": {},
   "outputs": [],
   "source": [
    "url = \"http://ghlea.com/JailRosters/GHCJRoster.html\"\n",
    "driver = webdriver.Chrome('/Users/meaganrossi/Projects/Incarceration_COVID/chromedriver')\n",
    "driver.implicitly_wait(3)\n",
    "driver.get(url)\n",
    "\n",
    "# print(driver.page_source)"
   ]
  },
  {
   "cell_type": "code",
   "execution_count": null,
   "metadata": {},
   "outputs": [],
   "source": [
    "inmate = driver.find_elements_by_xpath('//*[@id=\"main-table\"]/tbody/tr')\n",
    "print(len(inmate))"
   ]
  },
  {
   "cell_type": "code",
   "execution_count": null,
   "metadata": {},
   "outputs": [],
   "source": []
  },
  {
   "cell_type": "code",
   "execution_count": null,
   "metadata": {},
   "outputs": [],
   "source": []
  },
  {
   "cell_type": "code",
   "execution_count": null,
   "metadata": {},
   "outputs": [],
   "source": [
    "# print('reporting_jurisdictions = ',JWhitman)\n",
    "# print('county_name = ',CWhitman)\n",
    "# print('state_name = ',SWhitman)\n",
    "# print('Date = ',DWhitman)\n",
    "# print('jail_population = ',PWhitman)\n",
    "\n",
    "driver.close()"
   ]
  },
  {
   "cell_type": "markdown",
   "metadata": {},
   "source": [
    "### Ferry"
   ]
  },
  {
   "cell_type": "markdown",
   "metadata": {},
   "source": [
    "[Ferry](https://www.ferry-county.com/Courts%20and%20Law/Inmate%20Roster/Inmate_Roster_Page.html): in the section that says \"MAY 11, 2020 - 8 inmates\")"
   ]
  },
  {
   "cell_type": "code",
   "execution_count": null,
   "metadata": {},
   "outputs": [],
   "source": [
    "url = \"https://www.ferry-county.com/Courts%20and%20Law/Inmate%20Roster/Inmate_Roster_Page.html\"\n",
    "driver = webdriver.Chrome('/Users/meaganrossi/Projects/Incarceration_COVID/chromedriver')\n",
    "driver.implicitly_wait(3)\n",
    "driver.get(url)\n",
    "\n",
    "# print(driver.page_source)"
   ]
  },
  {
   "cell_type": "code",
   "execution_count": null,
   "metadata": {},
   "outputs": [],
   "source": [
    "Finmate = driver.find_element_by_xpath('//*[@id=\"mainContent3\"]/p[9]').text\n",
    "Finmate[16]"
   ]
  },
  {
   "cell_type": "code",
   "execution_count": null,
   "metadata": {},
   "outputs": [],
   "source": [
    "# print('reporting_jurisdictions = ',JWhitman)\n",
    "# print('county_name = ',CWhitman)\n",
    "# print('state_name = ',SWhitman)\n",
    "# print('Date = ',DWhitman)\n",
    "# print('jail_population = ',PWhitman)\n",
    "\n",
    "driver.close()"
   ]
  },
  {
   "cell_type": "markdown",
   "metadata": {},
   "source": [
    "### Clallam"
   ]
  },
  {
   "cell_type": "markdown",
   "metadata": {},
   "source": [
    "[Clallam](https://websrv23.clallam.net/NewWorld.InmateInquiry/WA0050000/)"
   ]
  },
  {
   "cell_type": "code",
   "execution_count": 14,
   "metadata": {},
   "outputs": [],
   "source": [
    "url = \"https://websrv23.clallam.net/NewWorld.InmateInquiry/WA0050000/\"\n",
    "driver = webdriver.Chrome('/Users/meaganrossi/Projects/Incarceration_COVID/chromedriver') \n",
    "driver.implicitly_wait(3)\n",
    "driver.get(url)\n",
    "\n",
    "# print(driver.page_source)"
   ]
  },
  {
   "cell_type": "code",
   "execution_count": 21,
   "metadata": {},
   "outputs": [
    {
     "name": "stdout",
     "output_type": "stream",
     "text": [
      "1\n"
     ]
    }
   ],
   "source": [
    "Clallam_inmate = driver.find_elements_by_classname('Name')\n",
    "print(len(Clallam_inmate))"
   ]
  },
  {
   "cell_type": "code",
   "execution_count": 17,
   "metadata": {},
   "outputs": [
    {
     "data": {
      "text/plain": [
       "'AUSEUGA, SIAUMAU SANELE 109257 Yes Male Yes Clallam County Correction Facility\\nBAIN, ROBERT DAVID 79333 Yes Male Yes Clallam County Correction Facility\\nBAUER, DENNIS MARVIN 87373 Yes Male OTHER JAIL- CONTRACT/TEMPORARY/TRANSPORT ORDER\\nBEIERLY, TRISTEN JOSEPH 78348 Yes Male Yes Clallam County Correction Facility\\nBELL, CAMRIN CURTIS 92842 Yes Male Yes Clallam County Correction Facility\\nBISHOP, JIMMY RAY 57420 Yes Male Yes Clallam County Correction Facility\\nBRUCE, VINCENT ADAM 42711 Yes Male DEPT OF SOCIAL AND HEALTH SERVICES\\nBUCHANAN-SHORT, LOREN REBECCA 104398 Yes Female Clallam County Correction Facility\\nCALLOWAY, IZAIAH JAMAL 109269 Yes Male Clallam County Correction Facility\\nCAMBY, TYHLER THOMAS 107785 Yes 6/25/2020 11:06 AM Male Yes Clallam County Correction Facility\\nCANNON, ANTHONY MICHAEL 70325 Yes Male Yes Clallam County Correction Facility\\nCAUDILL, KAVEN RANDOLPH 83165 Yes Male Yes Clallam County Correction Facility\\nCLEMONS, DAVID FERRIS 34665 Yes Male Yes Clallam County Correction Facility\\nCOWLES, PHILLIP ZABRIEL 108903 Yes Male Clallam County Correction Facility\\nCREED, CHARLES W 74409 Yes 6/23/2020 10:52 AM Male Yes Clallam County Correction Facility\\nDAVIS, STEVEN RENE 106219 Yes Male Yes Clallam County Correction Facility\\nDEMING, ALAN J 109674 Yes Male Clallam County Correction Facility\\nDIETZ, LARISA JEAN 49020 Yes Female Yes Clallam County Correction Facility\\nDONINGER, REBECCA MAY 63345 Yes Female Clallam County Correction Facility\\nEISENHOWER, JESSE ALLEN 72794 Yes 6/17/2020 9:44 AM Male Yes Clallam County Correction Facility\\nGALVIN, JOHN LANCE 61410 Yes Male Clallam County Correction Facility\\nGANTT, RANDY ALAN 107919 Yes Male Clallam County Correction Facility\\nGILHAM, TARANCE JOSEPH 105470 Yes 9/13/2020 11:36 AM Male Clallam County Correction Facility\\nGRAY, JOHN RUSSELL 109659 Yes Male Clallam County Correction Facility\\nGREENE, ALAN KERRY 35952 Yes 6/20/2020 10:27 AM Male Yes Clallam County Correction Facility\\nGROSS, MICHAEL BRANDON 88150 Yes Male Yes Clallam County Correction Facility\\nHARRIS, GRETA MARIE 76511 Yes Female Clallam County Correction Facility\\nHARRIS, JOHN ANTHONY 79721 Yes Male Clallam County Correction Facility\\nHAYNES, BRUCE HENRY 70513 Yes Male Yes Clallam County Correction Facility\\nHENDERSON, MICHAEL WAYNE 109668 Yes Male Clallam County Correction Facility\\nHESKETT, KYLEE ANN 109619 Yes Female Clallam County Correction Facility\\nHORNER, EDWARD PAUL 3769 Yes Male Yes Clallam County Correction Facility\\nHUSTON, DONALD JAMES Junior 91404 Yes Male Clallam County Correction Facility\\nHYPKE, JOSEPH RAY 68826 Yes Male Clallam County Correction Facility\\nJACKSON, TYRON E L 81663 Yes Male Clallam County Correction Facility\\nJOHNSON, MAXX EDWARD 67494 Yes Male Yes Clallam County Correction Facility\\nJONES, MICHAEL D 82794 Yes 6/12/2020 9:35 AM Male Clallam County Correction Facility\\nKAHLER, TUCKER SCOTT 78031 Yes Male Yes Clallam County Correction Facility\\nLEHNERZ, RICKY EDWARD 109759 Yes Male Clallam County Correction Facility\\nLEOSO, WILLIAM TOMASI 80398 Yes Male Clallam County Correction Facility\\nLINDBERG, SPENCER TRACY 83115 Yes 8/26/2020 4:24 PM Male Yes Forks City Jail\\nMCCLANAHAN, ZOELAR ADAM 46667 Yes Male Clallam County Correction Facility\\nMEDEL LOPEZ, MIGUEL ANGEL 65815 Yes Male Clallam County Correction Facility\\nMIKE, PAULA LYNN 51622 Yes Female Clallam County Correction Facility\\nMOSQUEDA, PHILLIP BENJAMIN 88185 Yes Male Yes Clallam County Correction Facility\\nMUTH, TIMOTHY DEAN 96975 Yes Male Yes Clallam County Correction Facility\\nNASH, JESS MICHAEL 44624 Yes Male Yes Clallam County Correction Facility\\nOHLSON, RUTH M 40804 Yes Female Clallam County Correction Facility\\nPATTERSON-PRICE, JEREMY MICHAEL 109687 Yes Male Clallam County Correction Facility\\nPETERSON, THOMAS PEELLE 108292 Yes Male Yes Clallam County Correction Facility\\nPORE, MATTHEW JAMES 107133 Yes Male Yes Clallam County Correction Facility\\nRAY, PAUL RICHARD 108999 Yes Male DEPT OF SOCIAL AND HEALTH SERVICES\\nROBERTS, NICHOLAS TYLER 87953 Yes 7/5/2020 3:19 PM Male Yes Clallam County Correction Facility\\nROHN, TIMOTHY JOHNATHAN 55865 Yes Male Clallam County Correction Facility\\nSAMPSON, CHRISTOPHER LEROY 33028 Yes Male Clallam County Correction Facility\\nSCHILLING, KENNETH BURR 104058 Yes Male Yes Clallam County Correction Facility\\nSEIERUP, KRISTOPHER RYAN 104107 Yes 7/14/2020 9:46 AM Male Clallam County Correction Facility\\nSHOOSMITH, JOHN PHILIP 108390 Yes 9/5/2020 10:50 AM Male Clallam County Correction Facility\\nSMITH, LACEY 95761 Yes Female Yes Clallam County Correction Facility\\nSONNABEND, IAN MICHAEL 70029 Yes Male Yes Clallam County Correction Facility\\nSTUBBS, CARLO ARTHUR 57823 Yes 8/14/2023 8:34 AM Male Yes Clallam County Correction Facility\\nSWAGERTY, LASHINA PAULA 93015 Yes Female Yes Clallam County Correction Facility\\nTANGEDAHL, TRACEY AARON 68529 Yes Male Yes Clallam County Correction Facility\\nTAYLOR-ARMSTRONG, ZACHARY MICHAEL 83656 Yes Male Yes Clallam County Correction Facility\\nTERRY, NATHAN WAYNE 63695 Yes Male Yes Clallam County Correction Facility\\nTHOMAS, TYLER ADAM 39362 Yes Male Clallam County Correction Facility\\nTOLBERT, CODY RYAN 64812 Yes Male Yes Clallam County Correction Facility\\nTUFF, JASON WILLIAM 54139 Yes 8/2/2020 11:00 PM Male Clallam County Correction Facility\\nWACHENDORF, DENNIS ANDREW 102764 Yes 8/24/2020 10:41 AM Male Yes Clallam County Correction Facility\\nWALKO, CHRISTOPHER EDWARD 101150 Yes 6/12/2020 8:13 AM Male Yes Clallam County Correction Facility\\nWARD, RYAN WARREN 45200 Yes Male OTHER JAIL- CONTRACT/TEMPORARY/TRANSPORT ORDER\\nWELT, TYSON CAMERON 60054 Yes Male Clallam County Correction Facility\\nWETHERINGTON, MATTHEW TIMOTHY 104161 Yes Male Clallam County Correction Facility\\nWHITE, CHRISTOPHER MICHAEL 66697 Yes 10/18/2020 1:59 PM Male Yes Clallam County Correction Facility\\nWISHART, KAYLA LEEANN 103045 Yes Female Yes Clallam County Correction Facility'"
      ]
     },
     "execution_count": 17,
     "metadata": {},
     "output_type": "execute_result"
    }
   ],
   "source": [
    "Clallam_inmate = driver.find_element_by_xpath('//*[@id=\"Inmate_Index\"]/div[2]/div/table/tbody').text\n",
    "Clallam_inmate\n",
    "\n"
   ]
  },
  {
   "cell_type": "code",
   "execution_count": null,
   "metadata": {},
   "outputs": [],
   "source": [
    "# print('reporting_jurisdictions = ',JWhitman)\n",
    "# print('county_name = ',CWhitman)\n",
    "# print('state_name = ',SWhitman)\n",
    "# print('Date = ',DWhitman)\n",
    "# print('jail_population = ',PWhitman)\n",
    "\n",
    "driver.close()"
   ]
  },
  {
   "cell_type": "markdown",
   "metadata": {},
   "source": [
    "### Adams"
   ]
  },
  {
   "cell_type": "markdown",
   "metadata": {},
   "source": [
    "[View](https://www.co.adams.wa.us/government/jail_roster_and_booking_information/index.php) Jail Roster Information"
   ]
  },
  {
   "cell_type": "code",
   "execution_count": null,
   "metadata": {},
   "outputs": [],
   "source": [
    "url = \"https://www.co.adams.wa.us/government/jail_roster_and_booking_information/index.php\"\n",
    "driver = webdriver.Chrome('/Users/meaganrossi/Projects/Incarceration_COVID/chromedriver')\n",
    "driver.implicitly_wait(3)\n",
    "driver.get(url)\n",
    "\n",
    "# print(driver.page_source)"
   ]
  },
  {
   "cell_type": "code",
   "execution_count": null,
   "metadata": {},
   "outputs": [],
   "source": [
    "Adams_inmate = driver.find_element_by_xpath('//*[@id=\"mainContent3\"]/p[9]').text\n",
    "Adams_inmate[16]"
   ]
  },
  {
   "cell_type": "code",
   "execution_count": null,
   "metadata": {},
   "outputs": [],
   "source": []
  },
  {
   "cell_type": "code",
   "execution_count": null,
   "metadata": {},
   "outputs": [],
   "source": [
    "# print('reporting_jurisdictions = ',JWhitman)\n",
    "# print('county_name = ',CWhitman)\n",
    "# print('state_name = ',SWhitman)\n",
    "# print('Date = ',DWhitman)\n",
    "# print('jail_population = ',PWhitman)\n",
    "\n",
    "driver.close()"
   ]
  }
 ],
 "metadata": {
  "kernelspec": {
   "display_name": "Python 3",
   "language": "python",
   "name": "python3"
  },
  "language_info": {
   "codemirror_mode": {
    "name": "ipython",
    "version": 3
   },
   "file_extension": ".py",
   "mimetype": "text/x-python",
   "name": "python",
   "nbconvert_exporter": "python",
   "pygments_lexer": "ipython3",
   "version": "3.7.7"
  },
  "toc": {
   "base_numbering": 1,
   "nav_menu": {},
   "number_sections": true,
   "sideBar": true,
   "skip_h1_title": false,
   "title_cell": "Table of Contents",
   "title_sidebar": "Contents",
   "toc_cell": false,
   "toc_position": {
    "height": "534px",
    "left": "38px",
    "top": "234px",
    "width": "240.797px"
   },
   "toc_section_display": true,
   "toc_window_display": false
  }
 },
 "nbformat": 4,
 "nbformat_minor": 4
}
