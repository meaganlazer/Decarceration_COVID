{
 "cells": [
  {
   "cell_type": "markdown",
   "metadata": {},
   "source": [
    "# Introduction"
   ]
  },
  {
   "cell_type": "markdown",
   "metadata": {},
   "source": [
    "**Incarceration & COVID-19: How Jails Respond to COVID**<br>\n",
    "\n",
    "This project scrapes daily jail roster information to create a large dataset. This dataset is designed to analyze how jail populations have fluctuated in response to COVID-19. Research centers on explaining why county jails in different parts of the United States have responded differently to the pandemic over time. \n",
    "\n",
    "A separate but related idea for this dataset analyzes the impact of pandemic-related jail population declines on local crime. This project uses daily jail roster population counts as the focal variable and the analysis uses group-based trajectory modeling. Our scraped data will address gaps in the [Vera](https://github.com/vera-institute/jail-population-data) dataset.\n",
    "\n",
    "We start by comparing Washington and New York states because they dealt with COVID-19 at the early on-set of the pandemic. Below is a list of the data points to collect to harmonize with the Vera data.\n",
    "- County Name\n",
    "- State Name\n",
    "- Daily Population Counts\n",
    "- Reporting Jail Name"
   ]
  },
  {
   "cell_type": "markdown",
   "metadata": {},
   "source": [
    "# Imports"
   ]
  },
  {
   "cell_type": "code",
   "execution_count": 1,
   "metadata": {},
   "outputs": [],
   "source": [
    "# Import libraries\n",
    "import pandas as pd\n",
    "from datetime import datetime\n",
    "\n",
    "# Request\n",
    "import requests\n",
    "import re\n",
    "import zlib\n",
    "import urllib\n",
    "import urllib.request\n",
    "\n",
    "# Selenium\n",
    "from selenium import webdriver\n",
    "\n",
    "#SQL\n",
    "import mysql.connector\n",
    "import os"
   ]
  },
  {
   "cell_type": "markdown",
   "metadata": {},
   "source": [
    "# MySQL"
   ]
  },
  {
   "cell_type": "code",
   "execution_count": 2,
   "metadata": {},
   "outputs": [
    {
     "name": "stdout",
     "output_type": "stream",
     "text": [
      "<mysql.connector.connection.MySQLConnection object at 0x7fa90802d590>\n"
     ]
    }
   ],
   "source": [
    "db_user = os.getenv('db_user')\n",
    "db_passwd = os.getenv('db_passwd')\n",
    "\n",
    "\n",
    "mydb = mysql.connector.connect(host='localhost',\\\n",
    "                              user=db_user,\\\n",
    "                              passwd=db_passwd,\\\n",
    "                              database='testdb'\\\n",
    "                              )\n",
    "                               \n",
    "print(mydb)"
   ]
  },
  {
   "cell_type": "code",
   "execution_count": 3,
   "metadata": {},
   "outputs": [
    {
     "name": "stdout",
     "output_type": "stream",
     "text": [
      "('information_schema',)\n",
      "('mysql',)\n",
      "('performance_schema',)\n",
      "('sys',)\n",
      "('testdb',)\n"
     ]
    }
   ],
   "source": [
    "# Create a database\n",
    "mycursor = mydb.cursor()\n",
    "\n",
    "# This line is commented out because it only needs to be run once\n",
    "# mycursor.execute(\"CREATE DATABASE testdb\")\n",
    "\n",
    "mycursor.execute(\"SHOW DATABASES\")\n",
    "\n",
    "for db in mycursor:\n",
    "    print(db)"
   ]
  },
  {
   "cell_type": "code",
   "execution_count": 4,
   "metadata": {},
   "outputs": [
    {
     "name": "stdout",
     "output_type": "stream",
     "text": [
      "('county_jails',)\n"
     ]
    }
   ],
   "source": [
    "# # Create a table (do not erase/for refrerence)\n",
    "\n",
    "# mycursor.execute(\"CREATE TABLE county_jails\\\n",
    "#                  (reporting_jurisdictions VARCHAR(100),\\\n",
    "#                  county_name VARCHAR(100),\\\n",
    "#                  state_name VARCHAR(100),\\\n",
    "#                  Date VARCHAR(100),\\\n",
    "#                  jail_population INTEGER(255))\")\n",
    "\n",
    "mycursor.execute(\"SHOW TABLES\")\n",
    "\n",
    "for tb in mycursor:\n",
    "    print(tb)"
   ]
  },
  {
   "cell_type": "code",
   "execution_count": 5,
   "metadata": {},
   "outputs": [],
   "source": [
    "sqlFormula = \"INSERT INTO county_jails (Date, reporting_jurisdictions, county_name, \\\n",
    "state_name, jail_population) VALUES (%s, %s, %s, %s, %s)\""
   ]
  },
  {
   "cell_type": "markdown",
   "metadata": {},
   "source": [
    "# States"
   ]
  },
  {
   "cell_type": "markdown",
   "metadata": {},
   "source": [
    "Be sure to check for APIs in addition to scraping. Will include NY, WA and FL."
   ]
  },
  {
   "cell_type": "markdown",
   "metadata": {},
   "source": [
    "## Washington"
   ]
  },
  {
   "cell_type": "markdown",
   "metadata": {},
   "source": [
    "### Whitman"
   ]
  },
  {
   "cell_type": "code",
   "execution_count": 6,
   "metadata": {},
   "outputs": [
    {
     "name": "stdout",
     "output_type": "stream",
     "text": [
      "Date =  2020-07-28\n",
      "jail_population =  23\n"
     ]
    }
   ],
   "source": [
    "#View website with driver\n",
    "url = \"http://www.whitmancountyjail.org/\"\n",
    "driver = webdriver.Chrome('/Users/meaganrossi/Projects/Incarceration_COVID/chromedriver')\n",
    "driver.implicitly_wait(3)\n",
    "driver.get(url)\n",
    "\n",
    "#Scrape the county jail daily count, view full list \n",
    "listy = driver.find_elements_by_css_selector('h4')\n",
    "# for x in listy[:50]:\n",
    "#     if len(x.text) > 0:\n",
    "#         print(x.text)\n",
    "\n",
    "#Identify and create dynamic fields\n",
    "todays_date = datetime.now().strftime('%Y-%m-%d')\n",
    "JPWhitman = (len(listy))-10\n",
    "print('Date = ',todays_date)\n",
    "print('jail_population = ',JPWhitman)\n",
    "\n",
    "\n",
    "#Use for all MySQL pushes\n",
    "Whitman = (todays_date, \"Whitman County Jail\", \"Whitman County\", \"WA\", JPWhitman)\n",
    "mycursor.execute(sqlFormula, Whitman)\n",
    "mydb.commit()\n",
    "\n",
    "#Exit out of browser window\n",
    "driver.close()"
   ]
  },
  {
   "cell_type": "markdown",
   "metadata": {},
   "source": [
    "### Spokane"
   ]
  },
  {
   "cell_type": "code",
   "execution_count": 7,
   "metadata": {},
   "outputs": [],
   "source": [
    "url = \"https://www.spokanecounty.org/352/Inmate-Roster'\"\n",
    "driver = webdriver.Chrome('/Users/meaganrossi/Projects/Incarceration_COVID/chromedriver')\n",
    "driver.implicitly_wait(3)\n",
    "driver.get(url)\n",
    "\n",
    "# print(driver.page_source)\n",
    "\n",
    "# Sinmate = driver.find_element_by_xpath('//*[@id=\"tblInmateRoster_info\"]')"
   ]
  },
  {
   "cell_type": "code",
   "execution_count": 8,
   "metadata": {},
   "outputs": [],
   "source": [
    "JPSpokane = 645"
   ]
  },
  {
   "cell_type": "code",
   "execution_count": 9,
   "metadata": {},
   "outputs": [],
   "source": [
    "#USE FOR ALL COMMITS\n",
    "Spokane = (todays_date, \"Spokane County Jail\", \"Spokane County\", \"WA\", JPSpokane)\n",
    "mycursor.execute(sqlFormula, Spokane)\n",
    "mydb.commit()\n",
    "\n",
    "driver.close()"
   ]
  },
  {
   "cell_type": "markdown",
   "metadata": {},
   "source": [
    "### Okanogan"
   ]
  },
  {
   "cell_type": "markdown",
   "metadata": {},
   "source": [
    "Details can be found in the Daily Jail Inmate Log on [Okanogan Sherriff Website](https://okanogansheriff.org/)."
   ]
  },
  {
   "cell_type": "code",
   "execution_count": null,
   "metadata": {},
   "outputs": [],
   "source": [
    "url = \"https://okanogansheriff.org/\"\n",
    "driver = webdriver.Chrome('/Users/meaganrossi/Projects/Incarceration_COVID/chromedriver')\n",
    "driver.implicitly_wait(3)\n",
    "driver.get(url)\n",
    "\n",
    "# print(driver.page_source)"
   ]
  },
  {
   "cell_type": "code",
   "execution_count": null,
   "metadata": {},
   "outputs": [],
   "source": [
    "JPOkanogan = 88"
   ]
  },
  {
   "cell_type": "code",
   "execution_count": null,
   "metadata": {},
   "outputs": [],
   "source": [
    "#USE FOR ALL COMMITS\n",
    "Okanogan = (todays_date, \"Okanogan County Jail\", \"Okanogan County\", \"WA\", JPOkanogan)\n",
    "mycursor.execute(sqlFormula, Okanogan)\n",
    "mydb.commit()\n",
    "\n",
    "driver.close()"
   ]
  },
  {
   "cell_type": "markdown",
   "metadata": {},
   "source": [
    "### Jefferson"
   ]
  },
  {
   "cell_type": "markdown",
   "metadata": {},
   "source": [
    "[Jefferson](https://co.jefferson.wa.us/174/Jail-Inmate-Search)<br> To view the full inmate roster click the Clear button then the Search button."
   ]
  },
  {
   "cell_type": "code",
   "execution_count": null,
   "metadata": {},
   "outputs": [],
   "source": [
    "url = \"https://co.jefferson.wa.us/174/Jail-Inmate-Search\"\n",
    "driver = webdriver.Chrome('/Users/meaganrossi/Projects/Incarceration_COVID/chromedriver')\n",
    "driver.implicitly_wait(3)\n",
    "driver.get(url)\n",
    "\n",
    "# print(driver.page_source)"
   ]
  },
  {
   "cell_type": "code",
   "execution_count": null,
   "metadata": {},
   "outputs": [],
   "source": [
    "\n",
    "# Hidden input type\n",
    "\n",
    "inmate = driver.find_elements_by_name('Name')\n",
    "print(len(inmate))"
   ]
  },
  {
   "cell_type": "code",
   "execution_count": null,
   "metadata": {},
   "outputs": [],
   "source": [
    "JPJefferson = 22"
   ]
  },
  {
   "cell_type": "code",
   "execution_count": null,
   "metadata": {},
   "outputs": [],
   "source": [
    "#USE FOR ALL COMMITS\n",
    "Jefferson = (todays_date, \"Jefferson County Jail\", \"Jefferson County\", \"WA\", JPJefferson)\n",
    "mycursor.execute(sqlFormula, Jefferson)\n",
    "mydb.commit()\n",
    "\n",
    "driver.close()"
   ]
  },
  {
   "cell_type": "markdown",
   "metadata": {},
   "source": [
    "### Grant"
   ]
  },
  {
   "cell_type": "markdown",
   "metadata": {},
   "source": [
    "[Grant](ttps://www.grantcountywa.gov/SHERIFF/Corrections/Inmate-Roster.htm), daily pdf"
   ]
  },
  {
   "cell_type": "code",
   "execution_count": null,
   "metadata": {},
   "outputs": [],
   "source": [
    "grant = urllib.request.Request(\"https://www.grantcountywa.gov/SHERIFF/Corrections/Roster-InmateinmateRoster%20v%206.rpt.pdf\",\\\n",
    "#                               method= 'GET',\\\n",
    "                               headers= { 'User-Agent' : 'Chrome/41.0.2228.0',\\\n",
    "                                 'Content-Type': 'application/x-www-form-urlencoded'\\\n",
    "                                        })\n",
    "\n",
    "response = urllib.request.urlopen(grant)\n",
    "the_page = response.read()\n",
    "# print(the_page)"
   ]
  },
  {
   "cell_type": "code",
   "execution_count": null,
   "metadata": {},
   "outputs": [],
   "source": [
    "stream = re.compile(b'.*?FlateDecode.*?stream(.*?)endstream', re.S)\n",
    "\n",
    "for s in re.findall(stream,the_page):\n",
    "    s = s.strip(b'\\r\\n')\n",
    "    try:\n",
    "        print(zlib.decompress(s).decode('UTF-8'))\n",
    "    except:\n",
    "        pass\n",
    "    "
   ]
  },
  {
   "cell_type": "code",
   "execution_count": null,
   "metadata": {},
   "outputs": [],
   "source": [
    "JPGrant=43"
   ]
  },
  {
   "cell_type": "code",
   "execution_count": null,
   "metadata": {},
   "outputs": [],
   "source": [
    "#USE FOR ALL COMMITS\n",
    "Grant = (todays_date, \"Grant County Jail\", \"Grant County\", \"WA\", JPGrant)\n",
    "mycursor.execute(sqlFormula, Grant)\n",
    "mydb.commit()\n",
    "\n",
    "# driver.close()"
   ]
  },
  {
   "cell_type": "markdown",
   "metadata": {},
   "source": [
    "### Gray's Harbor"
   ]
  },
  {
   "cell_type": "markdown",
   "metadata": {},
   "source": [
    "[Gray's Harbor]('http://ghlea.com/JailRosters/GHCJRoster.html')"
   ]
  },
  {
   "cell_type": "code",
   "execution_count": null,
   "metadata": {},
   "outputs": [],
   "source": [
    "url = \"http://ghlea.com/JailRosters/GHCJRoster.html\"\n",
    "driver = webdriver.Chrome('/Users/meaganrossi/Projects/Incarceration_COVID/chromedriver')\n",
    "driver.implicitly_wait(3)\n",
    "driver.get(url)\n",
    "\n",
    "\n",
    "GHinmate = driver.find_elements_by_xpath('//*[@id=\"main-table\"]/tbody/tr')\n",
    "JPGray=(len(GHinmate))\n",
    "print(JPGray)\n",
    "\n",
    "#USE FOR ALL COMMITS\n",
    "\n",
    "Gray = (todays_date, \"Grays Harbor County Jail\", \"Grays Harbor County\", \"WA\", JPGray)\n",
    "mycursor.execute(sqlFormula, Gray)\n",
    "mydb.commit()\n",
    "\n",
    "\n",
    "driver.close()"
   ]
  },
  {
   "cell_type": "markdown",
   "metadata": {},
   "source": [
    "### Ferry"
   ]
  },
  {
   "cell_type": "markdown",
   "metadata": {},
   "source": [
    "[Ferry](https://www.ferry-county.com/Courts%20and%20Law/Inmate%20Roster/Inmate_Roster_Page.html): in the section that says \"MAY 11, 2020 - 8 inmates\")"
   ]
  },
  {
   "cell_type": "code",
   "execution_count": null,
   "metadata": {},
   "outputs": [],
   "source": [
    "url = \"https://www.ferry-county.com/Courts%20and%20Law/Inmate%20Roster/Inmate_Roster_Page.html\"\n",
    "driver = webdriver.Chrome('/Users/meaganrossi/Projects/Incarceration_COVID/chromedriver')\n",
    "driver.implicitly_wait(3)\n",
    "driver.get(url)\n",
    "\n",
    "# print(driver.page_source)\n",
    "\n",
    "\n",
    "Finmate = driver.find_element_by_xpath('//*[@id=\"mainContent3\"]/p[9]').text\n",
    "JPFerry=Finmate[15:17]\n",
    "print(JPFerry)\n",
    "\n",
    "\n",
    "#USE FOR ALL COMMITS\n",
    "\n",
    "Ferry = (todays_date, \"Ferry County Corrections\", \"Ferry County\", \"WA\", JPFerry)\n",
    "mycursor.execute(sqlFormula, Ferry)\n",
    "mydb.commit()\n",
    "\n",
    "\n",
    "driver.close()"
   ]
  },
  {
   "cell_type": "markdown",
   "metadata": {},
   "source": [
    "### Clallam"
   ]
  },
  {
   "cell_type": "markdown",
   "metadata": {},
   "source": [
    "[Clallam](https://websrv23.clallam.net/NewWorld.InmateInquiry/WA0050000/)"
   ]
  },
  {
   "cell_type": "code",
   "execution_count": null,
   "metadata": {},
   "outputs": [],
   "source": [
    "url = \"https://websrv23.clallam.net/NewWorld.InmateInquiry/WA0050000/\"\n",
    "driver = webdriver.Chrome('/Users/meaganrossi/Projects/Incarceration_COVID/chromedriver') \n",
    "driver.implicitly_wait(3)\n",
    "driver.get(url)\n",
    "\n",
    "# print(driver.page_source)\n",
    "\n",
    "\n",
    "Clallam_inmate = driver.find_elements_by_class_name('Name')\n",
    "JPClallam = (len(Clallam_inmate))\n",
    "print(JPClallam)\n",
    "\n",
    "\n",
    "#USE FOR ALL COMMITS\n",
    "\n",
    "Clallam = (todays_date, \"Clallam County Jail\", \"Clallam County\", \"WA\", JPClallam)\n",
    "mycursor.execute(sqlFormula, Clallam)\n",
    "mydb.commit()\n",
    "\n",
    "\n",
    "driver.close()"
   ]
  },
  {
   "cell_type": "markdown",
   "metadata": {},
   "source": [
    "### Adams"
   ]
  },
  {
   "cell_type": "markdown",
   "metadata": {},
   "source": [
    "[View](https://www.co.adams.wa.us/government/jail_roster_and_booking_information/index.php) Jail Roster Information"
   ]
  },
  {
   "cell_type": "code",
   "execution_count": null,
   "metadata": {},
   "outputs": [],
   "source": [
    "url = \"https://www.co.adams.wa.us/jailrosterout.txt\"\n",
    "driver = webdriver.Chrome('/Users/meaganrossi/Projects/Incarceration_COVID/chromedriver')\n",
    "driver.implicitly_wait(3)\n",
    "driver.get(url)\n",
    "\n",
    "# print(driver.page_source)\n",
    "\n",
    "Adams_text=driver.find_element_by_xpath('/html/body/pre').text\n",
    "JPAdams = Adams_text.count(\"Booking\")\n",
    "print('Jail Population = ',JPAdams)\n",
    "\n",
    "#USE FOR ALL COMMITS\n",
    "\n",
    "Adams = (todays_date, \"Adams County Jail\", \"Adams County\", \"WA\", JPAdams)\n",
    "mycursor.execute(sqlFormula, Adams)\n",
    "mydb.commit()\n",
    "\n",
    "driver.close()"
   ]
  },
  {
   "cell_type": "markdown",
   "metadata": {},
   "source": [
    "### Chelan"
   ]
  },
  {
   "cell_type": "code",
   "execution_count": null,
   "metadata": {},
   "outputs": [],
   "source": [
    "#  https://www.co.chelan.wa.us/regional-jail/inmate-list"
   ]
  },
  {
   "cell_type": "markdown",
   "metadata": {},
   "source": [
    "### Cowlitz"
   ]
  },
  {
   "cell_type": "code",
   "execution_count": null,
   "metadata": {},
   "outputs": [],
   "source": [
    "# Cowlitz http://apps.co.cowlitz.wa.us/CCCD/Custody/default/Index.html"
   ]
  },
  {
   "cell_type": "markdown",
   "metadata": {},
   "source": [
    "### Franklin"
   ]
  },
  {
   "cell_type": "code",
   "execution_count": null,
   "metadata": {},
   "outputs": [],
   "source": [
    "# Franklin http://apps.co.cowlitz.wa.us/CCCD/Custody/default/Index.html\n",
    "# (pdf, no anumber that i saw, would need to be counted somehow)"
   ]
  },
  {
   "cell_type": "markdown",
   "metadata": {},
   "source": [
    "### Kitsap"
   ]
  },
  {
   "cell_type": "code",
   "execution_count": null,
   "metadata": {},
   "outputs": [],
   "source": [
    "# Kitsap https://www.kitsapgov.com/sheriff/Pages/InCustody.aspx"
   ]
  },
  {
   "cell_type": "markdown",
   "metadata": {},
   "source": [
    "### Kittitas"
   ]
  },
  {
   "cell_type": "code",
   "execution_count": null,
   "metadata": {},
   "outputs": [],
   "source": [
    "#  https://www.co.kittitas.wa.us/sheriff/roster.aspx\n",
    "# (irregular, hard to count?)"
   ]
  },
  {
   "cell_type": "markdown",
   "metadata": {},
   "source": [
    "### Lewis"
   ]
  },
  {
   "cell_type": "code",
   "execution_count": null,
   "metadata": {},
   "outputs": [],
   "source": [
    "#  https://jail.lewiscountywa.gov/"
   ]
  },
  {
   "cell_type": "markdown",
   "metadata": {},
   "source": [
    "### Mason"
   ]
  },
  {
   "cell_type": "code",
   "execution_count": null,
   "metadata": {},
   "outputs": [],
   "source": [
    "#  https://so.co.mason.wa.us/documents/incustdy.pdf\n",
    "# pdf, hard?"
   ]
  },
  {
   "cell_type": "markdown",
   "metadata": {},
   "source": [
    "### Pierce"
   ]
  },
  {
   "cell_type": "code",
   "execution_count": null,
   "metadata": {},
   "outputs": [],
   "source": [
    "#  https://linxonline.co.pierce.wa.us/linxweb/Booking/GetJailRoster.cfm\n",
    "# I had to go to it once and get a log in page, then go back, then return, and i could see the roster without logging in"
   ]
  },
  {
   "cell_type": "markdown",
   "metadata": {},
   "source": [
    "### Skagit"
   ]
  },
  {
   "cell_type": "code",
   "execution_count": null,
   "metadata": {},
   "outputs": [],
   "source": [
    "#  https://www.skagitcounty.net/Reporting/JailRoster/\n",
    "# has the total #, easier?"
   ]
  },
  {
   "cell_type": "markdown",
   "metadata": {},
   "source": [
    "### Skamania"
   ]
  },
  {
   "cell_type": "code",
   "execution_count": null,
   "metadata": {},
   "outputs": [],
   "source": [
    "#  (amazing name) http://skamaniasheriff.com/corrections/daily-population/"
   ]
  },
  {
   "cell_type": "markdown",
   "metadata": {},
   "source": [
    "### Whatcom"
   ]
  },
  {
   "cell_type": "code",
   "execution_count": null,
   "metadata": {},
   "outputs": [],
   "source": [
    "#  https://apps1.whatcomcounty.us/jaildata/roster.html\n",
    "# list, no summary #"
   ]
  },
  {
   "cell_type": "markdown",
   "metadata": {},
   "source": [
    "### Yakima"
   ]
  },
  {
   "cell_type": "code",
   "execution_count": null,
   "metadata": {},
   "outputs": [],
   "source": [
    "#  http://www.yakimaco.us/inmatelookup/YcDocPublicIncarcerated.aspx\n",
    "# hard one"
   ]
  },
  {
   "cell_type": "markdown",
   "metadata": {},
   "source": [
    "### Benton"
   ]
  },
  {
   "cell_type": "code",
   "execution_count": null,
   "metadata": {},
   "outputs": [],
   "source": [
    "#  http://apps.co.cowlitz.wa.us/CCCD/Custody/default/Index.html"
   ]
  },
  {
   "cell_type": "markdown",
   "metadata": {},
   "source": [
    "### Klickitat"
   ]
  },
  {
   "cell_type": "code",
   "execution_count": null,
   "metadata": {},
   "outputs": [],
   "source": [
    "#  https://www.klickitatcounty.org/DocumentCenter/View/1416/Booking-Roster-PDF\n",
    "# pdf"
   ]
  },
  {
   "cell_type": "markdown",
   "metadata": {},
   "source": [
    "### Stevens"
   ]
  },
  {
   "cell_type": "code",
   "execution_count": null,
   "metadata": {},
   "outputs": [],
   "source": [
    "#  https://sheriff.stevenscountywa.gov/jail/inmate-roster/\n",
    "# list of pdfs"
   ]
  },
  {
   "cell_type": "markdown",
   "metadata": {},
   "source": [
    "### Wahkiakum"
   ]
  },
  {
   "cell_type": "code",
   "execution_count": null,
   "metadata": {},
   "outputs": [],
   "source": [
    "#  http://jailviewer.co.wahkiakum.wa.us/Home/BookingSearchQuery?\n",
    "# that's a search by name, not roster of all, but adding it just in case you can see the population on the back end!"
   ]
  },
  {
   "cell_type": "markdown",
   "metadata": {},
   "source": [
    "### Pacific"
   ]
  },
  {
   "cell_type": "code",
   "execution_count": null,
   "metadata": {},
   "outputs": [],
   "source": [
    "#  https://co.pacific.wa.us/sheriff/corrections/"
   ]
  },
  {
   "cell_type": "markdown",
   "metadata": {},
   "source": [
    "### Thurston"
   ]
  },
  {
   "cell_type": "code",
   "execution_count": null,
   "metadata": {},
   "outputs": [],
   "source": [
    "#  https://www.co.thurston.wa.us/sheriff/bureau-corrections-roster-search.asp?mod=fourth"
   ]
  },
  {
   "cell_type": "code",
   "execution_count": null,
   "metadata": {},
   "outputs": [],
   "source": [
    "# WA Counties with No Website List\n",
    "# Douglas\n",
    "# Garfield\n",
    "# Pend Oreille\n",
    "# San Juan\n",
    "# Asotin"
   ]
  },
  {
   "cell_type": "markdown",
   "metadata": {},
   "source": [
    "# Export csv"
   ]
  },
  {
   "cell_type": "code",
   "execution_count": null,
   "metadata": {},
   "outputs": [],
   "source": [
    "country_jail_df = pd.read_sql(\"SELECT DISTINCT * FROM county_jails\", con=mydb)\n",
    "country_jail_df.head()"
   ]
  },
  {
   "cell_type": "code",
   "execution_count": null,
   "metadata": {},
   "outputs": [],
   "source": [
    "country_jail_df.to_csv('County_Jail.csv')"
   ]
  },
  {
   "cell_type": "code",
   "execution_count": null,
   "metadata": {},
   "outputs": [],
   "source": [
    "country_jail_df.shape"
   ]
  },
  {
   "cell_type": "code",
   "execution_count": null,
   "metadata": {},
   "outputs": [],
   "source": []
  },
  {
   "cell_type": "code",
   "execution_count": null,
   "metadata": {},
   "outputs": [],
   "source": []
  },
  {
   "cell_type": "code",
   "execution_count": null,
   "metadata": {},
   "outputs": [],
   "source": []
  },
  {
   "cell_type": "code",
   "execution_count": null,
   "metadata": {},
   "outputs": [],
   "source": []
  }
 ],
 "metadata": {
  "kernelspec": {
   "display_name": "Python 3",
   "language": "python",
   "name": "python3"
  },
  "language_info": {
   "codemirror_mode": {
    "name": "ipython",
    "version": 3
   },
   "file_extension": ".py",
   "mimetype": "text/x-python",
   "name": "python",
   "nbconvert_exporter": "python",
   "pygments_lexer": "ipython3",
   "version": "3.7.7"
  },
  "toc": {
   "base_numbering": 1,
   "nav_menu": {},
   "number_sections": true,
   "sideBar": true,
   "skip_h1_title": false,
   "title_cell": "Table of Contents",
   "title_sidebar": "Contents",
   "toc_cell": false,
   "toc_position": {
    "height": "534px",
    "left": "38px",
    "top": "234px",
    "width": "240.797px"
   },
   "toc_section_display": true,
   "toc_window_display": true
  }
 },
 "nbformat": 4,
 "nbformat_minor": 4
}
