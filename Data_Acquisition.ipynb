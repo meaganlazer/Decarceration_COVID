{
 "cells": [
  {
   "cell_type": "markdown",
   "metadata": {},
   "source": [
    "# Introduction"
   ]
  },
  {
   "cell_type": "markdown",
   "metadata": {},
   "source": [
    "**Incarceration & COVID-19: How Jails Respond to COVID**<br>\n",
    "\n",
    "This project scrapes daily jail roster information to create a large dataset. This dataset is designed to analyze how jail populations have fluctuated in response to COVID-19. Research centers on explaining why county jails in different parts of the United States have responded differently to the pandemic over time. \n",
    "\n",
    "A separate but related idea for this dataset analyzes the impact of pandemic-related jail population declines on local crime. This project uses daily jail roster population counts as the focal variable and the analysis uses group-based trajectory modeling. Our scraped data will address gaps in the [Vera](https://github.com/vera-institute/jail-population-data) dataset.\n",
    "\n",
    "We start by comparing Washington and New York states because they dealt with COVID-19 at the early on-set of the pandemic. Below is a list of the data points to collect to harmonize with the Vera data.\n",
    "- County Name\n",
    "- State Name\n",
    "- Daily Population Counts\n",
    "- Reporting Jail Name"
   ]
  },
  {
   "cell_type": "markdown",
   "metadata": {},
   "source": [
    "# Imports"
   ]
  },
  {
   "cell_type": "code",
   "execution_count": 1,
   "metadata": {},
   "outputs": [],
   "source": [
    "# Import standard libraries\n",
    "import numpy as np\n",
    "import pandas as pd\n",
    "import matplotlib.pyplot as plt\n",
    "import seaborn as sns\n",
    "%matplotlib inline\n",
    "\n",
    "# API libraries\n",
    "import re\n",
    "import os\n",
    "from os import system  \n",
    "import time\n",
    "from time import sleep\n",
    "import json\n",
    "import random\n",
    "import requests\n",
    "# from math import floor\n",
    "# from copy import deepcopy\n",
    "\n",
    "# Selenium\n",
    "from selenium import webdriver\n",
    "from selenium.webdriver.common.by import By\n",
    "from selenium.webdriver.common.keys import Keys\n",
    "from selenium.common.exceptions import TimeoutException\n",
    "from selenium.webdriver.support.ui import WebDriverWait\n",
    "from selenium.webdriver.support import expected_conditions as EC\n",
    "\n",
    "#SQL\n",
    "import sqlite3\n",
    "import mysql.connector"
   ]
  },
  {
   "cell_type": "markdown",
   "metadata": {},
   "source": [
    "# MySQL"
   ]
  },
  {
   "cell_type": "code",
   "execution_count": 2,
   "metadata": {},
   "outputs": [
    {
     "name": "stdout",
     "output_type": "stream",
     "text": [
      "<mysql.connector.connection.MySQLConnection object at 0x7ff954575e10>\n"
     ]
    }
   ],
   "source": [
    "# FIGURE OUT PASSWORD STUFF\n",
    "\n",
    "mydb = mysql.connector.connect(host='localhost',\\\n",
    "                              user='root',\n",
    "                              passwd='',\n",
    "                              database='testdb')\n",
    "print(mydb)"
   ]
  },
  {
   "cell_type": "code",
   "execution_count": 3,
   "metadata": {},
   "outputs": [],
   "source": [
    "# Created a db\n",
    "\n",
    "mycursor = mydb.cursor()\n",
    "# mycursor.execute(\"CREATE DATABASE testdb\")"
   ]
  },
  {
   "cell_type": "code",
   "execution_count": 4,
   "metadata": {},
   "outputs": [
    {
     "name": "stdout",
     "output_type": "stream",
     "text": [
      "('information_schema',)\n",
      "('mysql',)\n",
      "('performance_schema',)\n",
      "('sys',)\n",
      "('testdb',)\n"
     ]
    }
   ],
   "source": [
    "mycursor.execute(\"SHOW DATABASES\")\n",
    "\n",
    "for db in mycursor:\n",
    "    print(db)"
   ]
  },
  {
   "cell_type": "code",
   "execution_count": 6,
   "metadata": {},
   "outputs": [],
   "source": [
    "#Created a table\n",
    "\n",
    "# mycursor.execute(\"CREATE TABLE jails\\\n",
    "#                  (reporting_jurisdictions VARCHAR(100),\\\n",
    "#                  county_name VARCHAR(100),\\\n",
    "#                  state_name VARCHAR(100),\\\n",
    "#                  Date VARCHAR(100),\\\n",
    "#                  jail_population INTEGER(255))\")"
   ]
  },
  {
   "cell_type": "code",
   "execution_count": 7,
   "metadata": {},
   "outputs": [
    {
     "name": "stdout",
     "output_type": "stream",
     "text": [
      "('jails',)\n"
     ]
    }
   ],
   "source": [
    "mycursor.execute(\"SHOW TABLES\")\n",
    "\n",
    "for tb in mycursor:\n",
    "    print(tb)"
   ]
  },
  {
   "cell_type": "code",
   "execution_count": 11,
   "metadata": {},
   "outputs": [],
   "source": [
    "sqlFormula = \"INSERT INTO jails (Date, reporting_jurisdictions, county_name, \\\n",
    "state_name, jail_population) VALUES (%s, %s, %s, %s, %s)\""
   ]
  },
  {
   "cell_type": "code",
   "execution_count": 12,
   "metadata": {},
   "outputs": [],
   "source": [
    "jail1 = ('today', 'Spokane County Jail', 'Spokane County', 'WA', 22)"
   ]
  },
  {
   "cell_type": "code",
   "execution_count": 13,
   "metadata": {},
   "outputs": [],
   "source": [
    "mycursor.execute(sqlFormula, jail1)\n",
    "\n",
    "mydb.commit()"
   ]
  },
  {
   "cell_type": "markdown",
   "metadata": {},
   "source": [
    "# States"
   ]
  },
  {
   "cell_type": "markdown",
   "metadata": {},
   "source": [
    "Be sure to check for APIs in addition to scraping. Will include NY, WA and FL."
   ]
  },
  {
   "cell_type": "markdown",
   "metadata": {},
   "source": [
    "## Washington"
   ]
  },
  {
   "cell_type": "markdown",
   "metadata": {},
   "source": [
    "### Whitman"
   ]
  },
  {
   "cell_type": "code",
   "execution_count": null,
   "metadata": {},
   "outputs": [],
   "source": [
    "url = \"http://www.whitmancountyjail.org/\"\n",
    "driver = webdriver.Chrome('/Users/meaganrossi/Projects/Incarceration_COVID/chromedriver')\n",
    "driver.implicitly_wait(3)\n",
    "driver.get(url)"
   ]
  },
  {
   "cell_type": "code",
   "execution_count": null,
   "metadata": {},
   "outputs": [],
   "source": [
    "listy = driver.find_elements_by_css_selector('h4')\n",
    "\n",
    "#view full list\n",
    "# for x in listy[:50]:\n",
    "#     if len(x.text) > 0:\n",
    "#         print(x.text)"
   ]
  },
  {
   "cell_type": "code",
   "execution_count": null,
   "metadata": {},
   "outputs": [],
   "source": [
    "location = driver.find_element_by_xpath('//*[@id=\"form1\"]/footer').text\n",
    "location"
   ]
  },
  {
   "cell_type": "code",
   "execution_count": null,
   "metadata": {},
   "outputs": [],
   "source": [
    "from datetime import datetime # Current date time in local system )"
   ]
  },
  {
   "cell_type": "code",
   "execution_count": null,
   "metadata": {},
   "outputs": [],
   "source": [
    "JWhitman = (location[:19])\n",
    "CWhitman = (location[:7])\n",
    "SWhitman = (location[47:49])\n",
    "DWhitman = datetime.now().strftime('%Y-%m-%d')\n",
    "PWhitman = (len(listy))-10\n",
    "\n",
    "print('reporting_jurisdictions = ',JWhitman)\n",
    "print('county_name = ',CWhitman)\n",
    "print('state_name = ',SWhitman)\n",
    "print('Date = ',DWhitman)\n",
    "print('jail_population = ',PWhitman)"
   ]
  },
  {
   "cell_type": "code",
   "execution_count": null,
   "metadata": {},
   "outputs": [],
   "source": [
    "driver.close()"
   ]
  },
  {
   "cell_type": "markdown",
   "metadata": {},
   "source": [
    "### Spokane"
   ]
  },
  {
   "cell_type": "markdown",
   "metadata": {},
   "source": [
    "#### Selenium"
   ]
  },
  {
   "cell_type": "code",
   "execution_count": null,
   "metadata": {},
   "outputs": [],
   "source": [
    "# url = \"https://www.spokanecounty.org/352/Inmate-Roster'\"\n",
    "# driver = webdriver.Chrome('/Users/meaganrossi/Projects/Incarceration_COVID/chromedriver')\n",
    "# driver.implicitly_wait(3)\n",
    "# driver.get(url)\n",
    "\n",
    "# print(driver.page_source)"
   ]
  },
  {
   "cell_type": "code",
   "execution_count": null,
   "metadata": {
    "scrolled": true
   },
   "outputs": [],
   "source": [
    "# Outter html <h1 style=\"margin-top:0px;\">Saturday, June 6, 2020</h1>\n",
    "\n",
    "# date = driver.find_elements_by_xpath('//*[@id=\"aspnetForm\"]/div[3]/h1')\n",
    "# len(date)"
   ]
  },
  {
   "cell_type": "code",
   "execution_count": null,
   "metadata": {},
   "outputs": [],
   "source": [
    "driver.close()"
   ]
  },
  {
   "cell_type": "markdown",
   "metadata": {},
   "source": [
    "### Okanogan"
   ]
  },
  {
   "cell_type": "markdown",
   "metadata": {},
   "source": [
    "Details can be found in the Daily Jail Inmate Log on [Okanogan Sherriff Website](https://okanogansheriff.org/)."
   ]
  },
  {
   "cell_type": "code",
   "execution_count": null,
   "metadata": {},
   "outputs": [],
   "source": [
    "url = \"https://okanogansheriff.org/\"\n",
    "driver = webdriver.Chrome('/Users/meaganrossi/Projects/Incarceration_COVID/chromedriver')\n",
    "driver.implicitly_wait(3)\n",
    "driver.get(url)\n",
    "\n",
    "# print(driver.page_source)"
   ]
  },
  {
   "cell_type": "code",
   "execution_count": null,
   "metadata": {},
   "outputs": [],
   "source": [
    "# Need to read from a pdf name=CD6F9816E7949144F43AB92B6CCADAA8\n",
    "\n",
    "# location = driver.find_element_by_xpath('/html/body/embed').text\n",
    "# location"
   ]
  },
  {
   "cell_type": "code",
   "execution_count": null,
   "metadata": {},
   "outputs": [],
   "source": []
  },
  {
   "cell_type": "code",
   "execution_count": null,
   "metadata": {},
   "outputs": [],
   "source": []
  },
  {
   "cell_type": "code",
   "execution_count": null,
   "metadata": {},
   "outputs": [],
   "source": []
  },
  {
   "cell_type": "code",
   "execution_count": null,
   "metadata": {},
   "outputs": [],
   "source": []
  },
  {
   "cell_type": "code",
   "execution_count": null,
   "metadata": {},
   "outputs": [],
   "source": [
    "# print('reporting_jurisdictions = ',JWhitman)\n",
    "# print('county_name = ',CWhitman)\n",
    "# print('state_name = ',SWhitman)\n",
    "# print('Date = ',DWhitman)\n",
    "# print('jail_population = ',PWhitman)"
   ]
  },
  {
   "cell_type": "code",
   "execution_count": null,
   "metadata": {},
   "outputs": [],
   "source": [
    "driver.close()"
   ]
  },
  {
   "cell_type": "markdown",
   "metadata": {},
   "source": [
    "### Jefferson"
   ]
  },
  {
   "cell_type": "markdown",
   "metadata": {},
   "source": [
    "[Jefferson](https://co.jefferson.wa.us/174/Jail-Inmate-Search)<br> To view the full inmate roster click the Clear button then the Search button."
   ]
  },
  {
   "cell_type": "code",
   "execution_count": null,
   "metadata": {},
   "outputs": [],
   "source": [
    "url = \"https://co.jefferson.wa.us/174/Jail-Inmate-Search\"\n",
    "driver = webdriver.Chrome('/Users/meaganrossi/Projects/Incarceration_COVID/chromedriver')\n",
    "driver.implicitly_wait(3)\n",
    "driver.get(url)\n",
    "\n",
    "# print(driver.page_source)"
   ]
  },
  {
   "cell_type": "code",
   "execution_count": null,
   "metadata": {},
   "outputs": [],
   "source": [
    "#Hidden input type\n",
    "\n",
    "# inmate = driver.find_element_by_xpath('//*[@id=\"Inmate_Index\"]').text\n",
    "# inmate\n",
    "\n",
    "inmate = driver.find_elements_by_name('Name')\n",
    "print(len(inmate))"
   ]
  },
  {
   "cell_type": "code",
   "execution_count": null,
   "metadata": {},
   "outputs": [],
   "source": [
    "# print('reporting_jurisdictions = ',JWhitman)\n",
    "# print('county_name = ',CWhitman)\n",
    "# print('state_name = ',SWhitman)\n",
    "# print('Date = ',DWhitman)\n",
    "# print('jail_population = ',PWhitman)\n",
    "\n",
    "driver.close()"
   ]
  },
  {
   "cell_type": "markdown",
   "metadata": {},
   "source": [
    "### Grant"
   ]
  },
  {
   "cell_type": "markdown",
   "metadata": {},
   "source": [
    "[Grant](ttps://www.grantcountywa.gov/SHERIFF/Corrections/Inmate-Roster.htm), daily pdf"
   ]
  },
  {
   "cell_type": "code",
   "execution_count": null,
   "metadata": {},
   "outputs": [],
   "source": [
    "url = \"https://www.grantcountywa.gov/SHERIFF/Corrections/Inmate-Roster.htm\"\n",
    "driver = webdriver.Chrome('/Users/meaganlazer/Projects/Incarceration_COVID/chromedriver')\n",
    "driver.implicitly_wait(3)\n",
    "driver.get(url)\n",
    "\n",
    "print(driver.page_source)"
   ]
  },
  {
   "cell_type": "code",
   "execution_count": null,
   "metadata": {},
   "outputs": [],
   "source": [
    "# print('reporting_jurisdictions = ',JWhitman)\n",
    "# print('county_name = ',CWhitman)\n",
    "# print('state_name = ',SWhitman)\n",
    "# print('Date = ',DWhitman)\n",
    "# print('jail_population = ',PWhitman)\n",
    "\n",
    "driver.close()"
   ]
  },
  {
   "cell_type": "markdown",
   "metadata": {},
   "source": [
    "### Gray's Harbor"
   ]
  },
  {
   "cell_type": "markdown",
   "metadata": {},
   "source": [
    "[Gray's Harbor]('http://ghlea.com/JailRosters/GHCJRoster.html')"
   ]
  },
  {
   "cell_type": "code",
   "execution_count": null,
   "metadata": {},
   "outputs": [],
   "source": [
    "url = \"http://ghlea.com/JailRosters/GHCJRoster.html\"\n",
    "driver = webdriver.Chrome('/Users/meaganrossi/Projects/Incarceration_COVID/chromedriver')\n",
    "driver.implicitly_wait(3)\n",
    "driver.get(url)\n",
    "\n",
    "# print(driver.page_source)"
   ]
  },
  {
   "cell_type": "code",
   "execution_count": null,
   "metadata": {},
   "outputs": [],
   "source": [
    "inmate = driver.find_elements_by_xpath('//*[@id=\"main-table\"]/tbody/tr')\n",
    "print(len(inmate))"
   ]
  },
  {
   "cell_type": "code",
   "execution_count": null,
   "metadata": {},
   "outputs": [],
   "source": []
  },
  {
   "cell_type": "code",
   "execution_count": null,
   "metadata": {},
   "outputs": [],
   "source": []
  },
  {
   "cell_type": "code",
   "execution_count": null,
   "metadata": {},
   "outputs": [],
   "source": [
    "# print('reporting_jurisdictions = ',JWhitman)\n",
    "# print('county_name = ',CWhitman)\n",
    "# print('state_name = ',SWhitman)\n",
    "# print('Date = ',DWhitman)\n",
    "# print('jail_population = ',PWhitman)\n",
    "\n",
    "driver.close()"
   ]
  },
  {
   "cell_type": "markdown",
   "metadata": {},
   "source": [
    "### Ferry"
   ]
  },
  {
   "cell_type": "markdown",
   "metadata": {},
   "source": [
    "[Ferry](https://www.ferry-county.com/Courts%20and%20Law/Inmate%20Roster/Inmate_Roster_Page.html): in the section that says \"MAY 11, 2020 - 8 inmates\")"
   ]
  },
  {
   "cell_type": "code",
   "execution_count": null,
   "metadata": {},
   "outputs": [],
   "source": [
    "url = \"https://www.ferry-county.com/Courts%20and%20Law/Inmate%20Roster/Inmate_Roster_Page.html\"\n",
    "driver = webdriver.Chrome('/Users/meaganrossi/Projects/Incarceration_COVID/chromedriver')\n",
    "driver.implicitly_wait(3)\n",
    "driver.get(url)\n",
    "\n",
    "# print(driver.page_source)"
   ]
  },
  {
   "cell_type": "code",
   "execution_count": null,
   "metadata": {},
   "outputs": [],
   "source": [
    "Finmate = driver.find_element_by_xpath('//*[@id=\"mainContent3\"]/p[9]').text\n",
    "Finmate[16]"
   ]
  },
  {
   "cell_type": "code",
   "execution_count": null,
   "metadata": {},
   "outputs": [],
   "source": [
    "# print('reporting_jurisdictions = ',JWhitman)\n",
    "# print('county_name = ',CWhitman)\n",
    "# print('state_name = ',SWhitman)\n",
    "# print('Date = ',DWhitman)\n",
    "# print('jail_population = ',PWhitman)\n",
    "\n",
    "driver.close()"
   ]
  },
  {
   "cell_type": "markdown",
   "metadata": {},
   "source": [
    "### Clallam"
   ]
  },
  {
   "cell_type": "markdown",
   "metadata": {},
   "source": [
    "[Clallam](https://websrv23.clallam.net/NewWorld.InmateInquiry/WA0050000/)"
   ]
  },
  {
   "cell_type": "code",
   "execution_count": 14,
   "metadata": {},
   "outputs": [],
   "source": [
    "url = \"https://websrv23.clallam.net/NewWorld.InmateInquiry/WA0050000/\"\n",
    "driver = webdriver.Chrome('/Users/meaganrossi/Projects/Incarceration_COVID/chromedriver') \n",
    "driver.implicitly_wait(3)\n",
    "driver.get(url)\n",
    "\n",
    "# print(driver.page_source)"
   ]
  },
  {
   "cell_type": "code",
   "execution_count": 22,
   "metadata": {},
   "outputs": [
    {
     "name": "stdout",
     "output_type": "stream",
     "text": [
      "77\n"
     ]
    }
   ],
   "source": [
    "Clallam_inmate = driver.find_elements_by_class_name('Name')\n",
    "print(len(Clallam_inmate))"
   ]
  },
  {
   "cell_type": "code",
   "execution_count": 23,
   "metadata": {},
   "outputs": [],
   "source": [
    "# print('reporting_jurisdictions = ',JWhitman)\n",
    "# print('county_name = ',CWhitman)\n",
    "# print('state_name = ',SWhitman)\n",
    "# print('Date = ',DWhitman)\n",
    "# print('jail_population = ',PWhitman)\n",
    "\n",
    "driver.close()"
   ]
  },
  {
   "cell_type": "markdown",
   "metadata": {},
   "source": [
    "### Adams"
   ]
  },
  {
   "cell_type": "markdown",
   "metadata": {},
   "source": [
    "[View](https://www.co.adams.wa.us/government/jail_roster_and_booking_information/index.php) Jail Roster Information"
   ]
  },
  {
   "cell_type": "code",
   "execution_count": 26,
   "metadata": {},
   "outputs": [
    {
     "name": "stdout",
     "output_type": "stream",
     "text": [
      "<html><head></head><body><pre style=\"word-wrap: break-word; white-space: pre-wrap;\">06/09/20                 ADAMS COUNTY SHERIFF'S OFFICE                         0\n",
      "06:00               Jail Register - Arrivals Still Confined          Page:     1\n",
      "\n",
      "\n",
      "\n",
      "ALVAREZ, CODY JAMES            Arrived: 00:00:00 02/01/20     Booking: 40243\n",
      "\n",
      "        Offense                         Offense Begin Date\n",
      "        -----------------------------   ------------------\n",
      "        DWLS 3RD DEGREE                 00:00:00 02/01/20\n",
      "\n",
      "\n",
      "MALDONADO, ALEJANDRO           Arrived: 23:00:00 02/27/20     Booking: 40327\n",
      "\n",
      "        Offense                         Offense Begin Date\n",
      "        -----------------------------   ------------------\n",
      "        RAPE 1ST                        15:00:00 03/03/20\n",
      "\n",
      "\n",
      "SILBA-BAUTISTA, RAFAEL         Arrived: 18:00:00 02/28/20     Booking: 40330\n",
      "\n",
      "        Offense                         Offense Begin Date\n",
      "        -----------------------------   ------------------\n",
      "        ADAMS COUNTY WARRANT            16:00:00 02/28/20\n",
      "\n",
      "\n",
      "LINO-MIRELES, ARISTEO          Arrived: 23:00:00 03/05/20     Booking: 40342\n",
      "\n",
      "        Offense                         Offense Begin Date\n",
      "        -----------------------------   ------------------\n",
      "        RAPE 3RD                        23:00:00 03/05/20\n",
      "\n",
      "\n",
      "SIERRA-CARRIERO, JOSE          Arrived: 16:00:00 03/28/20     Booking: 40408\n",
      "\n",
      "        Offense                         Offense Begin Date\n",
      "        -----------------------------   ------------------\n",
      "        POSS DRUG PARAPERNALIA          16:00:00 03/28/20\n",
      "\n",
      "\n",
      "MARTINEZ, MARILOU OZUNA        Arrived: 15:00:00 04/20/20     Booking: 40448\n",
      "\n",
      "        Offense                         Offense Begin Date\n",
      "        -----------------------------   ------------------\n",
      "        UNLAWFUL POSSESS OF CONTR SUB   15:00:00 04/20/20\n",
      "\n",
      "\n",
      "MIRON, VICENTE  JR             Arrived: 11:00:00 04/24/20     Booking: 40451\n",
      "\n",
      "        Offense                         Offense Begin Date\n",
      "        -----------------------------   ------------------\n",
      "        ASSAULT 4TH DEGREE              11:00:00 04/24/20\n",
      "\n",
      "\n",
      "MORFIN, ADAM                   Arrived: 13:00:00 04/24/20     Booking: 40452\n",
      "\n",
      "        Offense                         Offense Begin Date\n",
      "        -----------------------------   ------------------\n",
      "        BURGLARY RESIDENTIAL            13:00:00 04/24/20\n",
      "\f",
      "06/09/20                 ADAMS COUNTY SHERIFF'S OFFICE                         0\n",
      "06:00               Jail Register - Arrivals Still Confined          Page:     2\n",
      "\n",
      "\n",
      "\n",
      "CANTU, TONY ORLANDO            Arrived: 02:00:00 05/01/20     Booking: 40466\n",
      "\n",
      "        Offense                         Offense Begin Date\n",
      "        -----------------------------   ------------------\n",
      "        UNLAW POSS FIREARM              02:00:00 05/01/20\n",
      "\n",
      "\n",
      "GARZA, JAIME ALBERTO           Arrived: 19:00:00 05/10/20     Booking: 40496\n",
      "\n",
      "        Offense                         Offense Begin Date\n",
      "        -----------------------------   ------------------\n",
      "        ADAMS COUNTY WARRANT            19:00:00 05/10/20\n",
      "\n",
      "\n",
      "RAMOS, ELIAZAR JUNIOR          Arrived: 23:00:00 05/19/20     Booking: 40514\n",
      "\n",
      "        Offense                         Offense Begin Date\n",
      "        -----------------------------   ------------------\n",
      "        FELONY HARRASSMENT              23:00:00 05/19/20\n",
      "\n",
      "\n",
      "SANCHEZ, FELIPE MARTINEZ JR    Arrived: 23:00:00 05/19/20     Booking: 40515\n",
      "\n",
      "        Offense                         Offense Begin Date\n",
      "        -----------------------------   ------------------\n",
      "        DOC SEC WARRANT                 23:00:00 05/20/20\n",
      "\n",
      "\n",
      "MONTOYA, FERNANDO  JR          Arrived: 13:00:00 05/21/20     Booking: 40518\n",
      "\n",
      "        Offense                         Offense Begin Date\n",
      "        -----------------------------   ------------------\n",
      "        ADAMS COUNTY WARRANT            13:00:00 05/21/20\n",
      "\n",
      "\n",
      "HERNANDEZ-HERNANDEZ, JOEL      Arrived: 04:00:00 05/29/20     Booking: 40544\n",
      "\n",
      "        Offense                         Offense Begin Date\n",
      "        -----------------------------   ------------------\n",
      "        RAPE 2ND                        04:00:00 05/29/20\n",
      "\n",
      "\n",
      "LOMELI-GOMEZ, SERVANDO         Arrived: 20:00:00 05/30/20     Booking: 40550\n",
      "\n",
      "        Offense                         Offense Begin Date\n",
      "        -----------------------------   ------------------\n",
      "        VIOLATION CONTACT ORDER         20:00:00 05/30/20\n",
      "\n",
      "\n",
      "LOPEZ-JAVIEL, ALLAN ALBERTO    Arrived: 22:00:00 05/30/20     Booking: 40551\n",
      "\n",
      "        Offense                         Offense Begin Date\n",
      "        -----------------------------   ------------------\n",
      "        CHILD MOLESTATION  2ND DEG      22:00:00 05/30/20\n",
      "\f",
      "06/09/20                 ADAMS COUNTY SHERIFF'S OFFICE                         0\n",
      "06:00               Jail Register - Arrivals Still Confined          Page:     3\n",
      "\n",
      "\n",
      "\n",
      "HERNANDEZ-PEREZ, PEDRO         Arrived: 00:00:00 06/01/20     Booking: 40554\n",
      "\n",
      "        Offense                         Offense Begin Date\n",
      "        -----------------------------   ------------------\n",
      "        ADAMS COUNTY WARRANT            00:00:00 06/01/20\n",
      "\n",
      "\n",
      "URIBE, JOSE ABRAHAM MEZA       Arrived: 00:00:00 06/03/20     Booking: 40559\n",
      "\n",
      "        Offense                         Offense Begin Date\n",
      "        -----------------------------   ------------------\n",
      "        RAPE 1ST                        00:00:00 06/03/20\n",
      "\n",
      "\n",
      "HERNANDEZ, JASMINE ELIZABETH   Arrived: 07:00:00 06/07/20     Booking: 40571\n",
      "\n",
      "        Offense                         Offense Begin Date\n",
      "        -----------------------------   ------------------\n",
      "        ADAMS COUNTY WARRANT            07:00:00 06/07/20\n",
      "\n",
      "\n",
      "CHAVEZ, ALFRED LAWRENCE        Arrived: 17:00:00 06/07/20     Booking: 40572\n",
      "\n",
      "        Offense                         Offense Begin Date\n",
      "        -----------------------------   ------------------\n",
      "        DOC SEC WARRANT                 17:00:00 06/07/20\n",
      "\n",
      "--------------------------------------------------------------------------------\n",
      "Report Includes:\n",
      "All booking numbers\n",
      "All arrival dates less than `43990.9999884259`\n",
      "All locations\n",
      "All institutional classes\n",
      "All security classes\n",
      "All judicial statuses\n",
      "All billing agencies\n",
      "All offenses\n",
      "All races\n",
      "All release dates matching `  :  :     /  /  `\n",
      "All current bookings not matching ``\n",
      "--------------------------------------------------------------------------------\n",
      "                  *** End of Report \\SpillmanServer\\app\\force\\custom\\cronreports\n",
      "</pre></body></html>\n"
     ]
    }
   ],
   "source": [
    "url = \"https://www.co.adams.wa.us/jailrosterout.txt\"\n",
    "driver = webdriver.Chrome('/Users/meaganrossi/Projects/Incarceration_COVID/chromedriver')\n",
    "driver.implicitly_wait(3)\n",
    "driver.get(url)\n",
    "\n",
    "print(driver.page_source)"
   ]
  },
  {
   "cell_type": "code",
   "execution_count": null,
   "metadata": {},
   "outputs": [],
   "source": []
  },
  {
   "cell_type": "code",
   "execution_count": null,
   "metadata": {},
   "outputs": [],
   "source": [
    "# print('reporting_jurisdictions = ',JWhitman)\n",
    "# print('county_name = ',CWhitman)\n",
    "# print('state_name = ',SWhitman)\n",
    "# print('Date = ',DWhitman)\n",
    "# print('jail_population = ',PWhitman)\n",
    "\n",
    "driver.close()"
   ]
  }
 ],
 "metadata": {
  "kernelspec": {
   "display_name": "Python 3",
   "language": "python",
   "name": "python3"
  },
  "language_info": {
   "codemirror_mode": {
    "name": "ipython",
    "version": 3
   },
   "file_extension": ".py",
   "mimetype": "text/x-python",
   "name": "python",
   "nbconvert_exporter": "python",
   "pygments_lexer": "ipython3",
   "version": "3.7.7"
  },
  "toc": {
   "base_numbering": 1,
   "nav_menu": {},
   "number_sections": true,
   "sideBar": true,
   "skip_h1_title": false,
   "title_cell": "Table of Contents",
   "title_sidebar": "Contents",
   "toc_cell": false,
   "toc_position": {
    "height": "534px",
    "left": "38px",
    "top": "234px",
    "width": "240.797px"
   },
   "toc_section_display": true,
   "toc_window_display": false
  }
 },
 "nbformat": 4,
 "nbformat_minor": 4
}
