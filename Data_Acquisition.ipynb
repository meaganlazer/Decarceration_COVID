{
 "cells": [
  {
   "cell_type": "markdown",
   "metadata": {},
   "source": [
    "# Introduction"
   ]
  },
  {
   "cell_type": "markdown",
   "metadata": {},
   "source": [
    "**Incarceration & COVID-19: How Jails Respond to COVID**<br>\n",
    "\n",
    "This project scrapes daily jail roster information to create a large dataset. This dataset is designed to analyze how jail populations have fluctuated in response to COVID-19. Research centers on explaining why county jails in different parts of the United States have responded differently to the pandemic over time. \n",
    "\n",
    "A separate but related idea for this dataset analyzes the impact of pandemic-related jail population declines on local crime. This project uses daily jail roster population counts as the focal variable and the analysis uses group-based trajectory modeling. Our scraped data will address gaps in the [Vera](https://github.com/vera-institute/jail-population-data) dataset.\n",
    "\n",
    "We start by comparing Washington and New York states because they dealt with COVID-19 at the early on-set of the pandemic. Below is a list of the data points to collect to harmonize with the Vera data.\n",
    "- County Name\n",
    "- State Name\n",
    "- Daily Population Counts\n",
    "- Reporting Jail Name"
   ]
  },
  {
   "cell_type": "markdown",
   "metadata": {},
   "source": [
    "# Imports"
   ]
  },
  {
   "cell_type": "code",
   "execution_count": 1,
   "metadata": {},
   "outputs": [],
   "source": [
    "# Import standard libraries\n",
    "import numpy as np\n",
    "import pandas as pd\n",
    "import matplotlib.pyplot as plt\n",
    "import seaborn as sns\n",
    "%matplotlib inline\n",
    "\n",
    "# API libraries\n",
    "import re\n",
    "import os\n",
    "import time\n",
    "import random\n",
    "import requests\n",
    "from os import system   \n",
    "from math import floor\n",
    "from copy import deepcopy\n",
    "\n",
    "# Scraping libraries\n",
    "from bs4 import BeautifulSoup\n",
    "from time import sleep\n",
    "from random import randint\n",
    "import json\n",
    "# Selenium\n",
    "from selenium import webdriver\n",
    "from selenium.webdriver.common.by import By\n",
    "from selenium.webdriver.common.keys import Keys\n",
    "from selenium.common.exceptions import TimeoutException\n",
    "from selenium.webdriver.support.ui import WebDriverWait\n",
    "from selenium.webdriver.support import expected_conditions as EC\n",
    "\n",
    "from scrapy_selenium import SeleniumRequest\n",
    "import scrapy\n",
    "\n",
    "import scrapy\n",
    "from scrapy_selenium import SeleniumRequest\n",
    "import sqlite3"
   ]
  },
  {
   "cell_type": "markdown",
   "metadata": {},
   "source": [
    "# States"
   ]
  },
  {
   "cell_type": "markdown",
   "metadata": {},
   "source": [
    "Be sure to check for APIs in addition to scraping. Will include NY, WA and FL."
   ]
  },
  {
   "cell_type": "markdown",
   "metadata": {},
   "source": [
    "## Washington"
   ]
  },
  {
   "cell_type": "markdown",
   "metadata": {},
   "source": [
    "### Whitman"
   ]
  },
  {
   "cell_type": "code",
   "execution_count": 2,
   "metadata": {},
   "outputs": [],
   "source": [
    "url = \"http://www.whitmancountyjail.org/\"\n",
    "driver = webdriver.Chrome('/Users/meaganrossi/Projects/Incarceration_COVID/chromedriver')\n",
    "driver.implicitly_wait(3)\n",
    "driver.get(url)"
   ]
  },
  {
   "cell_type": "code",
   "execution_count": 3,
   "metadata": {},
   "outputs": [
    {
     "name": "stdout",
     "output_type": "stream",
     "text": [
      "COVID-19 Alerts\n",
      "Visiting Closed\n",
      "Work Release Shut-Down\n",
      "ARLAND, ANDREW MICHAEL (34 years old) -- Inmate Number: 1569\n",
      "CAMERON, ZANNAN ANTHONY (24 years old) -- Inmate Number: 465632\n",
      "CARGILL, JOSHUA O'HARA (43 years old) -- Inmate Number: 459693\n",
      "CRUZ BARRERA, JASON REY (22 years old) -- Inmate Number: 417523\n",
      "DICKERSON, PATRICIA LYNN (36 years old) -- Inmate Number: 424584\n",
      "GAUTHIER, JEREMY VICTOR (31 years old) -- Inmate Number: 466484\n",
      "HAYES, PHILLIP ALAN (59 years old) -- Inmate Number: 16806\n",
      "HINOJOS, ALEX JOSEPH DAVID (31 years old) -- Inmate Number: 80192\n",
      "JOHNSON, EVERETT CLARK (65 years old) -- Inmate Number: 19821\n",
      "MARCHINI, TIMOTHY PAUL (61 years old) -- Inmate Number: 458478\n",
      "MARTINEZ GARZA, ZACARIAS (24 years old) -- Inmate Number: 463422\n",
      "MEAD, MARVIN HOWARD (53 years old) -- Inmate Number: 156118\n",
      "NANCE, KYLE BRANDT (23 years old) -- Inmate Number: 271494\n",
      "NANIK, DANIEL DOUGLAS (36 years old) -- Inmate Number: 142629\n",
      "PEARSON, DUSTIN DUANE (33 years old) -- Inmate Number: 133850\n",
      "PEDERSEN, TYLER LEE JAMES (23 years old) -- Inmate Number: 384464\n",
      "RICKER, DONALD LEE (43 years old) -- Inmate Number: 453097\n",
      "ROBBINS, ROBERT LEE (34 years old) -- Inmate Number: 466082\n",
      "ROHRICH, CODY WILLIAM RYAN (28 years old) -- Inmate Number: 57522\n",
      "SAITOTI, HENRY LEKAIPEI (24 years old) -- Inmate Number: 444969\n",
      "SMITH, CHASTITY ANN (42 years old) -- Inmate Number: 466089\n",
      "TOLAN, DARLO DORAN, II (33 years old) -- Inmate Number: 40054\n",
      "TORRES, FRANCISCO JAVIER, JR (23 years old) -- Inmate Number: 448212\n",
      "WAKEFIELD, JOSHUA MICHAEL (28 years old) -- Inmate Number: 374591\n",
      "WEAVER, CLAYTON JAMES (34 years old) -- Inmate Number: 398106\n",
      "WITHERUP, JOSEPH ALAN (41 years old) -- Inmate Number: 433862\n",
      "WOLTERING, NICHOLAS ISAAC (34 years old) -- Inmate Number: 43683\n",
      "VISITING HOURS\n",
      "FUND AN INMATE'S ACCOUNT\n",
      "COMMISSARY\n",
      "TELEPHONES\n",
      "INMATE HANDBOOK/MANUAL\n",
      "WORK RELEASE APPLICATION PACKET\n",
      "PERMISSIBLE POSSESSIONS\n"
     ]
    }
   ],
   "source": [
    "listy = driver.find_elements_by_css_selector('h4')\n",
    "\n",
    "for x in listy[:50]:\n",
    "    if len(x.text) > 0:\n",
    "        print(x.text)"
   ]
  },
  {
   "cell_type": "code",
   "execution_count": 4,
   "metadata": {},
   "outputs": [
    {
     "data": {
      "text/plain": [
       "\"Whitman County Jail, 411 N. Mill Street, Colfax WA 99111.\\nThis Website was created and is maintained by Lobo Public Safety Software.\\nContact: web@lobopublicsafetysoftware.com.\\nThis site is served by Lobo Webhosting.\\n\\nWhitman County Jail - Inmate Listing Website v1.1.5.0524 Copyright © 2020\\nWhitman County Sheriff's Office | Disclaimer\""
      ]
     },
     "execution_count": 4,
     "metadata": {},
     "output_type": "execute_result"
    }
   ],
   "source": [
    "location = driver.find_element_by_xpath('//*[@id=\"form1\"]/footer').text\n",
    "location"
   ]
  },
  {
   "cell_type": "code",
   "execution_count": 5,
   "metadata": {},
   "outputs": [],
   "source": [
    "from datetime import datetime # Current date time in local system )"
   ]
  },
  {
   "cell_type": "code",
   "execution_count": 1,
   "metadata": {},
   "outputs": [
    {
     "ename": "SyntaxError",
     "evalue": "invalid syntax (<ipython-input-1-7a0cfee3d1f6>, line 4)",
     "output_type": "error",
     "traceback": [
      "\u001b[0;36m  File \u001b[0;32m\"<ipython-input-1-7a0cfee3d1f6>\"\u001b[0;36m, line \u001b[0;32m4\u001b[0m\n\u001b[0;31m    DWhitman = datetime.now().strftime(%Y-%m-%d)\u001b[0m\n\u001b[0m                                       ^\u001b[0m\n\u001b[0;31mSyntaxError\u001b[0m\u001b[0;31m:\u001b[0m invalid syntax\n"
     ]
    }
   ],
   "source": [
    "JWhitman = (location[:19])\n",
    "CWhitman = (location[:7])\n",
    "SWhitman = (location[47:49])\n",
    "DWhitman = datetime.now().strftime('%Y-%m-%d')\n",
    "PWhitman = (len(listy))-10\n",
    "\n",
    "print('Jail = ',JWhitman)\n",
    "print('County = ',CWhitman)\n",
    "print('State = ',SWhitman)\n",
    "print('Date = ',DWhitman)\n",
    "print('Population = ',PWhitman)"
   ]
  },
  {
   "cell_type": "markdown",
   "metadata": {},
   "source": [
    "### Spokane"
   ]
  },
  {
   "cell_type": "markdown",
   "metadata": {},
   "source": [
    "#### Selenium"
   ]
  },
  {
   "cell_type": "code",
   "execution_count": 7,
   "metadata": {},
   "outputs": [],
   "source": [
    "# url = \"https://www.spokanecounty.org/352/Inmate-Roster'\"\n",
    "# driver = webdriver.Chrome('/Users/meaganrossi/Projects/Incarceration_COVID/chromedriver')\n",
    "# driver.implicitly_wait(3)\n",
    "# driver.get(url)\n",
    "\n",
    "# print(driver.page_source)"
   ]
  },
  {
   "cell_type": "code",
   "execution_count": 8,
   "metadata": {},
   "outputs": [],
   "source": [
    "\n",
    "# keep this cell, has a long print out but want the code available for future use"
   ]
  },
  {
   "cell_type": "code",
   "execution_count": 9,
   "metadata": {
    "scrolled": true
   },
   "outputs": [],
   "source": [
    "# Outter html <h1 style=\"margin-top:0px;\">Saturday, June 6, 2020</h1>\n",
    "\n",
    "# date = driver.find_elements_by_xpath('//*[@id=\"aspnetForm\"]/div[3]/h1')\n",
    "# len(date)"
   ]
  },
  {
   "cell_type": "code",
   "execution_count": 10,
   "metadata": {},
   "outputs": [],
   "source": [
    "# class PrisonSpider(scrapy.Spider):\n",
    "#     name = 'Prison'\n",
    "\n",
    "# #     def remove_characters(self, value):\n",
    "# #         return value.strip('\\xa0')\n",
    "    \n",
    "#     def start_requests(self):\n",
    "#         yield SeleniumRequest(\n",
    "#             url='https://www.spokanecounty.org/352/Inmate-Roster',\n",
    "#             wait_time=3,\n",
    "#             callback=self.parse\n",
    "#         )\n",
    "\n",
    "#     def parse(self, response):\n",
    "#         products = response.xpath(\"//*\")\n",
    "#         for product in products:\n",
    "#             yield {\n",
    "#                 'Date': product.xpath('//*[@id=\"aspnetForm\"]/div[3]/h1').get(),\n",
    "#                 'County': product.xpath(\"/html/head/title\").get()\\\n",
    "# #                 'State'\n",
    "# #                 'Pop_Count'\n",
    "# #                 'Jail'\n",
    "#             }"
   ]
  },
  {
   "cell_type": "code",
   "execution_count": 11,
   "metadata": {},
   "outputs": [],
   "source": [
    "driver.close()"
   ]
  },
  {
   "cell_type": "markdown",
   "metadata": {},
   "source": [
    "#### HTML"
   ]
  },
  {
   "cell_type": "code",
   "execution_count": null,
   "metadata": {},
   "outputs": [],
   "source": [
    "# # Defining the url of the site\n",
    "# base_site = \"https://www.spokanecounty.org/352/Inmate-Roster\"\n",
    "\n",
    "# # Making a get request\n",
    "# response = requests.get(base_site)\n",
    "# response.status_code"
   ]
  },
  {
   "cell_type": "code",
   "execution_count": null,
   "metadata": {},
   "outputs": [],
   "source": [
    "# # Extracting the HTML\n",
    "# html = response.content\n",
    "\n",
    "# # Checking that the reply is indeed an HTML code by inspecting the first 100 symbols\n",
    "# html[:100]"
   ]
  },
  {
   "cell_type": "code",
   "execution_count": null,
   "metadata": {},
   "outputs": [],
   "source": [
    "# # Convert HTML to a BeautifulSoup object.\n",
    "# soup = BeautifulSoup(html, \"html.parser\")"
   ]
  },
  {
   "cell_type": "code",
   "execution_count": null,
   "metadata": {},
   "outputs": [],
   "source": [
    "# # Exporting the HTML to a file\n",
    "# with open('Spokane_response.html', 'wb') as file:\n",
    "#     file.write(soup.prettify('utf-8'))"
   ]
  },
  {
   "cell_type": "code",
   "execution_count": null,
   "metadata": {},
   "outputs": [],
   "source": [
    "# soup.find_all('title')"
   ]
  },
  {
   "cell_type": "code",
   "execution_count": null,
   "metadata": {},
   "outputs": [],
   "source": [
    "# soup.find_all('div', class_ = 'container')\n",
    "# # soup.find_all('li')"
   ]
  },
  {
   "cell_type": "code",
   "execution_count": null,
   "metadata": {},
   "outputs": [],
   "source": [
    "# mydivs = soup.findAll(\"div\", {\"class\": \"container\"})\n",
    "# print(mydivs)"
   ]
  },
  {
   "cell_type": "markdown",
   "metadata": {},
   "source": [
    "### Okanogan"
   ]
  },
  {
   "cell_type": "markdown",
   "metadata": {},
   "source": [
    "Details can be found in the Daily Jail Inmate Log on [Okanogan Sherriff Website](https://okanogansheriff.org/)."
   ]
  },
  {
   "cell_type": "code",
   "execution_count": 2,
   "metadata": {},
   "outputs": [
    {
     "ename": "NameError",
     "evalue": "name 'webdriver' is not defined",
     "output_type": "error",
     "traceback": [
      "\u001b[0;31m---------------------------------------------------------------------------\u001b[0m",
      "\u001b[0;31mNameError\u001b[0m                                 Traceback (most recent call last)",
      "\u001b[0;32m<ipython-input-2-b44be3aeb3c7>\u001b[0m in \u001b[0;36m<module>\u001b[0;34m\u001b[0m\n\u001b[1;32m      1\u001b[0m \u001b[0murl\u001b[0m \u001b[0;34m=\u001b[0m \u001b[0;34m\"https://okanogansheriff.org/\"\u001b[0m\u001b[0;34m\u001b[0m\u001b[0;34m\u001b[0m\u001b[0m\n\u001b[0;32m----> 2\u001b[0;31m \u001b[0mdriver\u001b[0m \u001b[0;34m=\u001b[0m \u001b[0mwebdriver\u001b[0m\u001b[0;34m.\u001b[0m\u001b[0mChrome\u001b[0m\u001b[0;34m(\u001b[0m\u001b[0;34m'/Users/meaganrossi/Projects/Incarceration_COVID/chromedriver'\u001b[0m\u001b[0;34m)\u001b[0m\u001b[0;34m\u001b[0m\u001b[0;34m\u001b[0m\u001b[0m\n\u001b[0m\u001b[1;32m      3\u001b[0m \u001b[0mdriver\u001b[0m\u001b[0;34m.\u001b[0m\u001b[0mimplicitly_wait\u001b[0m\u001b[0;34m(\u001b[0m\u001b[0;36m3\u001b[0m\u001b[0;34m)\u001b[0m\u001b[0;34m\u001b[0m\u001b[0;34m\u001b[0m\u001b[0m\n\u001b[1;32m      4\u001b[0m \u001b[0mdriver\u001b[0m\u001b[0;34m.\u001b[0m\u001b[0mget\u001b[0m\u001b[0;34m(\u001b[0m\u001b[0murl\u001b[0m\u001b[0;34m)\u001b[0m\u001b[0;34m\u001b[0m\u001b[0;34m\u001b[0m\u001b[0m\n\u001b[1;32m      5\u001b[0m \u001b[0;34m\u001b[0m\u001b[0m\n",
      "\u001b[0;31mNameError\u001b[0m: name 'webdriver' is not defined"
     ]
    }
   ],
   "source": [
    "url = \"https://okanogansheriff.org/\"\n",
    "driver = webdriver.Chrome('/Users/meaganrossi/Projects/Incarceration_COVID/chromedriver')\n",
    "driver.implicitly_wait(3)\n",
    "driver.get(url)\n",
    "\n",
    "print(driver.page_source)"
   ]
  },
  {
   "cell_type": "markdown",
   "metadata": {},
   "source": [
    "### Jefferson"
   ]
  },
  {
   "cell_type": "code",
   "execution_count": null,
   "metadata": {},
   "outputs": [],
   "source": [
    "# https://co.jefferson.wa.us/174/Jail-Inmate-Search\n",
    "# (To view the full inmate roster click the Clear button then the Search button.)"
   ]
  },
  {
   "cell_type": "code",
   "execution_count": null,
   "metadata": {},
   "outputs": [],
   "source": [
    "# url = \"https://www.spokanecounty.org/352/Inmate-Roster'\"\n",
    "# driver = webdriver.Chrome('/Users/meaganrossi/Projects/Incarceration_COVID/chromedriver')\n",
    "# driver.implicitly_wait(3)\n",
    "# driver.get(url)\n",
    "\n",
    "# print(driver.page_source)"
   ]
  },
  {
   "cell_type": "markdown",
   "metadata": {},
   "source": [
    "### Grant"
   ]
  },
  {
   "cell_type": "code",
   "execution_count": null,
   "metadata": {},
   "outputs": [],
   "source": [
    "# https://www.grantcountywa.gov/SHERIFF/Corrections/Inmate-Roster.htm"
   ]
  },
  {
   "cell_type": "code",
   "execution_count": null,
   "metadata": {},
   "outputs": [],
   "source": [
    "# url = \"https://www.spokanecounty.org/352/Inmate-Roster'\"\n",
    "# driver = webdriver.Chrome('/Users/meaganrossi/Projects/Incarceration_COVID/chromedriver')\n",
    "# driver.implicitly_wait(3)\n",
    "# driver.get(url)\n",
    "\n",
    "# print(driver.page_source)"
   ]
  },
  {
   "cell_type": "markdown",
   "metadata": {},
   "source": [
    "### Gray's Harbor"
   ]
  },
  {
   "cell_type": "code",
   "execution_count": null,
   "metadata": {},
   "outputs": [],
   "source": [
    "# http://ghlea.com/JailRosters/GHCJRoster.html"
   ]
  },
  {
   "cell_type": "code",
   "execution_count": null,
   "metadata": {},
   "outputs": [],
   "source": [
    "# url = \"https://www.spokanecounty.org/352/Inmate-Roster'\"\n",
    "# driver = webdriver.Chrome('/Users/meaganrossi/Projects/Incarceration_COVID/chromedriver')\n",
    "# driver.implicitly_wait(3)\n",
    "# driver.get(url)\n",
    "\n",
    "# print(driver.page_source)"
   ]
  },
  {
   "cell_type": "markdown",
   "metadata": {},
   "source": [
    "### Ferry"
   ]
  },
  {
   "cell_type": "code",
   "execution_count": null,
   "metadata": {},
   "outputs": [],
   "source": [
    "# https://www.ferry-county.com/Courts%20and%20Law/Inmate%20Roster/Inmate_Roster_Page.html\n",
    "# (in the section that says \"MAY 11, 2020 - 8 inmates\")"
   ]
  },
  {
   "cell_type": "code",
   "execution_count": null,
   "metadata": {},
   "outputs": [],
   "source": [
    "# url = \"https://www.spokanecounty.org/352/Inmate-Roster'\"\n",
    "# driver = webdriver.Chrome('/Users/meaganrossi/Projects/Incarceration_COVID/chromedriver')\n",
    "# driver.implicitly_wait(3)\n",
    "# driver.get(url)\n",
    "\n",
    "# print(driver.page_source)"
   ]
  },
  {
   "cell_type": "markdown",
   "metadata": {},
   "source": [
    "### Clallam"
   ]
  },
  {
   "cell_type": "code",
   "execution_count": null,
   "metadata": {},
   "outputs": [],
   "source": [
    "# https://websrv23.clallam.net/NewWorld.InmateInquiry/WA0050000/"
   ]
  },
  {
   "cell_type": "code",
   "execution_count": null,
   "metadata": {},
   "outputs": [],
   "source": [
    "# url = \"https://www.spokanecounty.org/352/Inmate-Roster'\"\n",
    "# driver = webdriver.Chrome('/Users/meaganrossi/Projects/Incarceration_COVID/chromedriver')\n",
    "# driver.implicitly_wait(3)\n",
    "# driver.get(url)\n",
    "\n",
    "# print(driver.page_source)"
   ]
  },
  {
   "cell_type": "markdown",
   "metadata": {},
   "source": [
    "### Adams"
   ]
  },
  {
   "cell_type": "code",
   "execution_count": null,
   "metadata": {},
   "outputs": [],
   "source": [
    "# https://www.co.adams.wa.us/government/jail_roster_and_booking_information/index.php\n",
    "# (View Jail Roster Information)"
   ]
  },
  {
   "cell_type": "code",
   "execution_count": null,
   "metadata": {},
   "outputs": [],
   "source": [
    "# url = \"https://www.spokanecounty.org/352/Inmate-Roster'\"\n",
    "# driver = webdriver.Chrome('/Users/meaganrossi/Projects/Incarceration_COVID/chromedriver')\n",
    "# driver.implicitly_wait(3)\n",
    "# driver.get(url)\n",
    "\n",
    "# print(driver.page_source)"
   ]
  },
  {
   "cell_type": "code",
   "execution_count": null,
   "metadata": {},
   "outputs": [],
   "source": []
  },
  {
   "cell_type": "code",
   "execution_count": null,
   "metadata": {},
   "outputs": [],
   "source": []
  },
  {
   "cell_type": "code",
   "execution_count": null,
   "metadata": {},
   "outputs": [],
   "source": []
  }
 ],
 "metadata": {
  "kernelspec": {
   "display_name": "Python 3",
   "language": "python",
   "name": "python3"
  },
  "language_info": {
   "codemirror_mode": {
    "name": "ipython",
    "version": 3
   },
   "file_extension": ".py",
   "mimetype": "text/x-python",
   "name": "python",
   "nbconvert_exporter": "python",
   "pygments_lexer": "ipython3",
   "version": "3.7.7"
  },
  "toc": {
   "base_numbering": 1,
   "nav_menu": {},
   "number_sections": true,
   "sideBar": true,
   "skip_h1_title": false,
   "title_cell": "Table of Contents",
   "title_sidebar": "Contents",
   "toc_cell": false,
   "toc_position": {},
   "toc_section_display": true,
   "toc_window_display": false
  }
 },
 "nbformat": 4,
 "nbformat_minor": 4
}
